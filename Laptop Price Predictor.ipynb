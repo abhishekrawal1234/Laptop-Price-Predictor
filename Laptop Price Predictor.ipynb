{
 "cells": [
  {
   "cell_type": "code",
   "execution_count": 638,
   "id": "0ad06362",
   "metadata": {},
   "outputs": [],
   "source": [
    "import numpy as np\n",
    "import pandas as pd\n",
    "import seaborn as sns\n",
    "import matplotlib.pyplot as plt"
   ]
  },
  {
   "cell_type": "code",
   "execution_count": 639,
   "id": "28577a8f",
   "metadata": {},
   "outputs": [],
   "source": [
    "df=pd.read_csv(\"laptop_data.csv\")"
   ]
  },
  {
   "cell_type": "code",
   "execution_count": 640,
   "id": "be048b10",
   "metadata": {},
   "outputs": [],
   "source": [
    "df.drop(columns=[\"Unnamed: 0\"],inplace=True)"
   ]
  },
  {
   "cell_type": "code",
   "execution_count": 641,
   "id": "83f1af2c",
   "metadata": {},
   "outputs": [
    {
     "data": {
      "text/html": [
       "<div>\n",
       "<style scoped>\n",
       "    .dataframe tbody tr th:only-of-type {\n",
       "        vertical-align: middle;\n",
       "    }\n",
       "\n",
       "    .dataframe tbody tr th {\n",
       "        vertical-align: top;\n",
       "    }\n",
       "\n",
       "    .dataframe thead th {\n",
       "        text-align: right;\n",
       "    }\n",
       "</style>\n",
       "<table border=\"1\" class=\"dataframe\">\n",
       "  <thead>\n",
       "    <tr style=\"text-align: right;\">\n",
       "      <th></th>\n",
       "      <th>Company</th>\n",
       "      <th>TypeName</th>\n",
       "      <th>Inches</th>\n",
       "      <th>ScreenResolution</th>\n",
       "      <th>Cpu</th>\n",
       "      <th>Ram</th>\n",
       "      <th>Memory</th>\n",
       "      <th>Gpu</th>\n",
       "      <th>OpSys</th>\n",
       "      <th>Weight</th>\n",
       "      <th>Price</th>\n",
       "    </tr>\n",
       "  </thead>\n",
       "  <tbody>\n",
       "    <tr>\n",
       "      <th>0</th>\n",
       "      <td>Apple</td>\n",
       "      <td>Ultrabook</td>\n",
       "      <td>13.3</td>\n",
       "      <td>IPS Panel Retina Display 2560x1600</td>\n",
       "      <td>Intel Core i5 2.3GHz</td>\n",
       "      <td>8GB</td>\n",
       "      <td>128GB SSD</td>\n",
       "      <td>Intel Iris Plus Graphics 640</td>\n",
       "      <td>macOS</td>\n",
       "      <td>1.37kg</td>\n",
       "      <td>71378.6832</td>\n",
       "    </tr>\n",
       "    <tr>\n",
       "      <th>1</th>\n",
       "      <td>Apple</td>\n",
       "      <td>Ultrabook</td>\n",
       "      <td>13.3</td>\n",
       "      <td>1440x900</td>\n",
       "      <td>Intel Core i5 1.8GHz</td>\n",
       "      <td>8GB</td>\n",
       "      <td>128GB Flash Storage</td>\n",
       "      <td>Intel HD Graphics 6000</td>\n",
       "      <td>macOS</td>\n",
       "      <td>1.34kg</td>\n",
       "      <td>47895.5232</td>\n",
       "    </tr>\n",
       "    <tr>\n",
       "      <th>2</th>\n",
       "      <td>HP</td>\n",
       "      <td>Notebook</td>\n",
       "      <td>15.6</td>\n",
       "      <td>Full HD 1920x1080</td>\n",
       "      <td>Intel Core i5 7200U 2.5GHz</td>\n",
       "      <td>8GB</td>\n",
       "      <td>256GB SSD</td>\n",
       "      <td>Intel HD Graphics 620</td>\n",
       "      <td>No OS</td>\n",
       "      <td>1.86kg</td>\n",
       "      <td>30636.0000</td>\n",
       "    </tr>\n",
       "    <tr>\n",
       "      <th>3</th>\n",
       "      <td>Apple</td>\n",
       "      <td>Ultrabook</td>\n",
       "      <td>15.4</td>\n",
       "      <td>IPS Panel Retina Display 2880x1800</td>\n",
       "      <td>Intel Core i7 2.7GHz</td>\n",
       "      <td>16GB</td>\n",
       "      <td>512GB SSD</td>\n",
       "      <td>AMD Radeon Pro 455</td>\n",
       "      <td>macOS</td>\n",
       "      <td>1.83kg</td>\n",
       "      <td>135195.3360</td>\n",
       "    </tr>\n",
       "    <tr>\n",
       "      <th>4</th>\n",
       "      <td>Apple</td>\n",
       "      <td>Ultrabook</td>\n",
       "      <td>13.3</td>\n",
       "      <td>IPS Panel Retina Display 2560x1600</td>\n",
       "      <td>Intel Core i5 3.1GHz</td>\n",
       "      <td>8GB</td>\n",
       "      <td>256GB SSD</td>\n",
       "      <td>Intel Iris Plus Graphics 650</td>\n",
       "      <td>macOS</td>\n",
       "      <td>1.37kg</td>\n",
       "      <td>96095.8080</td>\n",
       "    </tr>\n",
       "    <tr>\n",
       "      <th>...</th>\n",
       "      <td>...</td>\n",
       "      <td>...</td>\n",
       "      <td>...</td>\n",
       "      <td>...</td>\n",
       "      <td>...</td>\n",
       "      <td>...</td>\n",
       "      <td>...</td>\n",
       "      <td>...</td>\n",
       "      <td>...</td>\n",
       "      <td>...</td>\n",
       "      <td>...</td>\n",
       "    </tr>\n",
       "    <tr>\n",
       "      <th>1298</th>\n",
       "      <td>Lenovo</td>\n",
       "      <td>2 in 1 Convertible</td>\n",
       "      <td>14.0</td>\n",
       "      <td>IPS Panel Full HD / Touchscreen 1920x1080</td>\n",
       "      <td>Intel Core i7 6500U 2.5GHz</td>\n",
       "      <td>4GB</td>\n",
       "      <td>128GB SSD</td>\n",
       "      <td>Intel HD Graphics 520</td>\n",
       "      <td>Windows 10</td>\n",
       "      <td>1.8kg</td>\n",
       "      <td>33992.6400</td>\n",
       "    </tr>\n",
       "    <tr>\n",
       "      <th>1299</th>\n",
       "      <td>Lenovo</td>\n",
       "      <td>2 in 1 Convertible</td>\n",
       "      <td>13.3</td>\n",
       "      <td>IPS Panel Quad HD+ / Touchscreen 3200x1800</td>\n",
       "      <td>Intel Core i7 6500U 2.5GHz</td>\n",
       "      <td>16GB</td>\n",
       "      <td>512GB SSD</td>\n",
       "      <td>Intel HD Graphics 520</td>\n",
       "      <td>Windows 10</td>\n",
       "      <td>1.3kg</td>\n",
       "      <td>79866.7200</td>\n",
       "    </tr>\n",
       "    <tr>\n",
       "      <th>1300</th>\n",
       "      <td>Lenovo</td>\n",
       "      <td>Notebook</td>\n",
       "      <td>14.0</td>\n",
       "      <td>1366x768</td>\n",
       "      <td>Intel Celeron Dual Core N3050 1.6GHz</td>\n",
       "      <td>2GB</td>\n",
       "      <td>64GB Flash Storage</td>\n",
       "      <td>Intel HD Graphics</td>\n",
       "      <td>Windows 10</td>\n",
       "      <td>1.5kg</td>\n",
       "      <td>12201.1200</td>\n",
       "    </tr>\n",
       "    <tr>\n",
       "      <th>1301</th>\n",
       "      <td>HP</td>\n",
       "      <td>Notebook</td>\n",
       "      <td>15.6</td>\n",
       "      <td>1366x768</td>\n",
       "      <td>Intel Core i7 6500U 2.5GHz</td>\n",
       "      <td>6GB</td>\n",
       "      <td>1TB HDD</td>\n",
       "      <td>AMD Radeon R5 M330</td>\n",
       "      <td>Windows 10</td>\n",
       "      <td>2.19kg</td>\n",
       "      <td>40705.9200</td>\n",
       "    </tr>\n",
       "    <tr>\n",
       "      <th>1302</th>\n",
       "      <td>Asus</td>\n",
       "      <td>Notebook</td>\n",
       "      <td>15.6</td>\n",
       "      <td>1366x768</td>\n",
       "      <td>Intel Celeron Dual Core N3050 1.6GHz</td>\n",
       "      <td>4GB</td>\n",
       "      <td>500GB HDD</td>\n",
       "      <td>Intel HD Graphics</td>\n",
       "      <td>Windows 10</td>\n",
       "      <td>2.2kg</td>\n",
       "      <td>19660.3200</td>\n",
       "    </tr>\n",
       "  </tbody>\n",
       "</table>\n",
       "<p>1303 rows × 11 columns</p>\n",
       "</div>"
      ],
      "text/plain": [
       "     Company            TypeName  Inches  \\\n",
       "0      Apple           Ultrabook    13.3   \n",
       "1      Apple           Ultrabook    13.3   \n",
       "2         HP            Notebook    15.6   \n",
       "3      Apple           Ultrabook    15.4   \n",
       "4      Apple           Ultrabook    13.3   \n",
       "...      ...                 ...     ...   \n",
       "1298  Lenovo  2 in 1 Convertible    14.0   \n",
       "1299  Lenovo  2 in 1 Convertible    13.3   \n",
       "1300  Lenovo            Notebook    14.0   \n",
       "1301      HP            Notebook    15.6   \n",
       "1302    Asus            Notebook    15.6   \n",
       "\n",
       "                                ScreenResolution  \\\n",
       "0             IPS Panel Retina Display 2560x1600   \n",
       "1                                       1440x900   \n",
       "2                              Full HD 1920x1080   \n",
       "3             IPS Panel Retina Display 2880x1800   \n",
       "4             IPS Panel Retina Display 2560x1600   \n",
       "...                                          ...   \n",
       "1298   IPS Panel Full HD / Touchscreen 1920x1080   \n",
       "1299  IPS Panel Quad HD+ / Touchscreen 3200x1800   \n",
       "1300                                    1366x768   \n",
       "1301                                    1366x768   \n",
       "1302                                    1366x768   \n",
       "\n",
       "                                       Cpu   Ram               Memory  \\\n",
       "0                     Intel Core i5 2.3GHz   8GB            128GB SSD   \n",
       "1                     Intel Core i5 1.8GHz   8GB  128GB Flash Storage   \n",
       "2               Intel Core i5 7200U 2.5GHz   8GB            256GB SSD   \n",
       "3                     Intel Core i7 2.7GHz  16GB            512GB SSD   \n",
       "4                     Intel Core i5 3.1GHz   8GB            256GB SSD   \n",
       "...                                    ...   ...                  ...   \n",
       "1298            Intel Core i7 6500U 2.5GHz   4GB            128GB SSD   \n",
       "1299            Intel Core i7 6500U 2.5GHz  16GB            512GB SSD   \n",
       "1300  Intel Celeron Dual Core N3050 1.6GHz   2GB   64GB Flash Storage   \n",
       "1301            Intel Core i7 6500U 2.5GHz   6GB              1TB HDD   \n",
       "1302  Intel Celeron Dual Core N3050 1.6GHz   4GB            500GB HDD   \n",
       "\n",
       "                               Gpu       OpSys  Weight        Price  \n",
       "0     Intel Iris Plus Graphics 640       macOS  1.37kg   71378.6832  \n",
       "1           Intel HD Graphics 6000       macOS  1.34kg   47895.5232  \n",
       "2            Intel HD Graphics 620       No OS  1.86kg   30636.0000  \n",
       "3               AMD Radeon Pro 455       macOS  1.83kg  135195.3360  \n",
       "4     Intel Iris Plus Graphics 650       macOS  1.37kg   96095.8080  \n",
       "...                            ...         ...     ...          ...  \n",
       "1298         Intel HD Graphics 520  Windows 10   1.8kg   33992.6400  \n",
       "1299         Intel HD Graphics 520  Windows 10   1.3kg   79866.7200  \n",
       "1300             Intel HD Graphics  Windows 10   1.5kg   12201.1200  \n",
       "1301            AMD Radeon R5 M330  Windows 10  2.19kg   40705.9200  \n",
       "1302             Intel HD Graphics  Windows 10   2.2kg   19660.3200  \n",
       "\n",
       "[1303 rows x 11 columns]"
      ]
     },
     "execution_count": 641,
     "metadata": {},
     "output_type": "execute_result"
    }
   ],
   "source": [
    "df"
   ]
  },
  {
   "cell_type": "code",
   "execution_count": 642,
   "id": "208ce250",
   "metadata": {},
   "outputs": [
    {
     "name": "stdout",
     "output_type": "stream",
     "text": [
      "<class 'pandas.core.frame.DataFrame'>\n",
      "RangeIndex: 1303 entries, 0 to 1302\n",
      "Data columns (total 11 columns):\n",
      " #   Column            Non-Null Count  Dtype  \n",
      "---  ------            --------------  -----  \n",
      " 0   Company           1303 non-null   object \n",
      " 1   TypeName          1303 non-null   object \n",
      " 2   Inches            1303 non-null   float64\n",
      " 3   ScreenResolution  1303 non-null   object \n",
      " 4   Cpu               1303 non-null   object \n",
      " 5   Ram               1303 non-null   object \n",
      " 6   Memory            1303 non-null   object \n",
      " 7   Gpu               1303 non-null   object \n",
      " 8   OpSys             1303 non-null   object \n",
      " 9   Weight            1303 non-null   object \n",
      " 10  Price             1303 non-null   float64\n",
      "dtypes: float64(2), object(9)\n",
      "memory usage: 112.1+ KB\n"
     ]
    }
   ],
   "source": [
    "df.info()"
   ]
  },
  {
   "cell_type": "code",
   "execution_count": 643,
   "id": "b1809a7d",
   "metadata": {},
   "outputs": [
    {
     "data": {
      "text/plain": [
       "Company             0\n",
       "TypeName            0\n",
       "Inches              0\n",
       "ScreenResolution    0\n",
       "Cpu                 0\n",
       "Ram                 0\n",
       "Memory              0\n",
       "Gpu                 0\n",
       "OpSys               0\n",
       "Weight              0\n",
       "Price               0\n",
       "dtype: int64"
      ]
     },
     "execution_count": 643,
     "metadata": {},
     "output_type": "execute_result"
    }
   ],
   "source": [
    "df.isnull().sum()"
   ]
  },
  {
   "cell_type": "code",
   "execution_count": 644,
   "id": "aa2b2e76",
   "metadata": {},
   "outputs": [
    {
     "data": {
      "text/plain": [
       "29"
      ]
     },
     "execution_count": 644,
     "metadata": {},
     "output_type": "execute_result"
    }
   ],
   "source": [
    "df.duplicated().sum()"
   ]
  },
  {
   "cell_type": "code",
   "execution_count": 645,
   "id": "2226725f",
   "metadata": {},
   "outputs": [],
   "source": [
    "df.drop_duplicates(inplace=True)"
   ]
  },
  {
   "cell_type": "code",
   "execution_count": 646,
   "id": "6a00a796",
   "metadata": {},
   "outputs": [
    {
     "data": {
      "text/plain": [
       "0"
      ]
     },
     "execution_count": 646,
     "metadata": {},
     "output_type": "execute_result"
    }
   ],
   "source": [
    "df.duplicated().sum()"
   ]
  },
  {
   "cell_type": "code",
   "execution_count": 647,
   "id": "c8752a28",
   "metadata": {},
   "outputs": [],
   "source": [
    "df[\"Ram\"]=df[\"Ram\"].str.replace(\"GB\",\"\")\n",
    "df[\"Weight\"]=df[\"Weight\"].str.replace(\"kg\",\"\")"
   ]
  },
  {
   "cell_type": "code",
   "execution_count": 648,
   "id": "16ca0733",
   "metadata": {},
   "outputs": [
    {
     "data": {
      "text/html": [
       "<div>\n",
       "<style scoped>\n",
       "    .dataframe tbody tr th:only-of-type {\n",
       "        vertical-align: middle;\n",
       "    }\n",
       "\n",
       "    .dataframe tbody tr th {\n",
       "        vertical-align: top;\n",
       "    }\n",
       "\n",
       "    .dataframe thead th {\n",
       "        text-align: right;\n",
       "    }\n",
       "</style>\n",
       "<table border=\"1\" class=\"dataframe\">\n",
       "  <thead>\n",
       "    <tr style=\"text-align: right;\">\n",
       "      <th></th>\n",
       "      <th>Company</th>\n",
       "      <th>TypeName</th>\n",
       "      <th>Inches</th>\n",
       "      <th>ScreenResolution</th>\n",
       "      <th>Cpu</th>\n",
       "      <th>Ram</th>\n",
       "      <th>Memory</th>\n",
       "      <th>Gpu</th>\n",
       "      <th>OpSys</th>\n",
       "      <th>Weight</th>\n",
       "      <th>Price</th>\n",
       "    </tr>\n",
       "  </thead>\n",
       "  <tbody>\n",
       "    <tr>\n",
       "      <th>0</th>\n",
       "      <td>Apple</td>\n",
       "      <td>Ultrabook</td>\n",
       "      <td>13.3</td>\n",
       "      <td>IPS Panel Retina Display 2560x1600</td>\n",
       "      <td>Intel Core i5 2.3GHz</td>\n",
       "      <td>8</td>\n",
       "      <td>128GB SSD</td>\n",
       "      <td>Intel Iris Plus Graphics 640</td>\n",
       "      <td>macOS</td>\n",
       "      <td>1.37</td>\n",
       "      <td>71378.6832</td>\n",
       "    </tr>\n",
       "    <tr>\n",
       "      <th>1</th>\n",
       "      <td>Apple</td>\n",
       "      <td>Ultrabook</td>\n",
       "      <td>13.3</td>\n",
       "      <td>1440x900</td>\n",
       "      <td>Intel Core i5 1.8GHz</td>\n",
       "      <td>8</td>\n",
       "      <td>128GB Flash Storage</td>\n",
       "      <td>Intel HD Graphics 6000</td>\n",
       "      <td>macOS</td>\n",
       "      <td>1.34</td>\n",
       "      <td>47895.5232</td>\n",
       "    </tr>\n",
       "    <tr>\n",
       "      <th>2</th>\n",
       "      <td>HP</td>\n",
       "      <td>Notebook</td>\n",
       "      <td>15.6</td>\n",
       "      <td>Full HD 1920x1080</td>\n",
       "      <td>Intel Core i5 7200U 2.5GHz</td>\n",
       "      <td>8</td>\n",
       "      <td>256GB SSD</td>\n",
       "      <td>Intel HD Graphics 620</td>\n",
       "      <td>No OS</td>\n",
       "      <td>1.86</td>\n",
       "      <td>30636.0000</td>\n",
       "    </tr>\n",
       "    <tr>\n",
       "      <th>3</th>\n",
       "      <td>Apple</td>\n",
       "      <td>Ultrabook</td>\n",
       "      <td>15.4</td>\n",
       "      <td>IPS Panel Retina Display 2880x1800</td>\n",
       "      <td>Intel Core i7 2.7GHz</td>\n",
       "      <td>16</td>\n",
       "      <td>512GB SSD</td>\n",
       "      <td>AMD Radeon Pro 455</td>\n",
       "      <td>macOS</td>\n",
       "      <td>1.83</td>\n",
       "      <td>135195.3360</td>\n",
       "    </tr>\n",
       "    <tr>\n",
       "      <th>4</th>\n",
       "      <td>Apple</td>\n",
       "      <td>Ultrabook</td>\n",
       "      <td>13.3</td>\n",
       "      <td>IPS Panel Retina Display 2560x1600</td>\n",
       "      <td>Intel Core i5 3.1GHz</td>\n",
       "      <td>8</td>\n",
       "      <td>256GB SSD</td>\n",
       "      <td>Intel Iris Plus Graphics 650</td>\n",
       "      <td>macOS</td>\n",
       "      <td>1.37</td>\n",
       "      <td>96095.8080</td>\n",
       "    </tr>\n",
       "    <tr>\n",
       "      <th>...</th>\n",
       "      <td>...</td>\n",
       "      <td>...</td>\n",
       "      <td>...</td>\n",
       "      <td>...</td>\n",
       "      <td>...</td>\n",
       "      <td>...</td>\n",
       "      <td>...</td>\n",
       "      <td>...</td>\n",
       "      <td>...</td>\n",
       "      <td>...</td>\n",
       "      <td>...</td>\n",
       "    </tr>\n",
       "    <tr>\n",
       "      <th>1269</th>\n",
       "      <td>Asus</td>\n",
       "      <td>Notebook</td>\n",
       "      <td>15.6</td>\n",
       "      <td>1366x768</td>\n",
       "      <td>Intel Core i7 6500U 2.5GHz</td>\n",
       "      <td>4</td>\n",
       "      <td>500GB HDD</td>\n",
       "      <td>Nvidia GeForce 920M</td>\n",
       "      <td>Windows 10</td>\n",
       "      <td>2.2</td>\n",
       "      <td>38378.6496</td>\n",
       "    </tr>\n",
       "    <tr>\n",
       "      <th>1270</th>\n",
       "      <td>Lenovo</td>\n",
       "      <td>2 in 1 Convertible</td>\n",
       "      <td>14.0</td>\n",
       "      <td>IPS Panel Full HD / Touchscreen 1920x1080</td>\n",
       "      <td>Intel Core i7 6500U 2.5GHz</td>\n",
       "      <td>4</td>\n",
       "      <td>128GB SSD</td>\n",
       "      <td>Intel HD Graphics 520</td>\n",
       "      <td>Windows 10</td>\n",
       "      <td>1.8</td>\n",
       "      <td>33992.6400</td>\n",
       "    </tr>\n",
       "    <tr>\n",
       "      <th>1271</th>\n",
       "      <td>Lenovo</td>\n",
       "      <td>2 in 1 Convertible</td>\n",
       "      <td>13.3</td>\n",
       "      <td>IPS Panel Quad HD+ / Touchscreen 3200x1800</td>\n",
       "      <td>Intel Core i7 6500U 2.5GHz</td>\n",
       "      <td>16</td>\n",
       "      <td>512GB SSD</td>\n",
       "      <td>Intel HD Graphics 520</td>\n",
       "      <td>Windows 10</td>\n",
       "      <td>1.3</td>\n",
       "      <td>79866.7200</td>\n",
       "    </tr>\n",
       "    <tr>\n",
       "      <th>1272</th>\n",
       "      <td>Lenovo</td>\n",
       "      <td>Notebook</td>\n",
       "      <td>14.0</td>\n",
       "      <td>1366x768</td>\n",
       "      <td>Intel Celeron Dual Core N3050 1.6GHz</td>\n",
       "      <td>2</td>\n",
       "      <td>64GB Flash Storage</td>\n",
       "      <td>Intel HD Graphics</td>\n",
       "      <td>Windows 10</td>\n",
       "      <td>1.5</td>\n",
       "      <td>12201.1200</td>\n",
       "    </tr>\n",
       "    <tr>\n",
       "      <th>1273</th>\n",
       "      <td>HP</td>\n",
       "      <td>Notebook</td>\n",
       "      <td>15.6</td>\n",
       "      <td>1366x768</td>\n",
       "      <td>Intel Core i7 6500U 2.5GHz</td>\n",
       "      <td>6</td>\n",
       "      <td>1TB HDD</td>\n",
       "      <td>AMD Radeon R5 M330</td>\n",
       "      <td>Windows 10</td>\n",
       "      <td>2.19</td>\n",
       "      <td>40705.9200</td>\n",
       "    </tr>\n",
       "  </tbody>\n",
       "</table>\n",
       "<p>1274 rows × 11 columns</p>\n",
       "</div>"
      ],
      "text/plain": [
       "     Company            TypeName  Inches  \\\n",
       "0      Apple           Ultrabook    13.3   \n",
       "1      Apple           Ultrabook    13.3   \n",
       "2         HP            Notebook    15.6   \n",
       "3      Apple           Ultrabook    15.4   \n",
       "4      Apple           Ultrabook    13.3   \n",
       "...      ...                 ...     ...   \n",
       "1269    Asus            Notebook    15.6   \n",
       "1270  Lenovo  2 in 1 Convertible    14.0   \n",
       "1271  Lenovo  2 in 1 Convertible    13.3   \n",
       "1272  Lenovo            Notebook    14.0   \n",
       "1273      HP            Notebook    15.6   \n",
       "\n",
       "                                ScreenResolution  \\\n",
       "0             IPS Panel Retina Display 2560x1600   \n",
       "1                                       1440x900   \n",
       "2                              Full HD 1920x1080   \n",
       "3             IPS Panel Retina Display 2880x1800   \n",
       "4             IPS Panel Retina Display 2560x1600   \n",
       "...                                          ...   \n",
       "1269                                    1366x768   \n",
       "1270   IPS Panel Full HD / Touchscreen 1920x1080   \n",
       "1271  IPS Panel Quad HD+ / Touchscreen 3200x1800   \n",
       "1272                                    1366x768   \n",
       "1273                                    1366x768   \n",
       "\n",
       "                                       Cpu Ram               Memory  \\\n",
       "0                     Intel Core i5 2.3GHz   8            128GB SSD   \n",
       "1                     Intel Core i5 1.8GHz   8  128GB Flash Storage   \n",
       "2               Intel Core i5 7200U 2.5GHz   8            256GB SSD   \n",
       "3                     Intel Core i7 2.7GHz  16            512GB SSD   \n",
       "4                     Intel Core i5 3.1GHz   8            256GB SSD   \n",
       "...                                    ...  ..                  ...   \n",
       "1269            Intel Core i7 6500U 2.5GHz   4            500GB HDD   \n",
       "1270            Intel Core i7 6500U 2.5GHz   4            128GB SSD   \n",
       "1271            Intel Core i7 6500U 2.5GHz  16            512GB SSD   \n",
       "1272  Intel Celeron Dual Core N3050 1.6GHz   2   64GB Flash Storage   \n",
       "1273            Intel Core i7 6500U 2.5GHz   6              1TB HDD   \n",
       "\n",
       "                               Gpu       OpSys Weight        Price  \n",
       "0     Intel Iris Plus Graphics 640       macOS   1.37   71378.6832  \n",
       "1           Intel HD Graphics 6000       macOS   1.34   47895.5232  \n",
       "2            Intel HD Graphics 620       No OS   1.86   30636.0000  \n",
       "3               AMD Radeon Pro 455       macOS   1.83  135195.3360  \n",
       "4     Intel Iris Plus Graphics 650       macOS   1.37   96095.8080  \n",
       "...                            ...         ...    ...          ...  \n",
       "1269           Nvidia GeForce 920M  Windows 10    2.2   38378.6496  \n",
       "1270         Intel HD Graphics 520  Windows 10    1.8   33992.6400  \n",
       "1271         Intel HD Graphics 520  Windows 10    1.3   79866.7200  \n",
       "1272             Intel HD Graphics  Windows 10    1.5   12201.1200  \n",
       "1273            AMD Radeon R5 M330  Windows 10   2.19   40705.9200  \n",
       "\n",
       "[1274 rows x 11 columns]"
      ]
     },
     "execution_count": 648,
     "metadata": {},
     "output_type": "execute_result"
    }
   ],
   "source": [
    "df"
   ]
  },
  {
   "cell_type": "code",
   "execution_count": 649,
   "id": "beabd4ab",
   "metadata": {},
   "outputs": [],
   "source": [
    "df[\"Ram\"]=df[\"Ram\"].astype('int32')\n",
    "df[\"Weight\"]=df[\"Weight\"].astype(\"float\")"
   ]
  },
  {
   "cell_type": "code",
   "execution_count": 650,
   "id": "6a9c7ac7",
   "metadata": {},
   "outputs": [
    {
     "name": "stdout",
     "output_type": "stream",
     "text": [
      "<class 'pandas.core.frame.DataFrame'>\n",
      "Int64Index: 1274 entries, 0 to 1273\n",
      "Data columns (total 11 columns):\n",
      " #   Column            Non-Null Count  Dtype  \n",
      "---  ------            --------------  -----  \n",
      " 0   Company           1274 non-null   object \n",
      " 1   TypeName          1274 non-null   object \n",
      " 2   Inches            1274 non-null   float64\n",
      " 3   ScreenResolution  1274 non-null   object \n",
      " 4   Cpu               1274 non-null   object \n",
      " 5   Ram               1274 non-null   int32  \n",
      " 6   Memory            1274 non-null   object \n",
      " 7   Gpu               1274 non-null   object \n",
      " 8   OpSys             1274 non-null   object \n",
      " 9   Weight            1274 non-null   float64\n",
      " 10  Price             1274 non-null   float64\n",
      "dtypes: float64(3), int32(1), object(7)\n",
      "memory usage: 114.5+ KB\n"
     ]
    }
   ],
   "source": [
    "df.info()"
   ]
  },
  {
   "cell_type": "code",
   "execution_count": 651,
   "id": "202c4fee",
   "metadata": {},
   "outputs": [
    {
     "data": {
      "text/plain": [
       "<Axes: xlabel='Price', ylabel='Count'>"
      ]
     },
     "execution_count": 651,
     "metadata": {},
     "output_type": "execute_result"
    },
    {
     "data": {
      "image/png": "[encoded data removed]",
      "text/plain": [
       "<Figure size 640x480 with 1 Axes>"
      ]
     },
     "metadata": {},
     "output_type": "display_data"
    }
   ],
   "source": [
    "#As we see here that majorly laptop are priced around 500000 and the column is right skewed\n",
    "sns.histplot(df[\"Price\"],kde=True)\n",
    "#//log lene padega"
   ]
  },
  {
   "cell_type": "code",
   "execution_count": 652,
   "id": "3f3936bf",
   "metadata": {},
   "outputs": [
    {
     "data": {
      "text/plain": [
       "<Axes: >"
      ]
     },
     "execution_count": 652,
     "metadata": {},
     "output_type": "execute_result"
    },
    {
     "data": {
      "image/png": "[encoded data removed]",
      "text/plain": [
       "<Figure size 640x480 with 1 Axes>"
      ]
     },
     "metadata": {},
     "output_type": "display_data"
    }
   ],
   "source": [
    "#top 5 selling laptops are Dell,Lenovo,HP,Asus,Acer,Msi\n",
    "df[\"Company\"].value_counts().plot(kind=\"bar\")\n"
   ]
  },
  {
   "cell_type": "code",
   "execution_count": 653,
   "id": "68d5167e",
   "metadata": {},
   "outputs": [
    {
     "data": {
      "text/plain": [
       "(1274, 11)"
      ]
     },
     "execution_count": 653,
     "metadata": {},
     "output_type": "execute_result"
    }
   ],
   "source": [
    "df.shape"
   ]
  },
  {
   "cell_type": "code",
   "execution_count": 654,
   "id": "a2e53ec7",
   "metadata": {},
   "outputs": [
    {
     "data": {
      "image/png": "[encoded data removed]",
      "text/plain": [
       "<Figure size 640x480 with 1 Axes>"
      ]
     },
     "metadata": {},
     "output_type": "display_data"
    }
   ],
   "source": [
    "# Razor,Apple,Lg,Microsoft,Apple,Msi,Microsoft are premium range laptops\n",
    "#while Dell,Asus,Lenovo,HP are budget range laptops which has the best sales\n",
    "sns.barplot(x=df[\"Company\"],y=df[\"Price\"])\n",
    "plt.xticks(rotation=\"vertical\")\n",
    "plt.show()"
   ]
  },
  {
   "cell_type": "code",
   "execution_count": 655,
   "id": "0ac26309",
   "metadata": {},
   "outputs": [
    {
     "data": {
      "text/plain": [
       "<Axes: >"
      ]
     },
     "execution_count": 655,
     "metadata": {},
     "output_type": "execute_result"
    },
    {
     "data": {
      "image/png": "[encoded data removed]",
      "text/plain": [
       "<Figure size 640x480 with 1 Axes>"
      ]
     },
     "metadata": {},
     "output_type": "display_data"
    }
   ],
   "source": [
    "#so,notebook type laptops are the best selling laptops\n",
    "df[\"TypeName\"].value_counts().plot(kind=\"bar\")"
   ]
  },
  {
   "cell_type": "code",
   "execution_count": 656,
   "id": "0367e007",
   "metadata": {},
   "outputs": [
    {
     "data": {
      "image/png": "[encoded data removed]",
      "text/plain": [
       "<Figure size 640x480 with 1 Axes>"
      ]
     },
     "metadata": {},
     "output_type": "display_data"
    }
   ],
   "source": [
    "sns.barplot(x=df[\"TypeName\"],y=df[\"Price\"])\n",
    "plt.xticks(rotation=\"vertical\")\n",
    "plt.show()"
   ]
  },
  {
   "cell_type": "code",
   "execution_count": 657,
   "id": "385c9c0c",
   "metadata": {},
   "outputs": [],
   "source": [
    "df[\"TouchScreen\"]=df[\"ScreenResolution\"].apply(lambda x:1 if 'Touchscreen' in x else 0)"
   ]
  },
  {
   "cell_type": "code",
   "execution_count": 658,
   "id": "e0bb1aa3",
   "metadata": {},
   "outputs": [
    {
     "data": {
      "text/plain": [
       "<Axes: >"
      ]
     },
     "execution_count": 658,
     "metadata": {},
     "output_type": "execute_result"
    },
    {
     "data": {
      "image/png": "[encoded data removed]",
      "text/plain": [
       "<Figure size 640x480 with 1 Axes>"
      ]
     },
     "metadata": {},
     "output_type": "display_data"
    }
   ],
   "source": [
    "# Non-TouchScreen are in majority here\n",
    "df[\"TouchScreen\"].value_counts().plot(kind=\"bar\")"
   ]
  },
  {
   "cell_type": "code",
   "execution_count": 659,
   "id": "d8a053ac",
   "metadata": {},
   "outputs": [
    {
     "data": {
      "text/plain": [
       "<Axes: xlabel='TouchScreen', ylabel='Price'>"
      ]
     },
     "execution_count": 659,
     "metadata": {},
     "output_type": "execute_result"
    },
    {
     "data": {
      "image/png": "[encoded data removed]",
      "text/plain": [
       "<Figure size 640x480 with 1 Axes>"
      ]
     },
     "metadata": {},
     "output_type": "display_data"
    }
   ],
   "source": [
    "# Here it is clearly visible that Touchscreen Laptops are much costly than Non-TouchScreen Laptops \n",
    "sns.barplot(x=df[\"TouchScreen\"],y=df[\"Price\"])"
   ]
  },
  {
   "cell_type": "code",
   "execution_count": 660,
   "id": "ac55e55a",
   "metadata": {},
   "outputs": [
    {
     "data": {
      "text/plain": [
       "Full HD 1920x1080                                505\n",
       "1366x768                                         262\n",
       "IPS Panel Full HD 1920x1080                      226\n",
       "IPS Panel Full HD / Touchscreen 1920x1080         51\n",
       "Full HD / Touchscreen 1920x1080                   47\n",
       "1600x900                                          23\n",
       "Touchscreen 1366x768                              16\n",
       "Quad HD+ / Touchscreen 3200x1800                  15\n",
       "IPS Panel 4K Ultra HD 3840x2160                   12\n",
       "IPS Panel 4K Ultra HD / Touchscreen 3840x2160     11\n",
       "4K Ultra HD / Touchscreen 3840x2160               10\n",
       "4K Ultra HD 3840x2160                              7\n",
       "Touchscreen 2560x1440                              7\n",
       "IPS Panel 1366x768                                 7\n",
       "IPS Panel Retina Display 2560x1600                 6\n",
       "IPS Panel Retina Display 2304x1440                 6\n",
       "Touchscreen 2256x1504                              6\n",
       "IPS Panel Touchscreen 2560x1440                    5\n",
       "IPS Panel Quad HD+ / Touchscreen 3200x1800         4\n",
       "IPS Panel Touchscreen 1920x1200                    4\n",
       "1440x900                                           4\n",
       "IPS Panel Retina Display 2880x1800                 4\n",
       "IPS Panel 2560x1440                                4\n",
       "2560x1440                                          3\n",
       "Quad HD+ 3200x1800                                 3\n",
       "1920x1080                                          3\n",
       "Touchscreen 2400x1600                              3\n",
       "IPS Panel Quad HD+ 2560x1440                       3\n",
       "IPS Panel Touchscreen 1366x768                     3\n",
       "IPS Panel Touchscreen / 4K Ultra HD 3840x2160      2\n",
       "IPS Panel Full HD 2160x1440                        2\n",
       "IPS Panel Quad HD+ 3200x1800                       2\n",
       "IPS Panel Retina Display 2736x1824                 1\n",
       "IPS Panel Full HD 1920x1200                        1\n",
       "IPS Panel Full HD 2560x1440                        1\n",
       "IPS Panel Full HD 1366x768                         1\n",
       "Touchscreen / Full HD 1920x1080                    1\n",
       "Touchscreen / Quad HD+ 3200x1800                   1\n",
       "Touchscreen / 4K Ultra HD 3840x2160                1\n",
       "IPS Panel Touchscreen 2400x1600                    1\n",
       "Name: ScreenResolution, dtype: int64"
      ]
     },
     "execution_count": 660,
     "metadata": {},
     "output_type": "execute_result"
    }
   ],
   "source": [
    "df[\"ScreenResolution\"].value_counts()"
   ]
  },
  {
   "cell_type": "code",
   "execution_count": 661,
   "id": "c395a27a",
   "metadata": {},
   "outputs": [],
   "source": [
    "df[\"IPS Panel\"]=df[\"ScreenResolution\"].apply(lambda x: 1 if \"IPS\" in x else 0)"
   ]
  },
  {
   "cell_type": "code",
   "execution_count": 662,
   "id": "1f6b0a88",
   "metadata": {},
   "outputs": [
    {
     "data": {
      "text/plain": [
       "<Axes: >"
      ]
     },
     "execution_count": 662,
     "metadata": {},
     "output_type": "execute_result"
    },
    {
     "data": {
      "image/png": "[encoded data removed]",
      "text/plain": [
       "<Figure size 640x480 with 1 Axes>"
      ]
     },
     "metadata": {},
     "output_type": "display_data"
    }
   ],
   "source": [
    "#Laptops without ips panel are in majority\n",
    "df[\"IPS Panel\"].value_counts().plot(kind=\"bar\")"
   ]
  },
  {
   "cell_type": "code",
   "execution_count": 663,
   "id": "a17c4667",
   "metadata": {},
   "outputs": [
    {
     "data": {
      "text/plain": [
       "<Axes: xlabel='IPS Panel', ylabel='Price'>"
      ]
     },
     "execution_count": 663,
     "metadata": {},
     "output_type": "execute_result"
    },
    {
     "data": {
      "image/png": "[encoded data removed]",
      "text/plain": [
       "<Figure size 640x480 with 1 Axes>"
      ]
     },
     "metadata": {},
     "output_type": "display_data"
    }
   ],
   "source": [
    "#Laptops without ips panel are cheaper\n",
    "sns.barplot(x=df[\"IPS Panel\"],y=df[\"Price\"])"
   ]
  },
  {
   "cell_type": "code",
   "execution_count": 664,
   "id": "6cfee4cd",
   "metadata": {},
   "outputs": [
    {
     "data": {
      "text/plain": [
       "0    917\n",
       "1    357\n",
       "Name: IPS Panel, dtype: int64"
      ]
     },
     "execution_count": 664,
     "metadata": {},
     "output_type": "execute_result"
    }
   ],
   "source": [
    "df[\"IPS Panel\"].value_counts()"
   ]
  },
  {
   "cell_type": "code",
   "execution_count": 665,
   "id": "a2b2cc3c",
   "metadata": {},
   "outputs": [],
   "source": [
    "df2=df[\"ScreenResolution\"].str.split(\"x\",expand=True)#expand converts it into dataframe"
   ]
  },
  {
   "cell_type": "code",
   "execution_count": 666,
   "id": "e5e09f71",
   "metadata": {},
   "outputs": [],
   "source": [
    "df[\"yres\"]=df2[1]\n",
    "df[\"xres\"]=df2[0]"
   ]
  },
  {
   "cell_type": "code",
   "execution_count": 667,
   "id": "223bef51",
   "metadata": {},
   "outputs": [
    {
     "data": {
      "text/html": [
       "<div>\n",
       "<style scoped>\n",
       "    .dataframe tbody tr th:only-of-type {\n",
       "        vertical-align: middle;\n",
       "    }\n",
       "\n",
       "    .dataframe tbody tr th {\n",
       "        vertical-align: top;\n",
       "    }\n",
       "\n",
       "    .dataframe thead th {\n",
       "        text-align: right;\n",
       "    }\n",
       "</style>\n",
       "<table border=\"1\" class=\"dataframe\">\n",
       "  <thead>\n",
       "    <tr style=\"text-align: right;\">\n",
       "      <th></th>\n",
       "      <th>Company</th>\n",
       "      <th>TypeName</th>\n",
       "      <th>Inches</th>\n",
       "      <th>ScreenResolution</th>\n",
       "      <th>Cpu</th>\n",
       "      <th>Ram</th>\n",
       "      <th>Memory</th>\n",
       "      <th>Gpu</th>\n",
       "      <th>OpSys</th>\n",
       "      <th>Weight</th>\n",
       "      <th>Price</th>\n",
       "      <th>TouchScreen</th>\n",
       "      <th>IPS Panel</th>\n",
       "      <th>yres</th>\n",
       "      <th>xres</th>\n",
       "    </tr>\n",
       "  </thead>\n",
       "  <tbody>\n",
       "    <tr>\n",
       "      <th>0</th>\n",
       "      <td>Apple</td>\n",
       "      <td>Ultrabook</td>\n",
       "      <td>13.3</td>\n",
       "      <td>IPS Panel Retina Display 2560x1600</td>\n",
       "      <td>Intel Core i5 2.3GHz</td>\n",
       "      <td>8</td>\n",
       "      <td>128GB SSD</td>\n",
       "      <td>Intel Iris Plus Graphics 640</td>\n",
       "      <td>macOS</td>\n",
       "      <td>1.37</td>\n",
       "      <td>71378.6832</td>\n",
       "      <td>0</td>\n",
       "      <td>1</td>\n",
       "      <td>1600</td>\n",
       "      <td>IPS Panel Retina Display 2560</td>\n",
       "    </tr>\n",
       "    <tr>\n",
       "      <th>1</th>\n",
       "      <td>Apple</td>\n",
       "      <td>Ultrabook</td>\n",
       "      <td>13.3</td>\n",
       "      <td>1440x900</td>\n",
       "      <td>Intel Core i5 1.8GHz</td>\n",
       "      <td>8</td>\n",
       "      <td>128GB Flash Storage</td>\n",
       "      <td>Intel HD Graphics 6000</td>\n",
       "      <td>macOS</td>\n",
       "      <td>1.34</td>\n",
       "      <td>47895.5232</td>\n",
       "      <td>0</td>\n",
       "      <td>0</td>\n",
       "      <td>900</td>\n",
       "      <td>1440</td>\n",
       "    </tr>\n",
       "    <tr>\n",
       "      <th>2</th>\n",
       "      <td>HP</td>\n",
       "      <td>Notebook</td>\n",
       "      <td>15.6</td>\n",
       "      <td>Full HD 1920x1080</td>\n",
       "      <td>Intel Core i5 7200U 2.5GHz</td>\n",
       "      <td>8</td>\n",
       "      <td>256GB SSD</td>\n",
       "      <td>Intel HD Graphics 620</td>\n",
       "      <td>No OS</td>\n",
       "      <td>1.86</td>\n",
       "      <td>30636.0000</td>\n",
       "      <td>0</td>\n",
       "      <td>0</td>\n",
       "      <td>1080</td>\n",
       "      <td>Full HD 1920</td>\n",
       "    </tr>\n",
       "    <tr>\n",
       "      <th>3</th>\n",
       "      <td>Apple</td>\n",
       "      <td>Ultrabook</td>\n",
       "      <td>15.4</td>\n",
       "      <td>IPS Panel Retina Display 2880x1800</td>\n",
       "      <td>Intel Core i7 2.7GHz</td>\n",
       "      <td>16</td>\n",
       "      <td>512GB SSD</td>\n",
       "      <td>AMD Radeon Pro 455</td>\n",
       "      <td>macOS</td>\n",
       "      <td>1.83</td>\n",
       "      <td>135195.3360</td>\n",
       "      <td>0</td>\n",
       "      <td>1</td>\n",
       "      <td>1800</td>\n",
       "      <td>IPS Panel Retina Display 2880</td>\n",
       "    </tr>\n",
       "    <tr>\n",
       "      <th>4</th>\n",
       "      <td>Apple</td>\n",
       "      <td>Ultrabook</td>\n",
       "      <td>13.3</td>\n",
       "      <td>IPS Panel Retina Display 2560x1600</td>\n",
       "      <td>Intel Core i5 3.1GHz</td>\n",
       "      <td>8</td>\n",
       "      <td>256GB SSD</td>\n",
       "      <td>Intel Iris Plus Graphics 650</td>\n",
       "      <td>macOS</td>\n",
       "      <td>1.37</td>\n",
       "      <td>96095.8080</td>\n",
       "      <td>0</td>\n",
       "      <td>1</td>\n",
       "      <td>1600</td>\n",
       "      <td>IPS Panel Retina Display 2560</td>\n",
       "    </tr>\n",
       "    <tr>\n",
       "      <th>...</th>\n",
       "      <td>...</td>\n",
       "      <td>...</td>\n",
       "      <td>...</td>\n",
       "      <td>...</td>\n",
       "      <td>...</td>\n",
       "      <td>...</td>\n",
       "      <td>...</td>\n",
       "      <td>...</td>\n",
       "      <td>...</td>\n",
       "      <td>...</td>\n",
       "      <td>...</td>\n",
       "      <td>...</td>\n",
       "      <td>...</td>\n",
       "      <td>...</td>\n",
       "      <td>...</td>\n",
       "    </tr>\n",
       "    <tr>\n",
       "      <th>1269</th>\n",
       "      <td>Asus</td>\n",
       "      <td>Notebook</td>\n",
       "      <td>15.6</td>\n",
       "      <td>1366x768</td>\n",
       "      <td>Intel Core i7 6500U 2.5GHz</td>\n",
       "      <td>4</td>\n",
       "      <td>500GB HDD</td>\n",
       "      <td>Nvidia GeForce 920M</td>\n",
       "      <td>Windows 10</td>\n",
       "      <td>2.20</td>\n",
       "      <td>38378.6496</td>\n",
       "      <td>0</td>\n",
       "      <td>0</td>\n",
       "      <td>768</td>\n",
       "      <td>1366</td>\n",
       "    </tr>\n",
       "    <tr>\n",
       "      <th>1270</th>\n",
       "      <td>Lenovo</td>\n",
       "      <td>2 in 1 Convertible</td>\n",
       "      <td>14.0</td>\n",
       "      <td>IPS Panel Full HD / Touchscreen 1920x1080</td>\n",
       "      <td>Intel Core i7 6500U 2.5GHz</td>\n",
       "      <td>4</td>\n",
       "      <td>128GB SSD</td>\n",
       "      <td>Intel HD Graphics 520</td>\n",
       "      <td>Windows 10</td>\n",
       "      <td>1.80</td>\n",
       "      <td>33992.6400</td>\n",
       "      <td>1</td>\n",
       "      <td>1</td>\n",
       "      <td>1080</td>\n",
       "      <td>IPS Panel Full HD / Touchscreen 1920</td>\n",
       "    </tr>\n",
       "    <tr>\n",
       "      <th>1271</th>\n",
       "      <td>Lenovo</td>\n",
       "      <td>2 in 1 Convertible</td>\n",
       "      <td>13.3</td>\n",
       "      <td>IPS Panel Quad HD+ / Touchscreen 3200x1800</td>\n",
       "      <td>Intel Core i7 6500U 2.5GHz</td>\n",
       "      <td>16</td>\n",
       "      <td>512GB SSD</td>\n",
       "      <td>Intel HD Graphics 520</td>\n",
       "      <td>Windows 10</td>\n",
       "      <td>1.30</td>\n",
       "      <td>79866.7200</td>\n",
       "      <td>1</td>\n",
       "      <td>1</td>\n",
       "      <td>1800</td>\n",
       "      <td>IPS Panel Quad HD+ / Touchscreen 3200</td>\n",
       "    </tr>\n",
       "    <tr>\n",
       "      <th>1272</th>\n",
       "      <td>Lenovo</td>\n",
       "      <td>Notebook</td>\n",
       "      <td>14.0</td>\n",
       "      <td>1366x768</td>\n",
       "      <td>Intel Celeron Dual Core N3050 1.6GHz</td>\n",
       "      <td>2</td>\n",
       "      <td>64GB Flash Storage</td>\n",
       "      <td>Intel HD Graphics</td>\n",
       "      <td>Windows 10</td>\n",
       "      <td>1.50</td>\n",
       "      <td>12201.1200</td>\n",
       "      <td>0</td>\n",
       "      <td>0</td>\n",
       "      <td>768</td>\n",
       "      <td>1366</td>\n",
       "    </tr>\n",
       "    <tr>\n",
       "      <th>1273</th>\n",
       "      <td>HP</td>\n",
       "      <td>Notebook</td>\n",
       "      <td>15.6</td>\n",
       "      <td>1366x768</td>\n",
       "      <td>Intel Core i7 6500U 2.5GHz</td>\n",
       "      <td>6</td>\n",
       "      <td>1TB HDD</td>\n",
       "      <td>AMD Radeon R5 M330</td>\n",
       "      <td>Windows 10</td>\n",
       "      <td>2.19</td>\n",
       "      <td>40705.9200</td>\n",
       "      <td>0</td>\n",
       "      <td>0</td>\n",
       "      <td>768</td>\n",
       "      <td>1366</td>\n",
       "    </tr>\n",
       "  </tbody>\n",
       "</table>\n",
       "<p>1274 rows × 15 columns</p>\n",
       "</div>"
      ],
      "text/plain": [
       "     Company            TypeName  Inches  \\\n",
       "0      Apple           Ultrabook    13.3   \n",
       "1      Apple           Ultrabook    13.3   \n",
       "2         HP            Notebook    15.6   \n",
       "3      Apple           Ultrabook    15.4   \n",
       "4      Apple           Ultrabook    13.3   \n",
       "...      ...                 ...     ...   \n",
       "1269    Asus            Notebook    15.6   \n",
       "1270  Lenovo  2 in 1 Convertible    14.0   \n",
       "1271  Lenovo  2 in 1 Convertible    13.3   \n",
       "1272  Lenovo            Notebook    14.0   \n",
       "1273      HP            Notebook    15.6   \n",
       "\n",
       "                                ScreenResolution  \\\n",
       "0             IPS Panel Retina Display 2560x1600   \n",
       "1                                       1440x900   \n",
       "2                              Full HD 1920x1080   \n",
       "3             IPS Panel Retina Display 2880x1800   \n",
       "4             IPS Panel Retina Display 2560x1600   \n",
       "...                                          ...   \n",
       "1269                                    1366x768   \n",
       "1270   IPS Panel Full HD / Touchscreen 1920x1080   \n",
       "1271  IPS Panel Quad HD+ / Touchscreen 3200x1800   \n",
       "1272                                    1366x768   \n",
       "1273                                    1366x768   \n",
       "\n",
       "                                       Cpu  Ram               Memory  \\\n",
       "0                     Intel Core i5 2.3GHz    8            128GB SSD   \n",
       "1                     Intel Core i5 1.8GHz    8  128GB Flash Storage   \n",
       "2               Intel Core i5 7200U 2.5GHz    8            256GB SSD   \n",
       "3                     Intel Core i7 2.7GHz   16            512GB SSD   \n",
       "4                     Intel Core i5 3.1GHz    8            256GB SSD   \n",
       "...                                    ...  ...                  ...   \n",
       "1269            Intel Core i7 6500U 2.5GHz    4            500GB HDD   \n",
       "1270            Intel Core i7 6500U 2.5GHz    4            128GB SSD   \n",
       "1271            Intel Core i7 6500U 2.5GHz   16            512GB SSD   \n",
       "1272  Intel Celeron Dual Core N3050 1.6GHz    2   64GB Flash Storage   \n",
       "1273            Intel Core i7 6500U 2.5GHz    6              1TB HDD   \n",
       "\n",
       "                               Gpu       OpSys  Weight        Price  \\\n",
       "0     Intel Iris Plus Graphics 640       macOS    1.37   71378.6832   \n",
       "1           Intel HD Graphics 6000       macOS    1.34   47895.5232   \n",
       "2            Intel HD Graphics 620       No OS    1.86   30636.0000   \n",
       "3               AMD Radeon Pro 455       macOS    1.83  135195.3360   \n",
       "4     Intel Iris Plus Graphics 650       macOS    1.37   96095.8080   \n",
       "...                            ...         ...     ...          ...   \n",
       "1269           Nvidia GeForce 920M  Windows 10    2.20   38378.6496   \n",
       "1270         Intel HD Graphics 520  Windows 10    1.80   33992.6400   \n",
       "1271         Intel HD Graphics 520  Windows 10    1.30   79866.7200   \n",
       "1272             Intel HD Graphics  Windows 10    1.50   12201.1200   \n",
       "1273            AMD Radeon R5 M330  Windows 10    2.19   40705.9200   \n",
       "\n",
       "      TouchScreen  IPS Panel  yres                                   xres  \n",
       "0               0          1  1600          IPS Panel Retina Display 2560  \n",
       "1               0          0   900                                   1440  \n",
       "2               0          0  1080                           Full HD 1920  \n",
       "3               0          1  1800          IPS Panel Retina Display 2880  \n",
       "4               0          1  1600          IPS Panel Retina Display 2560  \n",
       "...           ...        ...   ...                                    ...  \n",
       "1269            0          0   768                                   1366  \n",
       "1270            1          1  1080   IPS Panel Full HD / Touchscreen 1920  \n",
       "1271            1          1  1800  IPS Panel Quad HD+ / Touchscreen 3200  \n",
       "1272            0          0   768                                   1366  \n",
       "1273            0          0   768                                   1366  \n",
       "\n",
       "[1274 rows x 15 columns]"
      ]
     },
     "execution_count": 667,
     "metadata": {},
     "output_type": "execute_result"
    }
   ],
   "source": [
    "df"
   ]
  },
  {
   "cell_type": "code",
   "execution_count": 668,
   "id": "38684efa",
   "metadata": {},
   "outputs": [],
   "source": [
    "df[\"xres\"]=df[\"xres\"].str.replace(',',\"\").str.findall(r'(\\d+\\.?\\d+)').apply(lambda x:x[0])"
   ]
  },
  {
   "cell_type": "code",
   "execution_count": 669,
   "id": "05b3c94f",
   "metadata": {},
   "outputs": [
    {
     "data": {
      "text/html": [
       "<div>\n",
       "<style scoped>\n",
       "    .dataframe tbody tr th:only-of-type {\n",
       "        vertical-align: middle;\n",
       "    }\n",
       "\n",
       "    .dataframe tbody tr th {\n",
       "        vertical-align: top;\n",
       "    }\n",
       "\n",
       "    .dataframe thead th {\n",
       "        text-align: right;\n",
       "    }\n",
       "</style>\n",
       "<table border=\"1\" class=\"dataframe\">\n",
       "  <thead>\n",
       "    <tr style=\"text-align: right;\">\n",
       "      <th></th>\n",
       "      <th>Company</th>\n",
       "      <th>TypeName</th>\n",
       "      <th>Inches</th>\n",
       "      <th>ScreenResolution</th>\n",
       "      <th>Cpu</th>\n",
       "      <th>Ram</th>\n",
       "      <th>Memory</th>\n",
       "      <th>Gpu</th>\n",
       "      <th>OpSys</th>\n",
       "      <th>Weight</th>\n",
       "      <th>Price</th>\n",
       "      <th>TouchScreen</th>\n",
       "      <th>IPS Panel</th>\n",
       "      <th>yres</th>\n",
       "      <th>xres</th>\n",
       "    </tr>\n",
       "  </thead>\n",
       "  <tbody>\n",
       "    <tr>\n",
       "      <th>0</th>\n",
       "      <td>Apple</td>\n",
       "      <td>Ultrabook</td>\n",
       "      <td>13.3</td>\n",
       "      <td>IPS Panel Retina Display 2560x1600</td>\n",
       "      <td>Intel Core i5 2.3GHz</td>\n",
       "      <td>8</td>\n",
       "      <td>128GB SSD</td>\n",
       "      <td>Intel Iris Plus Graphics 640</td>\n",
       "      <td>macOS</td>\n",
       "      <td>1.37</td>\n",
       "      <td>71378.6832</td>\n",
       "      <td>0</td>\n",
       "      <td>1</td>\n",
       "      <td>1600</td>\n",
       "      <td>2560</td>\n",
       "    </tr>\n",
       "    <tr>\n",
       "      <th>1</th>\n",
       "      <td>Apple</td>\n",
       "      <td>Ultrabook</td>\n",
       "      <td>13.3</td>\n",
       "      <td>1440x900</td>\n",
       "      <td>Intel Core i5 1.8GHz</td>\n",
       "      <td>8</td>\n",
       "      <td>128GB Flash Storage</td>\n",
       "      <td>Intel HD Graphics 6000</td>\n",
       "      <td>macOS</td>\n",
       "      <td>1.34</td>\n",
       "      <td>47895.5232</td>\n",
       "      <td>0</td>\n",
       "      <td>0</td>\n",
       "      <td>900</td>\n",
       "      <td>1440</td>\n",
       "    </tr>\n",
       "    <tr>\n",
       "      <th>2</th>\n",
       "      <td>HP</td>\n",
       "      <td>Notebook</td>\n",
       "      <td>15.6</td>\n",
       "      <td>Full HD 1920x1080</td>\n",
       "      <td>Intel Core i5 7200U 2.5GHz</td>\n",
       "      <td>8</td>\n",
       "      <td>256GB SSD</td>\n",
       "      <td>Intel HD Graphics 620</td>\n",
       "      <td>No OS</td>\n",
       "      <td>1.86</td>\n",
       "      <td>30636.0000</td>\n",
       "      <td>0</td>\n",
       "      <td>0</td>\n",
       "      <td>1080</td>\n",
       "      <td>1920</td>\n",
       "    </tr>\n",
       "    <tr>\n",
       "      <th>3</th>\n",
       "      <td>Apple</td>\n",
       "      <td>Ultrabook</td>\n",
       "      <td>15.4</td>\n",
       "      <td>IPS Panel Retina Display 2880x1800</td>\n",
       "      <td>Intel Core i7 2.7GHz</td>\n",
       "      <td>16</td>\n",
       "      <td>512GB SSD</td>\n",
       "      <td>AMD Radeon Pro 455</td>\n",
       "      <td>macOS</td>\n",
       "      <td>1.83</td>\n",
       "      <td>135195.3360</td>\n",
       "      <td>0</td>\n",
       "      <td>1</td>\n",
       "      <td>1800</td>\n",
       "      <td>2880</td>\n",
       "    </tr>\n",
       "    <tr>\n",
       "      <th>4</th>\n",
       "      <td>Apple</td>\n",
       "      <td>Ultrabook</td>\n",
       "      <td>13.3</td>\n",
       "      <td>IPS Panel Retina Display 2560x1600</td>\n",
       "      <td>Intel Core i5 3.1GHz</td>\n",
       "      <td>8</td>\n",
       "      <td>256GB SSD</td>\n",
       "      <td>Intel Iris Plus Graphics 650</td>\n",
       "      <td>macOS</td>\n",
       "      <td>1.37</td>\n",
       "      <td>96095.8080</td>\n",
       "      <td>0</td>\n",
       "      <td>1</td>\n",
       "      <td>1600</td>\n",
       "      <td>2560</td>\n",
       "    </tr>\n",
       "    <tr>\n",
       "      <th>...</th>\n",
       "      <td>...</td>\n",
       "      <td>...</td>\n",
       "      <td>...</td>\n",
       "      <td>...</td>\n",
       "      <td>...</td>\n",
       "      <td>...</td>\n",
       "      <td>...</td>\n",
       "      <td>...</td>\n",
       "      <td>...</td>\n",
       "      <td>...</td>\n",
       "      <td>...</td>\n",
       "      <td>...</td>\n",
       "      <td>...</td>\n",
       "      <td>...</td>\n",
       "      <td>...</td>\n",
       "    </tr>\n",
       "    <tr>\n",
       "      <th>1269</th>\n",
       "      <td>Asus</td>\n",
       "      <td>Notebook</td>\n",
       "      <td>15.6</td>\n",
       "      <td>1366x768</td>\n",
       "      <td>Intel Core i7 6500U 2.5GHz</td>\n",
       "      <td>4</td>\n",
       "      <td>500GB HDD</td>\n",
       "      <td>Nvidia GeForce 920M</td>\n",
       "      <td>Windows 10</td>\n",
       "      <td>2.20</td>\n",
       "      <td>38378.6496</td>\n",
       "      <td>0</td>\n",
       "      <td>0</td>\n",
       "      <td>768</td>\n",
       "      <td>1366</td>\n",
       "    </tr>\n",
       "    <tr>\n",
       "      <th>1270</th>\n",
       "      <td>Lenovo</td>\n",
       "      <td>2 in 1 Convertible</td>\n",
       "      <td>14.0</td>\n",
       "      <td>IPS Panel Full HD / Touchscreen 1920x1080</td>\n",
       "      <td>Intel Core i7 6500U 2.5GHz</td>\n",
       "      <td>4</td>\n",
       "      <td>128GB SSD</td>\n",
       "      <td>Intel HD Graphics 520</td>\n",
       "      <td>Windows 10</td>\n",
       "      <td>1.80</td>\n",
       "      <td>33992.6400</td>\n",
       "      <td>1</td>\n",
       "      <td>1</td>\n",
       "      <td>1080</td>\n",
       "      <td>1920</td>\n",
       "    </tr>\n",
       "    <tr>\n",
       "      <th>1271</th>\n",
       "      <td>Lenovo</td>\n",
       "      <td>2 in 1 Convertible</td>\n",
       "      <td>13.3</td>\n",
       "      <td>IPS Panel Quad HD+ / Touchscreen 3200x1800</td>\n",
       "      <td>Intel Core i7 6500U 2.5GHz</td>\n",
       "      <td>16</td>\n",
       "      <td>512GB SSD</td>\n",
       "      <td>Intel HD Graphics 520</td>\n",
       "      <td>Windows 10</td>\n",
       "      <td>1.30</td>\n",
       "      <td>79866.7200</td>\n",
       "      <td>1</td>\n",
       "      <td>1</td>\n",
       "      <td>1800</td>\n",
       "      <td>3200</td>\n",
       "    </tr>\n",
       "    <tr>\n",
       "      <th>1272</th>\n",
       "      <td>Lenovo</td>\n",
       "      <td>Notebook</td>\n",
       "      <td>14.0</td>\n",
       "      <td>1366x768</td>\n",
       "      <td>Intel Celeron Dual Core N3050 1.6GHz</td>\n",
       "      <td>2</td>\n",
       "      <td>64GB Flash Storage</td>\n",
       "      <td>Intel HD Graphics</td>\n",
       "      <td>Windows 10</td>\n",
       "      <td>1.50</td>\n",
       "      <td>12201.1200</td>\n",
       "      <td>0</td>\n",
       "      <td>0</td>\n",
       "      <td>768</td>\n",
       "      <td>1366</td>\n",
       "    </tr>\n",
       "    <tr>\n",
       "      <th>1273</th>\n",
       "      <td>HP</td>\n",
       "      <td>Notebook</td>\n",
       "      <td>15.6</td>\n",
       "      <td>1366x768</td>\n",
       "      <td>Intel Core i7 6500U 2.5GHz</td>\n",
       "      <td>6</td>\n",
       "      <td>1TB HDD</td>\n",
       "      <td>AMD Radeon R5 M330</td>\n",
       "      <td>Windows 10</td>\n",
       "      <td>2.19</td>\n",
       "      <td>40705.9200</td>\n",
       "      <td>0</td>\n",
       "      <td>0</td>\n",
       "      <td>768</td>\n",
       "      <td>1366</td>\n",
       "    </tr>\n",
       "  </tbody>\n",
       "</table>\n",
       "<p>1274 rows × 15 columns</p>\n",
       "</div>"
      ],
      "text/plain": [
       "     Company            TypeName  Inches  \\\n",
       "0      Apple           Ultrabook    13.3   \n",
       "1      Apple           Ultrabook    13.3   \n",
       "2         HP            Notebook    15.6   \n",
       "3      Apple           Ultrabook    15.4   \n",
       "4      Apple           Ultrabook    13.3   \n",
       "...      ...                 ...     ...   \n",
       "1269    Asus            Notebook    15.6   \n",
       "1270  Lenovo  2 in 1 Convertible    14.0   \n",
       "1271  Lenovo  2 in 1 Convertible    13.3   \n",
       "1272  Lenovo            Notebook    14.0   \n",
       "1273      HP            Notebook    15.6   \n",
       "\n",
       "                                ScreenResolution  \\\n",
       "0             IPS Panel Retina Display 2560x1600   \n",
       "1                                       1440x900   \n",
       "2                              Full HD 1920x1080   \n",
       "3             IPS Panel Retina Display 2880x1800   \n",
       "4             IPS Panel Retina Display 2560x1600   \n",
       "...                                          ...   \n",
       "1269                                    1366x768   \n",
       "1270   IPS Panel Full HD / Touchscreen 1920x1080   \n",
       "1271  IPS Panel Quad HD+ / Touchscreen 3200x1800   \n",
       "1272                                    1366x768   \n",
       "1273                                    1366x768   \n",
       "\n",
       "                                       Cpu  Ram               Memory  \\\n",
       "0                     Intel Core i5 2.3GHz    8            128GB SSD   \n",
       "1                     Intel Core i5 1.8GHz    8  128GB Flash Storage   \n",
       "2               Intel Core i5 7200U 2.5GHz    8            256GB SSD   \n",
       "3                     Intel Core i7 2.7GHz   16            512GB SSD   \n",
       "4                     Intel Core i5 3.1GHz    8            256GB SSD   \n",
       "...                                    ...  ...                  ...   \n",
       "1269            Intel Core i7 6500U 2.5GHz    4            500GB HDD   \n",
       "1270            Intel Core i7 6500U 2.5GHz    4            128GB SSD   \n",
       "1271            Intel Core i7 6500U 2.5GHz   16            512GB SSD   \n",
       "1272  Intel Celeron Dual Core N3050 1.6GHz    2   64GB Flash Storage   \n",
       "1273            Intel Core i7 6500U 2.5GHz    6              1TB HDD   \n",
       "\n",
       "                               Gpu       OpSys  Weight        Price  \\\n",
       "0     Intel Iris Plus Graphics 640       macOS    1.37   71378.6832   \n",
       "1           Intel HD Graphics 6000       macOS    1.34   47895.5232   \n",
       "2            Intel HD Graphics 620       No OS    1.86   30636.0000   \n",
       "3               AMD Radeon Pro 455       macOS    1.83  135195.3360   \n",
       "4     Intel Iris Plus Graphics 650       macOS    1.37   96095.8080   \n",
       "...                            ...         ...     ...          ...   \n",
       "1269           Nvidia GeForce 920M  Windows 10    2.20   38378.6496   \n",
       "1270         Intel HD Graphics 520  Windows 10    1.80   33992.6400   \n",
       "1271         Intel HD Graphics 520  Windows 10    1.30   79866.7200   \n",
       "1272             Intel HD Graphics  Windows 10    1.50   12201.1200   \n",
       "1273            AMD Radeon R5 M330  Windows 10    2.19   40705.9200   \n",
       "\n",
       "      TouchScreen  IPS Panel  yres  xres  \n",
       "0               0          1  1600  2560  \n",
       "1               0          0   900  1440  \n",
       "2               0          0  1080  1920  \n",
       "3               0          1  1800  2880  \n",
       "4               0          1  1600  2560  \n",
       "...           ...        ...   ...   ...  \n",
       "1269            0          0   768  1366  \n",
       "1270            1          1  1080  1920  \n",
       "1271            1          1  1800  3200  \n",
       "1272            0          0   768  1366  \n",
       "1273            0          0   768  1366  \n",
       "\n",
       "[1274 rows x 15 columns]"
      ]
     },
     "execution_count": 669,
     "metadata": {},
     "output_type": "execute_result"
    }
   ],
   "source": [
    "df"
   ]
  },
  {
   "cell_type": "code",
   "execution_count": 670,
   "id": "80078a95",
   "metadata": {},
   "outputs": [],
   "source": [
    "#now finding PPI for every laptops\n"
   ]
  },
  {
   "cell_type": "code",
   "execution_count": 671,
   "id": "335a7073",
   "metadata": {},
   "outputs": [
    {
     "name": "stdout",
     "output_type": "stream",
     "text": [
      "<class 'pandas.core.frame.DataFrame'>\n",
      "Int64Index: 1274 entries, 0 to 1273\n",
      "Data columns (total 15 columns):\n",
      " #   Column            Non-Null Count  Dtype  \n",
      "---  ------            --------------  -----  \n",
      " 0   Company           1274 non-null   object \n",
      " 1   TypeName          1274 non-null   object \n",
      " 2   Inches            1274 non-null   float64\n",
      " 3   ScreenResolution  1274 non-null   object \n",
      " 4   Cpu               1274 non-null   object \n",
      " 5   Ram               1274 non-null   int32  \n",
      " 6   Memory            1274 non-null   object \n",
      " 7   Gpu               1274 non-null   object \n",
      " 8   OpSys             1274 non-null   object \n",
      " 9   Weight            1274 non-null   float64\n",
      " 10  Price             1274 non-null   float64\n",
      " 11  TouchScreen       1274 non-null   int64  \n",
      " 12  IPS Panel         1274 non-null   int64  \n",
      " 13  yres              1274 non-null   object \n",
      " 14  xres              1274 non-null   object \n",
      "dtypes: float64(3), int32(1), int64(2), object(9)\n",
      "memory usage: 154.3+ KB\n"
     ]
    }
   ],
   "source": [
    "df.info()"
   ]
  },
  {
   "cell_type": "code",
   "execution_count": 672,
   "id": "205e977f",
   "metadata": {},
   "outputs": [],
   "source": [
    "df[\"yres\"]=df[\"yres\"].astype(\"int32\")\n",
    "df[\"xres\"]=df[\"xres\"].astype(\"int32\")"
   ]
  },
  {
   "cell_type": "code",
   "execution_count": 673,
   "id": "aab8a5d5",
   "metadata": {},
   "outputs": [],
   "source": [
    "df[\"ppi\"]=((df[\"xres\"]**2+df[\"yres\"]**2)**(1/2))/df[\"Inches\"]"
   ]
  },
  {
   "cell_type": "code",
   "execution_count": 674,
   "id": "045f3232",
   "metadata": {},
   "outputs": [],
   "source": [
    "df.drop(columns=[\"Inches\",\"yres\",\"xres\",\"ScreenResolution\"],inplace=True)"
   ]
  },
  {
   "cell_type": "code",
   "execution_count": 675,
   "id": "bffb2da3",
   "metadata": {},
   "outputs": [
    {
     "data": {
      "text/plain": [
       "Intel Core i5 7200U 2.5GHz     190\n",
       "Intel Core i7 7700HQ 2.8GHz    146\n",
       "Intel Core i7 7500U 2.7GHz     132\n",
       "Intel Core i7 8550U 1.8GHz      73\n",
       "Intel Core i5 8250U 1.6GHz      72\n",
       "                              ... \n",
       "Intel Core M M3-6Y30 0.9GHz      1\n",
       "AMD A9-Series 9420 2.9GHz        1\n",
       "Intel Core i5 2.9GHz             1\n",
       "AMD A6-Series 7310 2GHz          1\n",
       "AMD A9-Series 9410 2.9GHz        1\n",
       "Name: Cpu, Length: 118, dtype: int64"
      ]
     },
     "execution_count": 675,
     "metadata": {},
     "output_type": "execute_result"
    }
   ],
   "source": [
    "df[\"Cpu\"].value_counts()"
   ]
  },
  {
   "cell_type": "code",
   "execution_count": 676,
   "id": "822191d5",
   "metadata": {},
   "outputs": [
    {
     "name": "stdout",
     "output_type": "stream",
     "text": [
      "<class 'pandas.core.series.Series'>\n",
      "Int64Index: 1274 entries, 0 to 1273\n",
      "Series name: Cpu\n",
      "Non-Null Count  Dtype \n",
      "--------------  ----- \n",
      "1274 non-null   object\n",
      "dtypes: object(1)\n",
      "memory usage: 19.9+ KB\n"
     ]
    }
   ],
   "source": [
    "df[\"Cpu\"].info()"
   ]
  },
  {
   "cell_type": "code",
   "execution_count": 677,
   "id": "3e759c9d",
   "metadata": {},
   "outputs": [],
   "source": [
    "df[\"Cpu\"]=df[\"Cpu\"].apply(lambda x: \" \".join(x.split()[0:3]))"
   ]
  },
  {
   "cell_type": "code",
   "execution_count": 678,
   "id": "2110bdcb",
   "metadata": {},
   "outputs": [],
   "source": [
    "def CpuType(text):\n",
    "    if text==\"Intel Core i5\" or text==\"Intel Core i3\" or text==\"Intel Core i7\":\n",
    "        return text\n",
    "    elif text.split()[0]==\"Intel\":\n",
    "        return \"Intel Other Processors\"\n",
    "    else :\n",
    "        return \"AMD Processor\"\n",
    "    "
   ]
  },
  {
   "cell_type": "code",
   "execution_count": 679,
   "id": "267decfb",
   "metadata": {},
   "outputs": [],
   "source": [
    "df[\"Cpu\"]=df[\"Cpu\"].apply(CpuType)"
   ]
  },
  {
   "cell_type": "code",
   "execution_count": 680,
   "id": "87d2ac25",
   "metadata": {},
   "outputs": [
    {
     "data": {
      "text/plain": [
       "<Axes: >"
      ]
     },
     "execution_count": 680,
     "metadata": {},
     "output_type": "execute_result"
    },
    {
     "data": {
      "image/png": "[encoded data removed]",
      "text/plain": [
       "<Figure size 640x480 with 1 Axes>"
      ]
     },
     "metadata": {},
     "output_type": "display_data"
    }
   ],
   "source": [
    "#It is clear most popular is Intel I7 and I5 processor\n",
    "df[\"Cpu\"].value_counts().plot(kind=\"bar\")"
   ]
  },
  {
   "cell_type": "code",
   "execution_count": 681,
   "id": "9d53a25d",
   "metadata": {},
   "outputs": [
    {
     "data": {
      "image/png": "[encoded data removed]",
      "text/plain": [
       "<Figure size 640x480 with 1 Axes>"
      ]
     },
     "metadata": {},
     "output_type": "display_data"
    }
   ],
   "source": [
    "sns.barplot(x=df[\"Cpu\"],y=df[\"Price\"])\n",
    "plt.xticks(rotation=45)\n",
    "plt.show()"
   ]
  },
  {
   "cell_type": "code",
   "execution_count": 682,
   "id": "4382a2f9",
   "metadata": {},
   "outputs": [
    {
     "name": "stderr",
     "output_type": "stream",
     "text": [
      "C:\\Users\\ABHISHEK RAWAL\\AppData\\Local\\Temp\\ipykernel_10636\\1734695575.py:1: FutureWarning: The default value of numeric_only in DataFrame.corr is deprecated. In a future version, it will default to False. Select only valid columns or specify the value of numeric_only to silence this warning.\n",
      "  df.corr()[\"Price\"]\n"
     ]
    },
    {
     "data": {
      "text/plain": [
       "Ram            0.740106\n",
       "Weight         0.212192\n",
       "Price          1.000000\n",
       "TouchScreen    0.188631\n",
       "IPS Panel      0.250358\n",
       "ppi            0.469539\n",
       "Name: Price, dtype: float64"
      ]
     },
     "execution_count": 682,
     "metadata": {},
     "output_type": "execute_result"
    }
   ],
   "source": [
    "df.corr()[\"Price\"]"
   ]
  },
  {
   "cell_type": "code",
   "execution_count": 683,
   "id": "6f27f045",
   "metadata": {},
   "outputs": [
    {
     "data": {
      "text/plain": [
       "<Axes: >"
      ]
     },
     "execution_count": 683,
     "metadata": {},
     "output_type": "execute_result"
    },
    {
     "data": {
      "image/png": "[encoded data removed]",
      "text/plain": [
       "<Figure size 640x480 with 1 Axes>"
      ]
     },
     "metadata": {},
     "output_type": "display_data"
    }
   ],
   "source": [
    "df[\"Ram\"].value_counts().plot(kind=\"bar\")"
   ]
  },
  {
   "cell_type": "code",
   "execution_count": 684,
   "id": "b8d9ea6f",
   "metadata": {},
   "outputs": [
    {
     "data": {
      "text/plain": [
       "<Axes: xlabel='Ram', ylabel='Price'>"
      ]
     },
     "execution_count": 684,
     "metadata": {},
     "output_type": "execute_result"
    },
    {
     "data": {
      "image/png": "[encoded data removed]",
      "text/plain": [
       "<Figure size 640x480 with 1 Axes>"
      ]
     },
     "metadata": {},
     "output_type": "display_data"
    }
   ],
   "source": [
    "sns.barplot(x=df[\"Ram\"],y=df[\"Price\"])"
   ]
  },
  {
   "cell_type": "code",
   "execution_count": 685,
   "id": "53afe097",
   "metadata": {},
   "outputs": [],
   "source": [
    "#df[\"Memory\"]=df[\"Memory\"].apply(lambda x: x.split())"
   ]
  },
  {
   "cell_type": "code",
   "execution_count": 686,
   "id": "5cb4c1ae",
   "metadata": {},
   "outputs": [
    {
     "data": {
      "text/plain": [
       "256GB SSD                        412\n",
       "1TB HDD                          215\n",
       "500GB HDD                        123\n",
       "512GB SSD                        114\n",
       "128GB SSD +  1TB HDD              94\n",
       "128GB SSD                         74\n",
       "256GB SSD +  1TB HDD              73\n",
       "32GB Flash Storage                36\n",
       "2TB HDD                           16\n",
       "512GB SSD +  1TB HDD              14\n",
       "1TB SSD                           14\n",
       "64GB Flash Storage                13\n",
       "256GB SSD +  2TB HDD              10\n",
       "256GB Flash Storage                8\n",
       "16GB Flash Storage                 7\n",
       "1.0TB Hybrid                       7\n",
       "32GB SSD                           6\n",
       "180GB SSD                          5\n",
       "128GB Flash Storage                4\n",
       "512GB SSD +  2TB HDD               3\n",
       "16GB SSD                           3\n",
       "512GB Flash Storage                2\n",
       "1TB SSD +  1TB HDD                 2\n",
       "256GB SSD +  500GB HDD             2\n",
       "128GB SSD +  2TB HDD               2\n",
       "256GB SSD +  256GB SSD             2\n",
       "512GB SSD +  256GB SSD             1\n",
       "512GB SSD +  512GB SSD             1\n",
       "64GB Flash Storage +  1TB HDD      1\n",
       "1TB HDD +  1TB HDD                 1\n",
       "32GB HDD                           1\n",
       "64GB SSD                           1\n",
       "128GB HDD                          1\n",
       "240GB SSD                          1\n",
       "8GB SSD                            1\n",
       "508GB Hybrid                       1\n",
       "1.0TB HDD                          1\n",
       "512GB SSD +  1.0TB Hybrid          1\n",
       "256GB SSD +  1.0TB Hybrid          1\n",
       "Name: Memory, dtype: int64"
      ]
     },
     "execution_count": 686,
     "metadata": {},
     "output_type": "execute_result"
    }
   ],
   "source": [
    "df[\"Memory\"].value_counts()"
   ]
  },
  {
   "cell_type": "code",
   "execution_count": 687,
   "id": "e0573fc6",
   "metadata": {},
   "outputs": [],
   "source": [
    "df[\"Memory\"]=df['Memory'].astype(str).replace('\\.0', '', regex=True)\n",
    "df[\"Memory\"]=df[\"Memory\"].str.replace(\"GB\",\" \")\n",
    "df[\"Memory\"]=df[\"Memory\"].str.replace(\"TB\",\"000\")"
   ]
  },
  {
   "cell_type": "code",
   "execution_count": 688,
   "id": "209ad074",
   "metadata": {},
   "outputs": [],
   "source": [
    "new=df[\"Memory\"].str.split(\"+\",n=1,expand=True)\n",
    "df['first']=new[0]"
   ]
  },
  {
   "cell_type": "code",
   "execution_count": 689,
   "id": "825e81c2",
   "metadata": {},
   "outputs": [],
   "source": [
    "df[\"first\"].str.strip()\n",
    "df['second']=new[1]\n",
    "df[\"second\"].fillna('0',inplace=True)"
   ]
  },
  {
   "cell_type": "code",
   "execution_count": 690,
   "id": "6e8c9649",
   "metadata": {},
   "outputs": [
    {
     "data": {
      "text/html": [
       "<div>\n",
       "<style scoped>\n",
       "    .dataframe tbody tr th:only-of-type {\n",
       "        vertical-align: middle;\n",
       "    }\n",
       "\n",
       "    .dataframe tbody tr th {\n",
       "        vertical-align: top;\n",
       "    }\n",
       "\n",
       "    .dataframe thead th {\n",
       "        text-align: right;\n",
       "    }\n",
       "</style>\n",
       "<table border=\"1\" class=\"dataframe\">\n",
       "  <thead>\n",
       "    <tr style=\"text-align: right;\">\n",
       "      <th></th>\n",
       "      <th>Company</th>\n",
       "      <th>TypeName</th>\n",
       "      <th>Cpu</th>\n",
       "      <th>Ram</th>\n",
       "      <th>Memory</th>\n",
       "      <th>Gpu</th>\n",
       "      <th>OpSys</th>\n",
       "      <th>Weight</th>\n",
       "      <th>Price</th>\n",
       "      <th>TouchScreen</th>\n",
       "      <th>IPS Panel</th>\n",
       "      <th>ppi</th>\n",
       "      <th>first</th>\n",
       "      <th>second</th>\n",
       "    </tr>\n",
       "  </thead>\n",
       "  <tbody>\n",
       "    <tr>\n",
       "      <th>0</th>\n",
       "      <td>Apple</td>\n",
       "      <td>Ultrabook</td>\n",
       "      <td>Intel Core i5</td>\n",
       "      <td>8</td>\n",
       "      <td>128  SSD</td>\n",
       "      <td>Intel Iris Plus Graphics 640</td>\n",
       "      <td>macOS</td>\n",
       "      <td>1.37</td>\n",
       "      <td>71378.6832</td>\n",
       "      <td>0</td>\n",
       "      <td>1</td>\n",
       "      <td>226.983005</td>\n",
       "      <td>128  SSD</td>\n",
       "      <td>0</td>\n",
       "    </tr>\n",
       "    <tr>\n",
       "      <th>1</th>\n",
       "      <td>Apple</td>\n",
       "      <td>Ultrabook</td>\n",
       "      <td>Intel Core i5</td>\n",
       "      <td>8</td>\n",
       "      <td>128  Flash Storage</td>\n",
       "      <td>Intel HD Graphics 6000</td>\n",
       "      <td>macOS</td>\n",
       "      <td>1.34</td>\n",
       "      <td>47895.5232</td>\n",
       "      <td>0</td>\n",
       "      <td>0</td>\n",
       "      <td>127.677940</td>\n",
       "      <td>128  Flash Storage</td>\n",
       "      <td>0</td>\n",
       "    </tr>\n",
       "    <tr>\n",
       "      <th>2</th>\n",
       "      <td>HP</td>\n",
       "      <td>Notebook</td>\n",
       "      <td>Intel Core i5</td>\n",
       "      <td>8</td>\n",
       "      <td>256  SSD</td>\n",
       "      <td>Intel HD Graphics 620</td>\n",
       "      <td>No OS</td>\n",
       "      <td>1.86</td>\n",
       "      <td>30636.0000</td>\n",
       "      <td>0</td>\n",
       "      <td>0</td>\n",
       "      <td>141.211998</td>\n",
       "      <td>256  SSD</td>\n",
       "      <td>0</td>\n",
       "    </tr>\n",
       "    <tr>\n",
       "      <th>3</th>\n",
       "      <td>Apple</td>\n",
       "      <td>Ultrabook</td>\n",
       "      <td>Intel Core i7</td>\n",
       "      <td>16</td>\n",
       "      <td>512  SSD</td>\n",
       "      <td>AMD Radeon Pro 455</td>\n",
       "      <td>macOS</td>\n",
       "      <td>1.83</td>\n",
       "      <td>135195.3360</td>\n",
       "      <td>0</td>\n",
       "      <td>1</td>\n",
       "      <td>220.534624</td>\n",
       "      <td>512  SSD</td>\n",
       "      <td>0</td>\n",
       "    </tr>\n",
       "    <tr>\n",
       "      <th>4</th>\n",
       "      <td>Apple</td>\n",
       "      <td>Ultrabook</td>\n",
       "      <td>Intel Core i5</td>\n",
       "      <td>8</td>\n",
       "      <td>256  SSD</td>\n",
       "      <td>Intel Iris Plus Graphics 650</td>\n",
       "      <td>macOS</td>\n",
       "      <td>1.37</td>\n",
       "      <td>96095.8080</td>\n",
       "      <td>0</td>\n",
       "      <td>1</td>\n",
       "      <td>226.983005</td>\n",
       "      <td>256  SSD</td>\n",
       "      <td>0</td>\n",
       "    </tr>\n",
       "    <tr>\n",
       "      <th>...</th>\n",
       "      <td>...</td>\n",
       "      <td>...</td>\n",
       "      <td>...</td>\n",
       "      <td>...</td>\n",
       "      <td>...</td>\n",
       "      <td>...</td>\n",
       "      <td>...</td>\n",
       "      <td>...</td>\n",
       "      <td>...</td>\n",
       "      <td>...</td>\n",
       "      <td>...</td>\n",
       "      <td>...</td>\n",
       "      <td>...</td>\n",
       "      <td>...</td>\n",
       "    </tr>\n",
       "    <tr>\n",
       "      <th>1269</th>\n",
       "      <td>Asus</td>\n",
       "      <td>Notebook</td>\n",
       "      <td>Intel Core i7</td>\n",
       "      <td>4</td>\n",
       "      <td>500  HDD</td>\n",
       "      <td>Nvidia GeForce 920M</td>\n",
       "      <td>Windows 10</td>\n",
       "      <td>2.20</td>\n",
       "      <td>38378.6496</td>\n",
       "      <td>0</td>\n",
       "      <td>0</td>\n",
       "      <td>100.454670</td>\n",
       "      <td>500  HDD</td>\n",
       "      <td>0</td>\n",
       "    </tr>\n",
       "    <tr>\n",
       "      <th>1270</th>\n",
       "      <td>Lenovo</td>\n",
       "      <td>2 in 1 Convertible</td>\n",
       "      <td>Intel Core i7</td>\n",
       "      <td>4</td>\n",
       "      <td>128  SSD</td>\n",
       "      <td>Intel HD Graphics 520</td>\n",
       "      <td>Windows 10</td>\n",
       "      <td>1.80</td>\n",
       "      <td>33992.6400</td>\n",
       "      <td>1</td>\n",
       "      <td>1</td>\n",
       "      <td>157.350512</td>\n",
       "      <td>128  SSD</td>\n",
       "      <td>0</td>\n",
       "    </tr>\n",
       "    <tr>\n",
       "      <th>1271</th>\n",
       "      <td>Lenovo</td>\n",
       "      <td>2 in 1 Convertible</td>\n",
       "      <td>Intel Core i7</td>\n",
       "      <td>16</td>\n",
       "      <td>512  SSD</td>\n",
       "      <td>Intel HD Graphics 520</td>\n",
       "      <td>Windows 10</td>\n",
       "      <td>1.30</td>\n",
       "      <td>79866.7200</td>\n",
       "      <td>1</td>\n",
       "      <td>1</td>\n",
       "      <td>276.053530</td>\n",
       "      <td>512  SSD</td>\n",
       "      <td>0</td>\n",
       "    </tr>\n",
       "    <tr>\n",
       "      <th>1272</th>\n",
       "      <td>Lenovo</td>\n",
       "      <td>Notebook</td>\n",
       "      <td>Intel Other Processors</td>\n",
       "      <td>2</td>\n",
       "      <td>64  Flash Storage</td>\n",
       "      <td>Intel HD Graphics</td>\n",
       "      <td>Windows 10</td>\n",
       "      <td>1.50</td>\n",
       "      <td>12201.1200</td>\n",
       "      <td>0</td>\n",
       "      <td>0</td>\n",
       "      <td>111.935204</td>\n",
       "      <td>64  Flash Storage</td>\n",
       "      <td>0</td>\n",
       "    </tr>\n",
       "    <tr>\n",
       "      <th>1273</th>\n",
       "      <td>HP</td>\n",
       "      <td>Notebook</td>\n",
       "      <td>Intel Core i7</td>\n",
       "      <td>6</td>\n",
       "      <td>1000 HDD</td>\n",
       "      <td>AMD Radeon R5 M330</td>\n",
       "      <td>Windows 10</td>\n",
       "      <td>2.19</td>\n",
       "      <td>40705.9200</td>\n",
       "      <td>0</td>\n",
       "      <td>0</td>\n",
       "      <td>100.454670</td>\n",
       "      <td>1000 HDD</td>\n",
       "      <td>0</td>\n",
       "    </tr>\n",
       "  </tbody>\n",
       "</table>\n",
       "<p>1274 rows × 14 columns</p>\n",
       "</div>"
      ],
      "text/plain": [
       "     Company            TypeName                     Cpu  Ram  \\\n",
       "0      Apple           Ultrabook           Intel Core i5    8   \n",
       "1      Apple           Ultrabook           Intel Core i5    8   \n",
       "2         HP            Notebook           Intel Core i5    8   \n",
       "3      Apple           Ultrabook           Intel Core i7   16   \n",
       "4      Apple           Ultrabook           Intel Core i5    8   \n",
       "...      ...                 ...                     ...  ...   \n",
       "1269    Asus            Notebook           Intel Core i7    4   \n",
       "1270  Lenovo  2 in 1 Convertible           Intel Core i7    4   \n",
       "1271  Lenovo  2 in 1 Convertible           Intel Core i7   16   \n",
       "1272  Lenovo            Notebook  Intel Other Processors    2   \n",
       "1273      HP            Notebook           Intel Core i7    6   \n",
       "\n",
       "                  Memory                           Gpu       OpSys  Weight  \\\n",
       "0               128  SSD  Intel Iris Plus Graphics 640       macOS    1.37   \n",
       "1     128  Flash Storage        Intel HD Graphics 6000       macOS    1.34   \n",
       "2               256  SSD         Intel HD Graphics 620       No OS    1.86   \n",
       "3               512  SSD            AMD Radeon Pro 455       macOS    1.83   \n",
       "4               256  SSD  Intel Iris Plus Graphics 650       macOS    1.37   \n",
       "...                  ...                           ...         ...     ...   \n",
       "1269            500  HDD           Nvidia GeForce 920M  Windows 10    2.20   \n",
       "1270            128  SSD         Intel HD Graphics 520  Windows 10    1.80   \n",
       "1271            512  SSD         Intel HD Graphics 520  Windows 10    1.30   \n",
       "1272   64  Flash Storage             Intel HD Graphics  Windows 10    1.50   \n",
       "1273            1000 HDD            AMD Radeon R5 M330  Windows 10    2.19   \n",
       "\n",
       "            Price  TouchScreen  IPS Panel         ppi               first  \\\n",
       "0      71378.6832            0          1  226.983005            128  SSD   \n",
       "1      47895.5232            0          0  127.677940  128  Flash Storage   \n",
       "2      30636.0000            0          0  141.211998            256  SSD   \n",
       "3     135195.3360            0          1  220.534624            512  SSD   \n",
       "4      96095.8080            0          1  226.983005            256  SSD   \n",
       "...           ...          ...        ...         ...                 ...   \n",
       "1269   38378.6496            0          0  100.454670            500  HDD   \n",
       "1270   33992.6400            1          1  157.350512            128  SSD   \n",
       "1271   79866.7200            1          1  276.053530            512  SSD   \n",
       "1272   12201.1200            0          0  111.935204   64  Flash Storage   \n",
       "1273   40705.9200            0          0  100.454670            1000 HDD   \n",
       "\n",
       "     second  \n",
       "0         0  \n",
       "1         0  \n",
       "2         0  \n",
       "3         0  \n",
       "4         0  \n",
       "...     ...  \n",
       "1269      0  \n",
       "1270      0  \n",
       "1271      0  \n",
       "1272      0  \n",
       "1273      0  \n",
       "\n",
       "[1274 rows x 14 columns]"
      ]
     },
     "execution_count": 690,
     "metadata": {},
     "output_type": "execute_result"
    }
   ],
   "source": [
    "df"
   ]
  },
  {
   "cell_type": "code",
   "execution_count": 691,
   "id": "a52fc52d",
   "metadata": {},
   "outputs": [
    {
     "data": {
      "text/html": [
       "<div>\n",
       "<style scoped>\n",
       "    .dataframe tbody tr th:only-of-type {\n",
       "        vertical-align: middle;\n",
       "    }\n",
       "\n",
       "    .dataframe tbody tr th {\n",
       "        vertical-align: top;\n",
       "    }\n",
       "\n",
       "    .dataframe thead th {\n",
       "        text-align: right;\n",
       "    }\n",
       "</style>\n",
       "<table border=\"1\" class=\"dataframe\">\n",
       "  <thead>\n",
       "    <tr style=\"text-align: right;\">\n",
       "      <th></th>\n",
       "      <th>Company</th>\n",
       "      <th>TypeName</th>\n",
       "      <th>Cpu</th>\n",
       "      <th>Ram</th>\n",
       "      <th>Memory</th>\n",
       "      <th>Gpu</th>\n",
       "      <th>OpSys</th>\n",
       "      <th>Weight</th>\n",
       "      <th>Price</th>\n",
       "      <th>TouchScreen</th>\n",
       "      <th>IPS Panel</th>\n",
       "      <th>ppi</th>\n",
       "      <th>first</th>\n",
       "      <th>second</th>\n",
       "      <th>layer1hdd</th>\n",
       "      <th>layer1ssd</th>\n",
       "      <th>layer1Flash</th>\n",
       "      <th>hybrid1</th>\n",
       "    </tr>\n",
       "  </thead>\n",
       "  <tbody>\n",
       "    <tr>\n",
       "      <th>0</th>\n",
       "      <td>Apple</td>\n",
       "      <td>Ultrabook</td>\n",
       "      <td>Intel Core i5</td>\n",
       "      <td>8</td>\n",
       "      <td>128  SSD</td>\n",
       "      <td>Intel Iris Plus Graphics 640</td>\n",
       "      <td>macOS</td>\n",
       "      <td>1.37</td>\n",
       "      <td>71378.6832</td>\n",
       "      <td>0</td>\n",
       "      <td>1</td>\n",
       "      <td>226.983005</td>\n",
       "      <td>128  SSD</td>\n",
       "      <td>0</td>\n",
       "      <td>0</td>\n",
       "      <td>1</td>\n",
       "      <td>0</td>\n",
       "      <td>0</td>\n",
       "    </tr>\n",
       "    <tr>\n",
       "      <th>1</th>\n",
       "      <td>Apple</td>\n",
       "      <td>Ultrabook</td>\n",
       "      <td>Intel Core i5</td>\n",
       "      <td>8</td>\n",
       "      <td>128  Flash Storage</td>\n",
       "      <td>Intel HD Graphics 6000</td>\n",
       "      <td>macOS</td>\n",
       "      <td>1.34</td>\n",
       "      <td>47895.5232</td>\n",
       "      <td>0</td>\n",
       "      <td>0</td>\n",
       "      <td>127.677940</td>\n",
       "      <td>128  Flash Storage</td>\n",
       "      <td>0</td>\n",
       "      <td>0</td>\n",
       "      <td>0</td>\n",
       "      <td>1</td>\n",
       "      <td>0</td>\n",
       "    </tr>\n",
       "    <tr>\n",
       "      <th>2</th>\n",
       "      <td>HP</td>\n",
       "      <td>Notebook</td>\n",
       "      <td>Intel Core i5</td>\n",
       "      <td>8</td>\n",
       "      <td>256  SSD</td>\n",
       "      <td>Intel HD Graphics 620</td>\n",
       "      <td>No OS</td>\n",
       "      <td>1.86</td>\n",
       "      <td>30636.0000</td>\n",
       "      <td>0</td>\n",
       "      <td>0</td>\n",
       "      <td>141.211998</td>\n",
       "      <td>256  SSD</td>\n",
       "      <td>0</td>\n",
       "      <td>0</td>\n",
       "      <td>1</td>\n",
       "      <td>0</td>\n",
       "      <td>0</td>\n",
       "    </tr>\n",
       "    <tr>\n",
       "      <th>3</th>\n",
       "      <td>Apple</td>\n",
       "      <td>Ultrabook</td>\n",
       "      <td>Intel Core i7</td>\n",
       "      <td>16</td>\n",
       "      <td>512  SSD</td>\n",
       "      <td>AMD Radeon Pro 455</td>\n",
       "      <td>macOS</td>\n",
       "      <td>1.83</td>\n",
       "      <td>135195.3360</td>\n",
       "      <td>0</td>\n",
       "      <td>1</td>\n",
       "      <td>220.534624</td>\n",
       "      <td>512  SSD</td>\n",
       "      <td>0</td>\n",
       "      <td>0</td>\n",
       "      <td>1</td>\n",
       "      <td>0</td>\n",
       "      <td>0</td>\n",
       "    </tr>\n",
       "    <tr>\n",
       "      <th>4</th>\n",
       "      <td>Apple</td>\n",
       "      <td>Ultrabook</td>\n",
       "      <td>Intel Core i5</td>\n",
       "      <td>8</td>\n",
       "      <td>256  SSD</td>\n",
       "      <td>Intel Iris Plus Graphics 650</td>\n",
       "      <td>macOS</td>\n",
       "      <td>1.37</td>\n",
       "      <td>96095.8080</td>\n",
       "      <td>0</td>\n",
       "      <td>1</td>\n",
       "      <td>226.983005</td>\n",
       "      <td>256  SSD</td>\n",
       "      <td>0</td>\n",
       "      <td>0</td>\n",
       "      <td>1</td>\n",
       "      <td>0</td>\n",
       "      <td>0</td>\n",
       "    </tr>\n",
       "    <tr>\n",
       "      <th>...</th>\n",
       "      <td>...</td>\n",
       "      <td>...</td>\n",
       "      <td>...</td>\n",
       "      <td>...</td>\n",
       "      <td>...</td>\n",
       "      <td>...</td>\n",
       "      <td>...</td>\n",
       "      <td>...</td>\n",
       "      <td>...</td>\n",
       "      <td>...</td>\n",
       "      <td>...</td>\n",
       "      <td>...</td>\n",
       "      <td>...</td>\n",
       "      <td>...</td>\n",
       "      <td>...</td>\n",
       "      <td>...</td>\n",
       "      <td>...</td>\n",
       "      <td>...</td>\n",
       "    </tr>\n",
       "    <tr>\n",
       "      <th>1269</th>\n",
       "      <td>Asus</td>\n",
       "      <td>Notebook</td>\n",
       "      <td>Intel Core i7</td>\n",
       "      <td>4</td>\n",
       "      <td>500  HDD</td>\n",
       "      <td>Nvidia GeForce 920M</td>\n",
       "      <td>Windows 10</td>\n",
       "      <td>2.20</td>\n",
       "      <td>38378.6496</td>\n",
       "      <td>0</td>\n",
       "      <td>0</td>\n",
       "      <td>100.454670</td>\n",
       "      <td>500  HDD</td>\n",
       "      <td>0</td>\n",
       "      <td>1</td>\n",
       "      <td>0</td>\n",
       "      <td>0</td>\n",
       "      <td>0</td>\n",
       "    </tr>\n",
       "    <tr>\n",
       "      <th>1270</th>\n",
       "      <td>Lenovo</td>\n",
       "      <td>2 in 1 Convertible</td>\n",
       "      <td>Intel Core i7</td>\n",
       "      <td>4</td>\n",
       "      <td>128  SSD</td>\n",
       "      <td>Intel HD Graphics 520</td>\n",
       "      <td>Windows 10</td>\n",
       "      <td>1.80</td>\n",
       "      <td>33992.6400</td>\n",
       "      <td>1</td>\n",
       "      <td>1</td>\n",
       "      <td>157.350512</td>\n",
       "      <td>128  SSD</td>\n",
       "      <td>0</td>\n",
       "      <td>0</td>\n",
       "      <td>1</td>\n",
       "      <td>0</td>\n",
       "      <td>0</td>\n",
       "    </tr>\n",
       "    <tr>\n",
       "      <th>1271</th>\n",
       "      <td>Lenovo</td>\n",
       "      <td>2 in 1 Convertible</td>\n",
       "      <td>Intel Core i7</td>\n",
       "      <td>16</td>\n",
       "      <td>512  SSD</td>\n",
       "      <td>Intel HD Graphics 520</td>\n",
       "      <td>Windows 10</td>\n",
       "      <td>1.30</td>\n",
       "      <td>79866.7200</td>\n",
       "      <td>1</td>\n",
       "      <td>1</td>\n",
       "      <td>276.053530</td>\n",
       "      <td>512  SSD</td>\n",
       "      <td>0</td>\n",
       "      <td>0</td>\n",
       "      <td>1</td>\n",
       "      <td>0</td>\n",
       "      <td>0</td>\n",
       "    </tr>\n",
       "    <tr>\n",
       "      <th>1272</th>\n",
       "      <td>Lenovo</td>\n",
       "      <td>Notebook</td>\n",
       "      <td>Intel Other Processors</td>\n",
       "      <td>2</td>\n",
       "      <td>64  Flash Storage</td>\n",
       "      <td>Intel HD Graphics</td>\n",
       "      <td>Windows 10</td>\n",
       "      <td>1.50</td>\n",
       "      <td>12201.1200</td>\n",
       "      <td>0</td>\n",
       "      <td>0</td>\n",
       "      <td>111.935204</td>\n",
       "      <td>64  Flash Storage</td>\n",
       "      <td>0</td>\n",
       "      <td>0</td>\n",
       "      <td>0</td>\n",
       "      <td>1</td>\n",
       "      <td>0</td>\n",
       "    </tr>\n",
       "    <tr>\n",
       "      <th>1273</th>\n",
       "      <td>HP</td>\n",
       "      <td>Notebook</td>\n",
       "      <td>Intel Core i7</td>\n",
       "      <td>6</td>\n",
       "      <td>1000 HDD</td>\n",
       "      <td>AMD Radeon R5 M330</td>\n",
       "      <td>Windows 10</td>\n",
       "      <td>2.19</td>\n",
       "      <td>40705.9200</td>\n",
       "      <td>0</td>\n",
       "      <td>0</td>\n",
       "      <td>100.454670</td>\n",
       "      <td>1000 HDD</td>\n",
       "      <td>0</td>\n",
       "      <td>1</td>\n",
       "      <td>0</td>\n",
       "      <td>0</td>\n",
       "      <td>0</td>\n",
       "    </tr>\n",
       "  </tbody>\n",
       "</table>\n",
       "<p>1274 rows × 18 columns</p>\n",
       "</div>"
      ],
      "text/plain": [
       "     Company            TypeName                     Cpu  Ram  \\\n",
       "0      Apple           Ultrabook           Intel Core i5    8   \n",
       "1      Apple           Ultrabook           Intel Core i5    8   \n",
       "2         HP            Notebook           Intel Core i5    8   \n",
       "3      Apple           Ultrabook           Intel Core i7   16   \n",
       "4      Apple           Ultrabook           Intel Core i5    8   \n",
       "...      ...                 ...                     ...  ...   \n",
       "1269    Asus            Notebook           Intel Core i7    4   \n",
       "1270  Lenovo  2 in 1 Convertible           Intel Core i7    4   \n",
       "1271  Lenovo  2 in 1 Convertible           Intel Core i7   16   \n",
       "1272  Lenovo            Notebook  Intel Other Processors    2   \n",
       "1273      HP            Notebook           Intel Core i7    6   \n",
       "\n",
       "                  Memory                           Gpu       OpSys  Weight  \\\n",
       "0               128  SSD  Intel Iris Plus Graphics 640       macOS    1.37   \n",
       "1     128  Flash Storage        Intel HD Graphics 6000       macOS    1.34   \n",
       "2               256  SSD         Intel HD Graphics 620       No OS    1.86   \n",
       "3               512  SSD            AMD Radeon Pro 455       macOS    1.83   \n",
       "4               256  SSD  Intel Iris Plus Graphics 650       macOS    1.37   \n",
       "...                  ...                           ...         ...     ...   \n",
       "1269            500  HDD           Nvidia GeForce 920M  Windows 10    2.20   \n",
       "1270            128  SSD         Intel HD Graphics 520  Windows 10    1.80   \n",
       "1271            512  SSD         Intel HD Graphics 520  Windows 10    1.30   \n",
       "1272   64  Flash Storage             Intel HD Graphics  Windows 10    1.50   \n",
       "1273            1000 HDD            AMD Radeon R5 M330  Windows 10    2.19   \n",
       "\n",
       "            Price  TouchScreen  IPS Panel         ppi               first  \\\n",
       "0      71378.6832            0          1  226.983005            128  SSD   \n",
       "1      47895.5232            0          0  127.677940  128  Flash Storage   \n",
       "2      30636.0000            0          0  141.211998            256  SSD   \n",
       "3     135195.3360            0          1  220.534624            512  SSD   \n",
       "4      96095.8080            0          1  226.983005            256  SSD   \n",
       "...           ...          ...        ...         ...                 ...   \n",
       "1269   38378.6496            0          0  100.454670            500  HDD   \n",
       "1270   33992.6400            1          1  157.350512            128  SSD   \n",
       "1271   79866.7200            1          1  276.053530            512  SSD   \n",
       "1272   12201.1200            0          0  111.935204   64  Flash Storage   \n",
       "1273   40705.9200            0          0  100.454670            1000 HDD   \n",
       "\n",
       "     second  layer1hdd  layer1ssd  layer1Flash  hybrid1  \n",
       "0         0          0          1            0        0  \n",
       "1         0          0          0            1        0  \n",
       "2         0          0          1            0        0  \n",
       "3         0          0          1            0        0  \n",
       "4         0          0          1            0        0  \n",
       "...     ...        ...        ...          ...      ...  \n",
       "1269      0          1          0            0        0  \n",
       "1270      0          0          1            0        0  \n",
       "1271      0          0          1            0        0  \n",
       "1272      0          0          0            1        0  \n",
       "1273      0          1          0            0        0  \n",
       "\n",
       "[1274 rows x 18 columns]"
      ]
     },
     "execution_count": 691,
     "metadata": {},
     "output_type": "execute_result"
    }
   ],
   "source": [
    "df[\"layer1hdd\"]=df[\"first\"].apply(lambda x: 1 if \"HDD\" in x else 0)\n",
    "df[\"layer1ssd\"]=df[\"first\"].apply(lambda x: 1 if \"SSD\" in x else 0)\n",
    "df[\"layer1Flash\"]=df[\"first\"].apply(lambda x: 1 if \"Flash Storage\" in x else 0)\n",
    "df[\"hybrid1\"]=df[\"first\"].apply(lambda x:1 if \"Hybrid\" in x else 0)\n",
    "df"
   ]
  },
  {
   "cell_type": "code",
   "execution_count": 692,
   "id": "771844aa",
   "metadata": {},
   "outputs": [],
   "source": [
    "df[\"layer2hdd\"]=df[\"second\"].apply(lambda x: 1 if \"HDD\" in x else 0)\n",
    "df[\"layer2ssd\"]=df[\"second\"].apply(lambda x: 1 if \"SSD\" in x else 0)\n",
    "df[\"layer2Flash\"]=df[\"second\"].apply(lambda x: 1 if \"Flash Storage\" in x else 0)\n",
    "df[\"hybrid2\"]=df[\"second\"].apply(lambda x:1 if \"Hybrid\" in x else 0)"
   ]
  },
  {
   "cell_type": "code",
   "execution_count": 693,
   "id": "429fcfd8",
   "metadata": {},
   "outputs": [
    {
     "name": "stderr",
     "output_type": "stream",
     "text": [
      "C:\\Users\\ABHISHEK RAWAL\\AppData\\Local\\Temp\\ipykernel_10636\\1897506767.py:1: FutureWarning: The default value of regex will change from True to False in a future version.\n",
      "  df[\"second\"]=df[\"second\"].str.replace(r'\\D','')\n",
      "C:\\Users\\ABHISHEK RAWAL\\AppData\\Local\\Temp\\ipykernel_10636\\1897506767.py:2: FutureWarning: The default value of regex will change from True to False in a future version.\n",
      "  df[\"first\"]=df[\"first\"].str.replace(r'\\D','')\n"
     ]
    }
   ],
   "source": [
    "df[\"second\"]=df[\"second\"].str.replace(r'\\D','')\n",
    "df[\"first\"]=df[\"first\"].str.replace(r'\\D','')"
   ]
  },
  {
   "cell_type": "code",
   "execution_count": 694,
   "id": "f620d25e",
   "metadata": {},
   "outputs": [],
   "source": [
    "df[\"first\"]=df[\"first\"].astype(\"int32\")\n",
    "df[\"second\"]=df[\"second\"].astype(\"int32\")\n"
   ]
  },
  {
   "cell_type": "code",
   "execution_count": 695,
   "id": "593882d4",
   "metadata": {},
   "outputs": [],
   "source": [
    "df[\"HDD\"]=(df[\"first\"]*df[\"layer1hdd\"]+df[\"second\"]*df[\"layer2hdd\"])\n",
    "df[\"SDD\"]=(df[\"first\"]*df[\"layer1ssd\"]+df[\"second\"]*df[\"layer2ssd\"])\n",
    "df[\"Hybrid\"]=(df[\"first\"]*df[\"hybrid1\"]+df[\"second\"]*df[\"hybrid2\"])\n",
    "df[\"Flash_drive\"]=(df[\"first\"]*df[\"layer1Flash\"]+df[\"second\"]*df[\"layer2Flash\"])"
   ]
  },
  {
   "cell_type": "code",
   "execution_count": 696,
   "id": "53ab066c",
   "metadata": {},
   "outputs": [
    {
     "name": "stdout",
     "output_type": "stream",
     "text": [
      "<class 'pandas.core.frame.DataFrame'>\n",
      "Int64Index: 1274 entries, 0 to 1273\n",
      "Data columns (total 26 columns):\n",
      " #   Column       Non-Null Count  Dtype  \n",
      "---  ------       --------------  -----  \n",
      " 0   Company      1274 non-null   object \n",
      " 1   TypeName     1274 non-null   object \n",
      " 2   Cpu          1274 non-null   object \n",
      " 3   Ram          1274 non-null   int32  \n",
      " 4   Memory       1274 non-null   object \n",
      " 5   Gpu          1274 non-null   object \n",
      " 6   OpSys        1274 non-null   object \n",
      " 7   Weight       1274 non-null   float64\n",
      " 8   Price        1274 non-null   float64\n",
      " 9   TouchScreen  1274 non-null   int64  \n",
      " 10  IPS Panel    1274 non-null   int64  \n",
      " 11  ppi          1274 non-null   float64\n",
      " 12  first        1274 non-null   int32  \n",
      " 13  second       1274 non-null   int32  \n",
      " 14  layer1hdd    1274 non-null   int64  \n",
      " 15  layer1ssd    1274 non-null   int64  \n",
      " 16  layer1Flash  1274 non-null   int64  \n",
      " 17  hybrid1      1274 non-null   int64  \n",
      " 18  layer2hdd    1274 non-null   int64  \n",
      " 19  layer2ssd    1274 non-null   int64  \n",
      " 20  layer2Flash  1274 non-null   int64  \n",
      " 21  hybrid2      1274 non-null   int64  \n",
      " 22  HDD          1274 non-null   int64  \n",
      " 23  SDD          1274 non-null   int64  \n",
      " 24  Hybrid       1274 non-null   int64  \n",
      " 25  Flash_drive  1274 non-null   int64  \n",
      "dtypes: float64(3), int32(3), int64(14), object(6)\n",
      "memory usage: 253.8+ KB\n"
     ]
    }
   ],
   "source": [
    "df.info()"
   ]
  },
  {
   "cell_type": "code",
   "execution_count": 697,
   "id": "271c31da",
   "metadata": {},
   "outputs": [],
   "source": [
    "df.drop(columns=[\"layer1hdd\",\"layer1ssd\",\"layer1Flash\",\"hybrid1\",\"layer2hdd\",\"layer2ssd\",\"layer2Flash\",\"hybrid2\"],inplace=True)"
   ]
  },
  {
   "cell_type": "code",
   "execution_count": 698,
   "id": "aa61f14a",
   "metadata": {},
   "outputs": [],
   "source": [
    "df.drop(columns=[\"first\",\"second\"],inplace=True)"
   ]
  },
  {
   "cell_type": "code",
   "execution_count": 699,
   "id": "790c9e3e",
   "metadata": {},
   "outputs": [],
   "source": [
    "df.drop(columns=[\"Memory\"],inplace=True)"
   ]
  },
  {
   "cell_type": "code",
   "execution_count": 700,
   "id": "a38c01cc",
   "metadata": {},
   "outputs": [
    {
     "data": {
      "text/plain": [
       "Intel HD Graphics 620      279\n",
       "Intel HD Graphics 520      181\n",
       "Intel UHD Graphics 620      68\n",
       "Nvidia GeForce GTX 1050     66\n",
       "Nvidia GeForce GTX 1060     48\n",
       "                          ... \n",
       "AMD Radeon R5 520            1\n",
       "AMD Radeon R7                1\n",
       "Intel HD Graphics 540        1\n",
       "AMD Radeon 540               1\n",
       "ARM Mali T860 MP4            1\n",
       "Name: Gpu, Length: 110, dtype: int64"
      ]
     },
     "execution_count": 700,
     "metadata": {},
     "output_type": "execute_result"
    }
   ],
   "source": [
    "df[\"Gpu\"].value_counts()"
   ]
  },
  {
   "cell_type": "code",
   "execution_count": 701,
   "id": "15b95193",
   "metadata": {},
   "outputs": [],
   "source": [
    "df[\"Gpu_brand\"]=df[\"Gpu\"].apply(lambda x: x.split()[0])"
   ]
  },
  {
   "cell_type": "code",
   "execution_count": 702,
   "id": "741c4748",
   "metadata": {},
   "outputs": [
    {
     "data": {
      "text/plain": [
       "Intel     703\n",
       "Nvidia    396\n",
       "AMD       174\n",
       "ARM         1\n",
       "Name: Gpu_brand, dtype: int64"
      ]
     },
     "execution_count": 702,
     "metadata": {},
     "output_type": "execute_result"
    }
   ],
   "source": [
    "#here Gpu_brand ARM is behaving as outlier so we are removing it\n",
    "df[\"Gpu_brand\"].value_counts()"
   ]
  },
  {
   "cell_type": "code",
   "execution_count": 703,
   "id": "1041a5ea",
   "metadata": {},
   "outputs": [],
   "source": [
    "df=df[df[\"Gpu_brand\"]!=\"ARM\"]"
   ]
  },
  {
   "cell_type": "code",
   "execution_count": 704,
   "id": "b79f30f1",
   "metadata": {},
   "outputs": [
    {
     "data": {
      "text/plain": [
       "<Axes: >"
      ]
     },
     "execution_count": 704,
     "metadata": {},
     "output_type": "execute_result"
    },
    {
     "data": {
      "image/png": "[encoded data removed]",
      "text/plain": [
       "<Figure size 640x480 with 1 Axes>"
      ]
     },
     "metadata": {},
     "output_type": "display_data"
    }
   ],
   "source": [
    "df[\"Gpu_brand\"].value_counts().plot(kind=\"bar\")"
   ]
  },
  {
   "cell_type": "code",
   "execution_count": 705,
   "id": "6755d75b",
   "metadata": {},
   "outputs": [
    {
     "data": {
      "text/plain": [
       "<Axes: xlabel='Gpu_brand', ylabel='Price'>"
      ]
     },
     "execution_count": 705,
     "metadata": {},
     "output_type": "execute_result"
    },
    {
     "data": {
      "image/png": "[encoded data removed]",
      "text/plain": [
       "<Figure size 640x480 with 1 Axes>"
      ]
     },
     "metadata": {},
     "output_type": "display_data"
    }
   ],
   "source": [
    "sns.barplot(x=df[\"Gpu_brand\"],y=df[\"Price\"],palette=\"rainbow\")"
   ]
  },
  {
   "cell_type": "code",
   "execution_count": null,
   "id": "cf040dd0",
   "metadata": {},
   "outputs": [],
   "source": []
  },
  {
   "cell_type": "code",
   "execution_count": 706,
   "id": "716aa2ed",
   "metadata": {},
   "outputs": [
    {
     "name": "stderr",
     "output_type": "stream",
     "text": [
      "C:\\Users\\ABHISHEK RAWAL\\AppData\\Local\\Temp\\ipykernel_10636\\1734695575.py:1: FutureWarning: The default value of numeric_only in DataFrame.corr is deprecated. In a future version, it will default to False. Select only valid columns or specify the value of numeric_only to silence this warning.\n",
      "  df.corr()[\"Price\"]\n"
     ]
    },
    {
     "data": {
      "text/plain": [
       "Ram            0.739996\n",
       "Weight         0.211667\n",
       "Price          1.000000\n",
       "TouchScreen    0.190382\n",
       "IPS Panel      0.251514\n",
       "ppi            0.471481\n",
       "HDD           -0.098481\n",
       "SDD            0.669808\n",
       "Hybrid         0.022490\n",
       "Flash_drive   -0.036712\n",
       "Name: Price, dtype: float64"
      ]
     },
     "execution_count": 706,
     "metadata": {},
     "output_type": "execute_result"
    }
   ],
   "source": [
    "df.corr()[\"Price\"]"
   ]
  },
  {
   "cell_type": "code",
   "execution_count": 707,
   "id": "c82447a3",
   "metadata": {},
   "outputs": [
    {
     "name": "stderr",
     "output_type": "stream",
     "text": [
      "C:\\Users\\ABHISHEK RAWAL\\AppData\\Local\\Temp\\ipykernel_10636\\1752234203.py:1: SettingWithCopyWarning: \n",
      "A value is trying to be set on a copy of a slice from a DataFrame\n",
      "\n",
      "See the caveats in the documentation: https://pandas.pydata.org/pandas-docs/stable/user_guide/indexing.html#returning-a-view-versus-a-copy\n",
      "  df.drop(columns=[\"Gpu\"],inplace=True)\n"
     ]
    }
   ],
   "source": [
    "df.drop(columns=[\"Gpu\"],inplace=True)"
   ]
  },
  {
   "cell_type": "code",
   "execution_count": 708,
   "id": "90bb145d",
   "metadata": {},
   "outputs": [
    {
     "data": {
      "text/plain": [
       "Windows 10      1047\n",
       "No OS             66\n",
       "Linux             58\n",
       "Windows 7         45\n",
       "Chrome OS         26\n",
       "macOS             13\n",
       "Mac OS X           8\n",
       "Windows 10 S       8\n",
       "Android            2\n",
       "Name: OpSys, dtype: int64"
      ]
     },
     "execution_count": 708,
     "metadata": {},
     "output_type": "execute_result"
    }
   ],
   "source": [
    "df[\"OpSys\"].value_counts()"
   ]
  },
  {
   "cell_type": "code",
   "execution_count": 709,
   "id": "d6ca357b",
   "metadata": {},
   "outputs": [
    {
     "data": {
      "text/plain": [
       "<Axes: >"
      ]
     },
     "execution_count": 709,
     "metadata": {},
     "output_type": "execute_result"
    },
    {
     "data": {
      "image/png": "[encoded data removed]",
      "text/plain": [
       "<Figure size 640x480 with 1 Axes>"
      ]
     },
     "metadata": {},
     "output_type": "display_data"
    }
   ],
   "source": [
    "df[\"OpSys\"].value_counts().plot(kind='bar')"
   ]
  },
  {
   "cell_type": "code",
   "execution_count": 710,
   "id": "60beaaa3",
   "metadata": {},
   "outputs": [],
   "source": [
    "def os(sys):\n",
    "    if sys==\"Windows 10\" or sys == \"Windows 7\" or sys==\"Windows 10 S\":\n",
    "        return \"Windows\"\n",
    "    elif sys==\"macOS\" or sys==\"Mac OS X\":\n",
    "        return \"Mac\"\n",
    "    else:\n",
    "        return \"Others/noOS/Linux\""
   ]
  },
  {
   "cell_type": "code",
   "execution_count": 711,
   "id": "eec88935",
   "metadata": {},
   "outputs": [
    {
     "name": "stderr",
     "output_type": "stream",
     "text": [
      "C:\\Users\\ABHISHEK RAWAL\\AppData\\Local\\Temp\\ipykernel_10636\\1042458126.py:1: SettingWithCopyWarning: \n",
      "A value is trying to be set on a copy of a slice from a DataFrame.\n",
      "Try using .loc[row_indexer,col_indexer] = value instead\n",
      "\n",
      "See the caveats in the documentation: https://pandas.pydata.org/pandas-docs/stable/user_guide/indexing.html#returning-a-view-versus-a-copy\n",
      "  df[\"OpSys\"]=df[\"OpSys\"].apply(os)\n"
     ]
    }
   ],
   "source": [
    "df[\"OpSys\"]=df[\"OpSys\"].apply(os)"
   ]
  },
  {
   "cell_type": "code",
   "execution_count": 712,
   "id": "d1de5b87",
   "metadata": {},
   "outputs": [
    {
     "data": {
      "text/html": [
       "<div>\n",
       "<style scoped>\n",
       "    .dataframe tbody tr th:only-of-type {\n",
       "        vertical-align: middle;\n",
       "    }\n",
       "\n",
       "    .dataframe tbody tr th {\n",
       "        vertical-align: top;\n",
       "    }\n",
       "\n",
       "    .dataframe thead th {\n",
       "        text-align: right;\n",
       "    }\n",
       "</style>\n",
       "<table border=\"1\" class=\"dataframe\">\n",
       "  <thead>\n",
       "    <tr style=\"text-align: right;\">\n",
       "      <th></th>\n",
       "      <th>Company</th>\n",
       "      <th>TypeName</th>\n",
       "      <th>Cpu</th>\n",
       "      <th>Ram</th>\n",
       "      <th>OpSys</th>\n",
       "      <th>Weight</th>\n",
       "      <th>Price</th>\n",
       "      <th>TouchScreen</th>\n",
       "      <th>IPS Panel</th>\n",
       "      <th>ppi</th>\n",
       "      <th>HDD</th>\n",
       "      <th>SDD</th>\n",
       "      <th>Hybrid</th>\n",
       "      <th>Flash_drive</th>\n",
       "      <th>Gpu_brand</th>\n",
       "    </tr>\n",
       "  </thead>\n",
       "  <tbody>\n",
       "    <tr>\n",
       "      <th>0</th>\n",
       "      <td>Apple</td>\n",
       "      <td>Ultrabook</td>\n",
       "      <td>Intel Core i5</td>\n",
       "      <td>8</td>\n",
       "      <td>Mac</td>\n",
       "      <td>1.37</td>\n",
       "      <td>71378.6832</td>\n",
       "      <td>0</td>\n",
       "      <td>1</td>\n",
       "      <td>226.983005</td>\n",
       "      <td>0</td>\n",
       "      <td>128</td>\n",
       "      <td>0</td>\n",
       "      <td>0</td>\n",
       "      <td>Intel</td>\n",
       "    </tr>\n",
       "    <tr>\n",
       "      <th>1</th>\n",
       "      <td>Apple</td>\n",
       "      <td>Ultrabook</td>\n",
       "      <td>Intel Core i5</td>\n",
       "      <td>8</td>\n",
       "      <td>Mac</td>\n",
       "      <td>1.34</td>\n",
       "      <td>47895.5232</td>\n",
       "      <td>0</td>\n",
       "      <td>0</td>\n",
       "      <td>127.677940</td>\n",
       "      <td>0</td>\n",
       "      <td>0</td>\n",
       "      <td>0</td>\n",
       "      <td>128</td>\n",
       "      <td>Intel</td>\n",
       "    </tr>\n",
       "    <tr>\n",
       "      <th>2</th>\n",
       "      <td>HP</td>\n",
       "      <td>Notebook</td>\n",
       "      <td>Intel Core i5</td>\n",
       "      <td>8</td>\n",
       "      <td>Others/noOS/Linux</td>\n",
       "      <td>1.86</td>\n",
       "      <td>30636.0000</td>\n",
       "      <td>0</td>\n",
       "      <td>0</td>\n",
       "      <td>141.211998</td>\n",
       "      <td>0</td>\n",
       "      <td>256</td>\n",
       "      <td>0</td>\n",
       "      <td>0</td>\n",
       "      <td>Intel</td>\n",
       "    </tr>\n",
       "    <tr>\n",
       "      <th>3</th>\n",
       "      <td>Apple</td>\n",
       "      <td>Ultrabook</td>\n",
       "      <td>Intel Core i7</td>\n",
       "      <td>16</td>\n",
       "      <td>Mac</td>\n",
       "      <td>1.83</td>\n",
       "      <td>135195.3360</td>\n",
       "      <td>0</td>\n",
       "      <td>1</td>\n",
       "      <td>220.534624</td>\n",
       "      <td>0</td>\n",
       "      <td>512</td>\n",
       "      <td>0</td>\n",
       "      <td>0</td>\n",
       "      <td>AMD</td>\n",
       "    </tr>\n",
       "    <tr>\n",
       "      <th>4</th>\n",
       "      <td>Apple</td>\n",
       "      <td>Ultrabook</td>\n",
       "      <td>Intel Core i5</td>\n",
       "      <td>8</td>\n",
       "      <td>Mac</td>\n",
       "      <td>1.37</td>\n",
       "      <td>96095.8080</td>\n",
       "      <td>0</td>\n",
       "      <td>1</td>\n",
       "      <td>226.983005</td>\n",
       "      <td>0</td>\n",
       "      <td>256</td>\n",
       "      <td>0</td>\n",
       "      <td>0</td>\n",
       "      <td>Intel</td>\n",
       "    </tr>\n",
       "    <tr>\n",
       "      <th>...</th>\n",
       "      <td>...</td>\n",
       "      <td>...</td>\n",
       "      <td>...</td>\n",
       "      <td>...</td>\n",
       "      <td>...</td>\n",
       "      <td>...</td>\n",
       "      <td>...</td>\n",
       "      <td>...</td>\n",
       "      <td>...</td>\n",
       "      <td>...</td>\n",
       "      <td>...</td>\n",
       "      <td>...</td>\n",
       "      <td>...</td>\n",
       "      <td>...</td>\n",
       "      <td>...</td>\n",
       "    </tr>\n",
       "    <tr>\n",
       "      <th>1269</th>\n",
       "      <td>Asus</td>\n",
       "      <td>Notebook</td>\n",
       "      <td>Intel Core i7</td>\n",
       "      <td>4</td>\n",
       "      <td>Windows</td>\n",
       "      <td>2.20</td>\n",
       "      <td>38378.6496</td>\n",
       "      <td>0</td>\n",
       "      <td>0</td>\n",
       "      <td>100.454670</td>\n",
       "      <td>500</td>\n",
       "      <td>0</td>\n",
       "      <td>0</td>\n",
       "      <td>0</td>\n",
       "      <td>Nvidia</td>\n",
       "    </tr>\n",
       "    <tr>\n",
       "      <th>1270</th>\n",
       "      <td>Lenovo</td>\n",
       "      <td>2 in 1 Convertible</td>\n",
       "      <td>Intel Core i7</td>\n",
       "      <td>4</td>\n",
       "      <td>Windows</td>\n",
       "      <td>1.80</td>\n",
       "      <td>33992.6400</td>\n",
       "      <td>1</td>\n",
       "      <td>1</td>\n",
       "      <td>157.350512</td>\n",
       "      <td>0</td>\n",
       "      <td>128</td>\n",
       "      <td>0</td>\n",
       "      <td>0</td>\n",
       "      <td>Intel</td>\n",
       "    </tr>\n",
       "    <tr>\n",
       "      <th>1271</th>\n",
       "      <td>Lenovo</td>\n",
       "      <td>2 in 1 Convertible</td>\n",
       "      <td>Intel Core i7</td>\n",
       "      <td>16</td>\n",
       "      <td>Windows</td>\n",
       "      <td>1.30</td>\n",
       "      <td>79866.7200</td>\n",
       "      <td>1</td>\n",
       "      <td>1</td>\n",
       "      <td>276.053530</td>\n",
       "      <td>0</td>\n",
       "      <td>512</td>\n",
       "      <td>0</td>\n",
       "      <td>0</td>\n",
       "      <td>Intel</td>\n",
       "    </tr>\n",
       "    <tr>\n",
       "      <th>1272</th>\n",
       "      <td>Lenovo</td>\n",
       "      <td>Notebook</td>\n",
       "      <td>Intel Other Processors</td>\n",
       "      <td>2</td>\n",
       "      <td>Windows</td>\n",
       "      <td>1.50</td>\n",
       "      <td>12201.1200</td>\n",
       "      <td>0</td>\n",
       "      <td>0</td>\n",
       "      <td>111.935204</td>\n",
       "      <td>0</td>\n",
       "      <td>0</td>\n",
       "      <td>0</td>\n",
       "      <td>64</td>\n",
       "      <td>Intel</td>\n",
       "    </tr>\n",
       "    <tr>\n",
       "      <th>1273</th>\n",
       "      <td>HP</td>\n",
       "      <td>Notebook</td>\n",
       "      <td>Intel Core i7</td>\n",
       "      <td>6</td>\n",
       "      <td>Windows</td>\n",
       "      <td>2.19</td>\n",
       "      <td>40705.9200</td>\n",
       "      <td>0</td>\n",
       "      <td>0</td>\n",
       "      <td>100.454670</td>\n",
       "      <td>1000</td>\n",
       "      <td>0</td>\n",
       "      <td>0</td>\n",
       "      <td>0</td>\n",
       "      <td>AMD</td>\n",
       "    </tr>\n",
       "  </tbody>\n",
       "</table>\n",
       "<p>1273 rows × 15 columns</p>\n",
       "</div>"
      ],
      "text/plain": [
       "     Company            TypeName                     Cpu  Ram  \\\n",
       "0      Apple           Ultrabook           Intel Core i5    8   \n",
       "1      Apple           Ultrabook           Intel Core i5    8   \n",
       "2         HP            Notebook           Intel Core i5    8   \n",
       "3      Apple           Ultrabook           Intel Core i7   16   \n",
       "4      Apple           Ultrabook           Intel Core i5    8   \n",
       "...      ...                 ...                     ...  ...   \n",
       "1269    Asus            Notebook           Intel Core i7    4   \n",
       "1270  Lenovo  2 in 1 Convertible           Intel Core i7    4   \n",
       "1271  Lenovo  2 in 1 Convertible           Intel Core i7   16   \n",
       "1272  Lenovo            Notebook  Intel Other Processors    2   \n",
       "1273      HP            Notebook           Intel Core i7    6   \n",
       "\n",
       "                  OpSys  Weight        Price  TouchScreen  IPS Panel  \\\n",
       "0                   Mac    1.37   71378.6832            0          1   \n",
       "1                   Mac    1.34   47895.5232            0          0   \n",
       "2     Others/noOS/Linux    1.86   30636.0000            0          0   \n",
       "3                   Mac    1.83  135195.3360            0          1   \n",
       "4                   Mac    1.37   96095.8080            0          1   \n",
       "...                 ...     ...          ...          ...        ...   \n",
       "1269            Windows    2.20   38378.6496            0          0   \n",
       "1270            Windows    1.80   33992.6400            1          1   \n",
       "1271            Windows    1.30   79866.7200            1          1   \n",
       "1272            Windows    1.50   12201.1200            0          0   \n",
       "1273            Windows    2.19   40705.9200            0          0   \n",
       "\n",
       "             ppi   HDD  SDD  Hybrid  Flash_drive Gpu_brand  \n",
       "0     226.983005     0  128       0            0     Intel  \n",
       "1     127.677940     0    0       0          128     Intel  \n",
       "2     141.211998     0  256       0            0     Intel  \n",
       "3     220.534624     0  512       0            0       AMD  \n",
       "4     226.983005     0  256       0            0     Intel  \n",
       "...          ...   ...  ...     ...          ...       ...  \n",
       "1269  100.454670   500    0       0            0    Nvidia  \n",
       "1270  157.350512     0  128       0            0     Intel  \n",
       "1271  276.053530     0  512       0            0     Intel  \n",
       "1272  111.935204     0    0       0           64     Intel  \n",
       "1273  100.454670  1000    0       0            0       AMD  \n",
       "\n",
       "[1273 rows x 15 columns]"
      ]
     },
     "execution_count": 712,
     "metadata": {},
     "output_type": "execute_result"
    }
   ],
   "source": [
    "df"
   ]
  },
  {
   "cell_type": "code",
   "execution_count": 713,
   "id": "15a2f7a6",
   "metadata": {
    "scrolled": true
   },
   "outputs": [
    {
     "data": {
      "text/html": [
       "<div>\n",
       "<style scoped>\n",
       "    .dataframe tbody tr th:only-of-type {\n",
       "        vertical-align: middle;\n",
       "    }\n",
       "\n",
       "    .dataframe tbody tr th {\n",
       "        vertical-align: top;\n",
       "    }\n",
       "\n",
       "    .dataframe thead th {\n",
       "        text-align: right;\n",
       "    }\n",
       "</style>\n",
       "<table border=\"1\" class=\"dataframe\">\n",
       "  <thead>\n",
       "    <tr style=\"text-align: right;\">\n",
       "      <th></th>\n",
       "      <th>Company</th>\n",
       "      <th>TypeName</th>\n",
       "      <th>Cpu</th>\n",
       "      <th>Ram</th>\n",
       "      <th>OpSys</th>\n",
       "      <th>Weight</th>\n",
       "      <th>Price</th>\n",
       "      <th>TouchScreen</th>\n",
       "      <th>IPS Panel</th>\n",
       "      <th>ppi</th>\n",
       "      <th>HDD</th>\n",
       "      <th>SDD</th>\n",
       "      <th>Hybrid</th>\n",
       "      <th>Flash_drive</th>\n",
       "      <th>Gpu_brand</th>\n",
       "    </tr>\n",
       "  </thead>\n",
       "  <tbody>\n",
       "    <tr>\n",
       "      <th>0</th>\n",
       "      <td>Apple</td>\n",
       "      <td>Ultrabook</td>\n",
       "      <td>Intel Core i5</td>\n",
       "      <td>8</td>\n",
       "      <td>Mac</td>\n",
       "      <td>1.37</td>\n",
       "      <td>71378.6832</td>\n",
       "      <td>0</td>\n",
       "      <td>1</td>\n",
       "      <td>226.983005</td>\n",
       "      <td>0</td>\n",
       "      <td>128</td>\n",
       "      <td>0</td>\n",
       "      <td>0</td>\n",
       "      <td>Intel</td>\n",
       "    </tr>\n",
       "    <tr>\n",
       "      <th>1</th>\n",
       "      <td>Apple</td>\n",
       "      <td>Ultrabook</td>\n",
       "      <td>Intel Core i5</td>\n",
       "      <td>8</td>\n",
       "      <td>Mac</td>\n",
       "      <td>1.34</td>\n",
       "      <td>47895.5232</td>\n",
       "      <td>0</td>\n",
       "      <td>0</td>\n",
       "      <td>127.677940</td>\n",
       "      <td>0</td>\n",
       "      <td>0</td>\n",
       "      <td>0</td>\n",
       "      <td>128</td>\n",
       "      <td>Intel</td>\n",
       "    </tr>\n",
       "    <tr>\n",
       "      <th>2</th>\n",
       "      <td>HP</td>\n",
       "      <td>Notebook</td>\n",
       "      <td>Intel Core i5</td>\n",
       "      <td>8</td>\n",
       "      <td>Others/noOS/Linux</td>\n",
       "      <td>1.86</td>\n",
       "      <td>30636.0000</td>\n",
       "      <td>0</td>\n",
       "      <td>0</td>\n",
       "      <td>141.211998</td>\n",
       "      <td>0</td>\n",
       "      <td>256</td>\n",
       "      <td>0</td>\n",
       "      <td>0</td>\n",
       "      <td>Intel</td>\n",
       "    </tr>\n",
       "    <tr>\n",
       "      <th>3</th>\n",
       "      <td>Apple</td>\n",
       "      <td>Ultrabook</td>\n",
       "      <td>Intel Core i7</td>\n",
       "      <td>16</td>\n",
       "      <td>Mac</td>\n",
       "      <td>1.83</td>\n",
       "      <td>135195.3360</td>\n",
       "      <td>0</td>\n",
       "      <td>1</td>\n",
       "      <td>220.534624</td>\n",
       "      <td>0</td>\n",
       "      <td>512</td>\n",
       "      <td>0</td>\n",
       "      <td>0</td>\n",
       "      <td>AMD</td>\n",
       "    </tr>\n",
       "    <tr>\n",
       "      <th>4</th>\n",
       "      <td>Apple</td>\n",
       "      <td>Ultrabook</td>\n",
       "      <td>Intel Core i5</td>\n",
       "      <td>8</td>\n",
       "      <td>Mac</td>\n",
       "      <td>1.37</td>\n",
       "      <td>96095.8080</td>\n",
       "      <td>0</td>\n",
       "      <td>1</td>\n",
       "      <td>226.983005</td>\n",
       "      <td>0</td>\n",
       "      <td>256</td>\n",
       "      <td>0</td>\n",
       "      <td>0</td>\n",
       "      <td>Intel</td>\n",
       "    </tr>\n",
       "    <tr>\n",
       "      <th>...</th>\n",
       "      <td>...</td>\n",
       "      <td>...</td>\n",
       "      <td>...</td>\n",
       "      <td>...</td>\n",
       "      <td>...</td>\n",
       "      <td>...</td>\n",
       "      <td>...</td>\n",
       "      <td>...</td>\n",
       "      <td>...</td>\n",
       "      <td>...</td>\n",
       "      <td>...</td>\n",
       "      <td>...</td>\n",
       "      <td>...</td>\n",
       "      <td>...</td>\n",
       "      <td>...</td>\n",
       "    </tr>\n",
       "    <tr>\n",
       "      <th>1269</th>\n",
       "      <td>Asus</td>\n",
       "      <td>Notebook</td>\n",
       "      <td>Intel Core i7</td>\n",
       "      <td>4</td>\n",
       "      <td>Windows</td>\n",
       "      <td>2.20</td>\n",
       "      <td>38378.6496</td>\n",
       "      <td>0</td>\n",
       "      <td>0</td>\n",
       "      <td>100.454670</td>\n",
       "      <td>500</td>\n",
       "      <td>0</td>\n",
       "      <td>0</td>\n",
       "      <td>0</td>\n",
       "      <td>Nvidia</td>\n",
       "    </tr>\n",
       "    <tr>\n",
       "      <th>1270</th>\n",
       "      <td>Lenovo</td>\n",
       "      <td>2 in 1 Convertible</td>\n",
       "      <td>Intel Core i7</td>\n",
       "      <td>4</td>\n",
       "      <td>Windows</td>\n",
       "      <td>1.80</td>\n",
       "      <td>33992.6400</td>\n",
       "      <td>1</td>\n",
       "      <td>1</td>\n",
       "      <td>157.350512</td>\n",
       "      <td>0</td>\n",
       "      <td>128</td>\n",
       "      <td>0</td>\n",
       "      <td>0</td>\n",
       "      <td>Intel</td>\n",
       "    </tr>\n",
       "    <tr>\n",
       "      <th>1271</th>\n",
       "      <td>Lenovo</td>\n",
       "      <td>2 in 1 Convertible</td>\n",
       "      <td>Intel Core i7</td>\n",
       "      <td>16</td>\n",
       "      <td>Windows</td>\n",
       "      <td>1.30</td>\n",
       "      <td>79866.7200</td>\n",
       "      <td>1</td>\n",
       "      <td>1</td>\n",
       "      <td>276.053530</td>\n",
       "      <td>0</td>\n",
       "      <td>512</td>\n",
       "      <td>0</td>\n",
       "      <td>0</td>\n",
       "      <td>Intel</td>\n",
       "    </tr>\n",
       "    <tr>\n",
       "      <th>1272</th>\n",
       "      <td>Lenovo</td>\n",
       "      <td>Notebook</td>\n",
       "      <td>Intel Other Processors</td>\n",
       "      <td>2</td>\n",
       "      <td>Windows</td>\n",
       "      <td>1.50</td>\n",
       "      <td>12201.1200</td>\n",
       "      <td>0</td>\n",
       "      <td>0</td>\n",
       "      <td>111.935204</td>\n",
       "      <td>0</td>\n",
       "      <td>0</td>\n",
       "      <td>0</td>\n",
       "      <td>64</td>\n",
       "      <td>Intel</td>\n",
       "    </tr>\n",
       "    <tr>\n",
       "      <th>1273</th>\n",
       "      <td>HP</td>\n",
       "      <td>Notebook</td>\n",
       "      <td>Intel Core i7</td>\n",
       "      <td>6</td>\n",
       "      <td>Windows</td>\n",
       "      <td>2.19</td>\n",
       "      <td>40705.9200</td>\n",
       "      <td>0</td>\n",
       "      <td>0</td>\n",
       "      <td>100.454670</td>\n",
       "      <td>1000</td>\n",
       "      <td>0</td>\n",
       "      <td>0</td>\n",
       "      <td>0</td>\n",
       "      <td>AMD</td>\n",
       "    </tr>\n",
       "  </tbody>\n",
       "</table>\n",
       "<p>1273 rows × 15 columns</p>\n",
       "</div>"
      ],
      "text/plain": [
       "     Company            TypeName                     Cpu  Ram  \\\n",
       "0      Apple           Ultrabook           Intel Core i5    8   \n",
       "1      Apple           Ultrabook           Intel Core i5    8   \n",
       "2         HP            Notebook           Intel Core i5    8   \n",
       "3      Apple           Ultrabook           Intel Core i7   16   \n",
       "4      Apple           Ultrabook           Intel Core i5    8   \n",
       "...      ...                 ...                     ...  ...   \n",
       "1269    Asus            Notebook           Intel Core i7    4   \n",
       "1270  Lenovo  2 in 1 Convertible           Intel Core i7    4   \n",
       "1271  Lenovo  2 in 1 Convertible           Intel Core i7   16   \n",
       "1272  Lenovo            Notebook  Intel Other Processors    2   \n",
       "1273      HP            Notebook           Intel Core i7    6   \n",
       "\n",
       "                  OpSys  Weight        Price  TouchScreen  IPS Panel  \\\n",
       "0                   Mac    1.37   71378.6832            0          1   \n",
       "1                   Mac    1.34   47895.5232            0          0   \n",
       "2     Others/noOS/Linux    1.86   30636.0000            0          0   \n",
       "3                   Mac    1.83  135195.3360            0          1   \n",
       "4                   Mac    1.37   96095.8080            0          1   \n",
       "...                 ...     ...          ...          ...        ...   \n",
       "1269            Windows    2.20   38378.6496            0          0   \n",
       "1270            Windows    1.80   33992.6400            1          1   \n",
       "1271            Windows    1.30   79866.7200            1          1   \n",
       "1272            Windows    1.50   12201.1200            0          0   \n",
       "1273            Windows    2.19   40705.9200            0          0   \n",
       "\n",
       "             ppi   HDD  SDD  Hybrid  Flash_drive Gpu_brand  \n",
       "0     226.983005     0  128       0            0     Intel  \n",
       "1     127.677940     0    0       0          128     Intel  \n",
       "2     141.211998     0  256       0            0     Intel  \n",
       "3     220.534624     0  512       0            0       AMD  \n",
       "4     226.983005     0  256       0            0     Intel  \n",
       "...          ...   ...  ...     ...          ...       ...  \n",
       "1269  100.454670   500    0       0            0    Nvidia  \n",
       "1270  157.350512     0  128       0            0     Intel  \n",
       "1271  276.053530     0  512       0            0     Intel  \n",
       "1272  111.935204     0    0       0           64     Intel  \n",
       "1273  100.454670  1000    0       0            0       AMD  \n",
       "\n",
       "[1273 rows x 15 columns]"
      ]
     },
     "execution_count": 713,
     "metadata": {},
     "output_type": "execute_result"
    }
   ],
   "source": [
    "df"
   ]
  },
  {
   "cell_type": "code",
   "execution_count": 714,
   "id": "75aca4d4",
   "metadata": {},
   "outputs": [
    {
     "name": "stderr",
     "output_type": "stream",
     "text": [
      "C:\\Users\\ABHISHEK RAWAL\\AppData\\Local\\Temp\\ipykernel_10636\\1734695575.py:1: FutureWarning: The default value of numeric_only in DataFrame.corr is deprecated. In a future version, it will default to False. Select only valid columns or specify the value of numeric_only to silence this warning.\n",
      "  df.corr()[\"Price\"]\n"
     ]
    },
    {
     "data": {
      "text/plain": [
       "Ram            0.739996\n",
       "Weight         0.211667\n",
       "Price          1.000000\n",
       "TouchScreen    0.190382\n",
       "IPS Panel      0.251514\n",
       "ppi            0.471481\n",
       "HDD           -0.098481\n",
       "SDD            0.669808\n",
       "Hybrid         0.022490\n",
       "Flash_drive   -0.036712\n",
       "Name: Price, dtype: float64"
      ]
     },
     "execution_count": 714,
     "metadata": {},
     "output_type": "execute_result"
    }
   ],
   "source": [
    "df.corr()[\"Price\"]"
   ]
  },
  {
   "cell_type": "code",
   "execution_count": 715,
   "id": "ea091c17",
   "metadata": {},
   "outputs": [
    {
     "name": "stderr",
     "output_type": "stream",
     "text": [
      "C:\\Users\\ABHISHEK RAWAL\\AppData\\Local\\Temp\\ipykernel_10636\\58359773.py:1: FutureWarning: The default value of numeric_only in DataFrame.corr is deprecated. In a future version, it will default to False. Select only valid columns or specify the value of numeric_only to silence this warning.\n",
      "  sns.heatmap(df.corr())\n"
     ]
    },
    {
     "data": {
      "text/plain": [
       "<Axes: >"
      ]
     },
     "execution_count": 715,
     "metadata": {},
     "output_type": "execute_result"
    },
    {
     "data": {
      "image/png": "[encoded data removed]",
      "text/plain": [
       "<Figure size 640x480 with 2 Axes>"
      ]
     },
     "metadata": {},
     "output_type": "display_data"
    }
   ],
   "source": [
    "sns.heatmap(df.corr())"
   ]
  },
  {
   "cell_type": "code",
   "execution_count": 716,
   "id": "f369a376",
   "metadata": {},
   "outputs": [
    {
     "data": {
      "text/html": [
       "<div>\n",
       "<style scoped>\n",
       "    .dataframe tbody tr th:only-of-type {\n",
       "        vertical-align: middle;\n",
       "    }\n",
       "\n",
       "    .dataframe tbody tr th {\n",
       "        vertical-align: top;\n",
       "    }\n",
       "\n",
       "    .dataframe thead th {\n",
       "        text-align: right;\n",
       "    }\n",
       "</style>\n",
       "<table border=\"1\" class=\"dataframe\">\n",
       "  <thead>\n",
       "    <tr style=\"text-align: right;\">\n",
       "      <th></th>\n",
       "      <th>Company</th>\n",
       "      <th>TypeName</th>\n",
       "      <th>Cpu</th>\n",
       "      <th>Ram</th>\n",
       "      <th>OpSys</th>\n",
       "      <th>Weight</th>\n",
       "      <th>Price</th>\n",
       "      <th>TouchScreen</th>\n",
       "      <th>IPS Panel</th>\n",
       "      <th>ppi</th>\n",
       "      <th>HDD</th>\n",
       "      <th>SDD</th>\n",
       "      <th>Hybrid</th>\n",
       "      <th>Flash_drive</th>\n",
       "      <th>Gpu_brand</th>\n",
       "    </tr>\n",
       "  </thead>\n",
       "  <tbody>\n",
       "    <tr>\n",
       "      <th>0</th>\n",
       "      <td>Apple</td>\n",
       "      <td>Ultrabook</td>\n",
       "      <td>Intel Core i5</td>\n",
       "      <td>8</td>\n",
       "      <td>Mac</td>\n",
       "      <td>1.37</td>\n",
       "      <td>71378.6832</td>\n",
       "      <td>0</td>\n",
       "      <td>1</td>\n",
       "      <td>226.983005</td>\n",
       "      <td>0</td>\n",
       "      <td>128</td>\n",
       "      <td>0</td>\n",
       "      <td>0</td>\n",
       "      <td>Intel</td>\n",
       "    </tr>\n",
       "    <tr>\n",
       "      <th>1</th>\n",
       "      <td>Apple</td>\n",
       "      <td>Ultrabook</td>\n",
       "      <td>Intel Core i5</td>\n",
       "      <td>8</td>\n",
       "      <td>Mac</td>\n",
       "      <td>1.34</td>\n",
       "      <td>47895.5232</td>\n",
       "      <td>0</td>\n",
       "      <td>0</td>\n",
       "      <td>127.677940</td>\n",
       "      <td>0</td>\n",
       "      <td>0</td>\n",
       "      <td>0</td>\n",
       "      <td>128</td>\n",
       "      <td>Intel</td>\n",
       "    </tr>\n",
       "    <tr>\n",
       "      <th>2</th>\n",
       "      <td>HP</td>\n",
       "      <td>Notebook</td>\n",
       "      <td>Intel Core i5</td>\n",
       "      <td>8</td>\n",
       "      <td>Others/noOS/Linux</td>\n",
       "      <td>1.86</td>\n",
       "      <td>30636.0000</td>\n",
       "      <td>0</td>\n",
       "      <td>0</td>\n",
       "      <td>141.211998</td>\n",
       "      <td>0</td>\n",
       "      <td>256</td>\n",
       "      <td>0</td>\n",
       "      <td>0</td>\n",
       "      <td>Intel</td>\n",
       "    </tr>\n",
       "    <tr>\n",
       "      <th>3</th>\n",
       "      <td>Apple</td>\n",
       "      <td>Ultrabook</td>\n",
       "      <td>Intel Core i7</td>\n",
       "      <td>16</td>\n",
       "      <td>Mac</td>\n",
       "      <td>1.83</td>\n",
       "      <td>135195.3360</td>\n",
       "      <td>0</td>\n",
       "      <td>1</td>\n",
       "      <td>220.534624</td>\n",
       "      <td>0</td>\n",
       "      <td>512</td>\n",
       "      <td>0</td>\n",
       "      <td>0</td>\n",
       "      <td>AMD</td>\n",
       "    </tr>\n",
       "    <tr>\n",
       "      <th>4</th>\n",
       "      <td>Apple</td>\n",
       "      <td>Ultrabook</td>\n",
       "      <td>Intel Core i5</td>\n",
       "      <td>8</td>\n",
       "      <td>Mac</td>\n",
       "      <td>1.37</td>\n",
       "      <td>96095.8080</td>\n",
       "      <td>0</td>\n",
       "      <td>1</td>\n",
       "      <td>226.983005</td>\n",
       "      <td>0</td>\n",
       "      <td>256</td>\n",
       "      <td>0</td>\n",
       "      <td>0</td>\n",
       "      <td>Intel</td>\n",
       "    </tr>\n",
       "    <tr>\n",
       "      <th>...</th>\n",
       "      <td>...</td>\n",
       "      <td>...</td>\n",
       "      <td>...</td>\n",
       "      <td>...</td>\n",
       "      <td>...</td>\n",
       "      <td>...</td>\n",
       "      <td>...</td>\n",
       "      <td>...</td>\n",
       "      <td>...</td>\n",
       "      <td>...</td>\n",
       "      <td>...</td>\n",
       "      <td>...</td>\n",
       "      <td>...</td>\n",
       "      <td>...</td>\n",
       "      <td>...</td>\n",
       "    </tr>\n",
       "    <tr>\n",
       "      <th>1269</th>\n",
       "      <td>Asus</td>\n",
       "      <td>Notebook</td>\n",
       "      <td>Intel Core i7</td>\n",
       "      <td>4</td>\n",
       "      <td>Windows</td>\n",
       "      <td>2.20</td>\n",
       "      <td>38378.6496</td>\n",
       "      <td>0</td>\n",
       "      <td>0</td>\n",
       "      <td>100.454670</td>\n",
       "      <td>500</td>\n",
       "      <td>0</td>\n",
       "      <td>0</td>\n",
       "      <td>0</td>\n",
       "      <td>Nvidia</td>\n",
       "    </tr>\n",
       "    <tr>\n",
       "      <th>1270</th>\n",
       "      <td>Lenovo</td>\n",
       "      <td>2 in 1 Convertible</td>\n",
       "      <td>Intel Core i7</td>\n",
       "      <td>4</td>\n",
       "      <td>Windows</td>\n",
       "      <td>1.80</td>\n",
       "      <td>33992.6400</td>\n",
       "      <td>1</td>\n",
       "      <td>1</td>\n",
       "      <td>157.350512</td>\n",
       "      <td>0</td>\n",
       "      <td>128</td>\n",
       "      <td>0</td>\n",
       "      <td>0</td>\n",
       "      <td>Intel</td>\n",
       "    </tr>\n",
       "    <tr>\n",
       "      <th>1271</th>\n",
       "      <td>Lenovo</td>\n",
       "      <td>2 in 1 Convertible</td>\n",
       "      <td>Intel Core i7</td>\n",
       "      <td>16</td>\n",
       "      <td>Windows</td>\n",
       "      <td>1.30</td>\n",
       "      <td>79866.7200</td>\n",
       "      <td>1</td>\n",
       "      <td>1</td>\n",
       "      <td>276.053530</td>\n",
       "      <td>0</td>\n",
       "      <td>512</td>\n",
       "      <td>0</td>\n",
       "      <td>0</td>\n",
       "      <td>Intel</td>\n",
       "    </tr>\n",
       "    <tr>\n",
       "      <th>1272</th>\n",
       "      <td>Lenovo</td>\n",
       "      <td>Notebook</td>\n",
       "      <td>Intel Other Processors</td>\n",
       "      <td>2</td>\n",
       "      <td>Windows</td>\n",
       "      <td>1.50</td>\n",
       "      <td>12201.1200</td>\n",
       "      <td>0</td>\n",
       "      <td>0</td>\n",
       "      <td>111.935204</td>\n",
       "      <td>0</td>\n",
       "      <td>0</td>\n",
       "      <td>0</td>\n",
       "      <td>64</td>\n",
       "      <td>Intel</td>\n",
       "    </tr>\n",
       "    <tr>\n",
       "      <th>1273</th>\n",
       "      <td>HP</td>\n",
       "      <td>Notebook</td>\n",
       "      <td>Intel Core i7</td>\n",
       "      <td>6</td>\n",
       "      <td>Windows</td>\n",
       "      <td>2.19</td>\n",
       "      <td>40705.9200</td>\n",
       "      <td>0</td>\n",
       "      <td>0</td>\n",
       "      <td>100.454670</td>\n",
       "      <td>1000</td>\n",
       "      <td>0</td>\n",
       "      <td>0</td>\n",
       "      <td>0</td>\n",
       "      <td>AMD</td>\n",
       "    </tr>\n",
       "  </tbody>\n",
       "</table>\n",
       "<p>1273 rows × 15 columns</p>\n",
       "</div>"
      ],
      "text/plain": [
       "     Company            TypeName                     Cpu  Ram  \\\n",
       "0      Apple           Ultrabook           Intel Core i5    8   \n",
       "1      Apple           Ultrabook           Intel Core i5    8   \n",
       "2         HP            Notebook           Intel Core i5    8   \n",
       "3      Apple           Ultrabook           Intel Core i7   16   \n",
       "4      Apple           Ultrabook           Intel Core i5    8   \n",
       "...      ...                 ...                     ...  ...   \n",
       "1269    Asus            Notebook           Intel Core i7    4   \n",
       "1270  Lenovo  2 in 1 Convertible           Intel Core i7    4   \n",
       "1271  Lenovo  2 in 1 Convertible           Intel Core i7   16   \n",
       "1272  Lenovo            Notebook  Intel Other Processors    2   \n",
       "1273      HP            Notebook           Intel Core i7    6   \n",
       "\n",
       "                  OpSys  Weight        Price  TouchScreen  IPS Panel  \\\n",
       "0                   Mac    1.37   71378.6832            0          1   \n",
       "1                   Mac    1.34   47895.5232            0          0   \n",
       "2     Others/noOS/Linux    1.86   30636.0000            0          0   \n",
       "3                   Mac    1.83  135195.3360            0          1   \n",
       "4                   Mac    1.37   96095.8080            0          1   \n",
       "...                 ...     ...          ...          ...        ...   \n",
       "1269            Windows    2.20   38378.6496            0          0   \n",
       "1270            Windows    1.80   33992.6400            1          1   \n",
       "1271            Windows    1.30   79866.7200            1          1   \n",
       "1272            Windows    1.50   12201.1200            0          0   \n",
       "1273            Windows    2.19   40705.9200            0          0   \n",
       "\n",
       "             ppi   HDD  SDD  Hybrid  Flash_drive Gpu_brand  \n",
       "0     226.983005     0  128       0            0     Intel  \n",
       "1     127.677940     0    0       0          128     Intel  \n",
       "2     141.211998     0  256       0            0     Intel  \n",
       "3     220.534624     0  512       0            0       AMD  \n",
       "4     226.983005     0  256       0            0     Intel  \n",
       "...          ...   ...  ...     ...          ...       ...  \n",
       "1269  100.454670   500    0       0            0    Nvidia  \n",
       "1270  157.350512     0  128       0            0     Intel  \n",
       "1271  276.053530     0  512       0            0     Intel  \n",
       "1272  111.935204     0    0       0           64     Intel  \n",
       "1273  100.454670  1000    0       0            0       AMD  \n",
       "\n",
       "[1273 rows x 15 columns]"
      ]
     },
     "execution_count": 716,
     "metadata": {},
     "output_type": "execute_result"
    }
   ],
   "source": [
    "df"
   ]
  },
  {
   "cell_type": "code",
   "execution_count": 717,
   "id": "b6f44456",
   "metadata": {},
   "outputs": [
    {
     "data": {
      "text/plain": [
       "<Axes: >"
      ]
     },
     "execution_count": 717,
     "metadata": {},
     "output_type": "execute_result"
    },
    {
     "data": {
      "image/png": "[encoded data removed]",
      "text/plain": [
       "<Figure size 640x480 with 1 Axes>"
      ]
     },
     "metadata": {},
     "output_type": "display_data"
    }
   ],
   "source": [
    "df[\"Cpu\"].value_counts().plot(kind=\"bar\")"
   ]
  },
  {
   "cell_type": "code",
   "execution_count": 718,
   "id": "34eee9c8",
   "metadata": {},
   "outputs": [
    {
     "data": {
      "text/plain": [
       "<Axes: >"
      ]
     },
     "execution_count": 718,
     "metadata": {},
     "output_type": "execute_result"
    },
    {
     "data": {
      "image/png": "[encoded data removed]",
      "text/plain": [
       "<Figure size 640x480 with 1 Axes>"
      ]
     },
     "metadata": {},
     "output_type": "display_data"
    }
   ],
   "source": [
    "df[\"OpSys\"].value_counts().plot(kind=\"bar\")"
   ]
  },
  {
   "cell_type": "code",
   "execution_count": 719,
   "id": "88ceae77",
   "metadata": {},
   "outputs": [
    {
     "data": {
      "text/plain": [
       "<Axes: xlabel='OpSys', ylabel='Price'>"
      ]
     },
     "execution_count": 719,
     "metadata": {},
     "output_type": "execute_result"
    },
    {
     "data": {
      "image/png": "[encoded data removed]",
      "text/plain": [
       "<Figure size 640x480 with 1 Axes>"
      ]
     },
     "metadata": {},
     "output_type": "display_data"
    }
   ],
   "source": [
    "sns.barplot(x=df[\"OpSys\"],y=df[\"Price\"])"
   ]
  },
  {
   "cell_type": "code",
   "execution_count": 720,
   "id": "6344bbb9",
   "metadata": {},
   "outputs": [
    {
     "name": "stderr",
     "output_type": "stream",
     "text": [
      "C:\\Users\\ABHISHEK RAWAL\\AppData\\Local\\Temp\\ipykernel_10636\\1734695575.py:1: FutureWarning: The default value of numeric_only in DataFrame.corr is deprecated. In a future version, it will default to False. Select only valid columns or specify the value of numeric_only to silence this warning.\n",
      "  df.corr()[\"Price\"]\n"
     ]
    },
    {
     "data": {
      "text/plain": [
       "Ram            0.739996\n",
       "Weight         0.211667\n",
       "Price          1.000000\n",
       "TouchScreen    0.190382\n",
       "IPS Panel      0.251514\n",
       "ppi            0.471481\n",
       "HDD           -0.098481\n",
       "SDD            0.669808\n",
       "Hybrid         0.022490\n",
       "Flash_drive   -0.036712\n",
       "Name: Price, dtype: float64"
      ]
     },
     "execution_count": 720,
     "metadata": {},
     "output_type": "execute_result"
    }
   ],
   "source": [
    "df.corr()[\"Price\"]"
   ]
  },
  {
   "cell_type": "code",
   "execution_count": 721,
   "id": "b3d55bd1",
   "metadata": {},
   "outputs": [
    {
     "name": "stderr",
     "output_type": "stream",
     "text": [
      "C:\\Users\\ABHISHEK RAWAL\\AppData\\Local\\Temp\\ipykernel_10636\\196129849.py:1: UserWarning: \n",
      "\n",
      "`distplot` is a deprecated function and will be removed in seaborn v0.14.0.\n",
      "\n",
      "Please adapt your code to use either `displot` (a figure-level function with\n",
      "similar flexibility) or `histplot` (an axes-level function for histograms).\n",
      "\n",
      "For a guide to updating your code to use the new functions, please see\n",
      "https://gist.github.com/mwaskom/de44147ed2974457ad6372750bbe5751\n",
      "\n",
      "  sns.distplot(df[\"Weight\"])\n"
     ]
    },
    {
     "data": {
      "text/plain": [
       "<Axes: xlabel='Weight', ylabel='Density'>"
      ]
     },
     "execution_count": 721,
     "metadata": {},
     "output_type": "execute_result"
    },
    {
     "data": {
      "image/png": "[encoded data removed]",
      "text/plain": [
       "<Figure size 640x480 with 1 Axes>"
      ]
     },
     "metadata": {},
     "output_type": "display_data"
    }
   ],
   "source": [
    "sns.distplot(df[\"Weight\"])"
   ]
  },
  {
   "cell_type": "code",
   "execution_count": 722,
   "id": "46efc85d",
   "metadata": {},
   "outputs": [
    {
     "data": {
      "text/plain": [
       "<Axes: xlabel='Weight', ylabel='Price'>"
      ]
     },
     "execution_count": 722,
     "metadata": {},
     "output_type": "execute_result"
    },
    {
     "data": {
      "image/png": "[encoded data removed]",
      "text/plain": [
       "<Figure size 640x480 with 1 Axes>"
      ]
     },
     "metadata": {},
     "output_type": "display_data"
    }
   ],
   "source": [
    "#slighty Linear Behaviour of Weight with Price\n",
    "sns.scatterplot(x=df[\"Weight\"],y=df[\"Price\"])"
   ]
  },
  {
   "cell_type": "code",
   "execution_count": 723,
   "id": "e096ef76",
   "metadata": {},
   "outputs": [
    {
     "name": "stderr",
     "output_type": "stream",
     "text": [
      "C:\\Users\\ABHISHEK RAWAL\\AppData\\Local\\Temp\\ipykernel_10636\\2575659300.py:2: UserWarning: \n",
      "\n",
      "`distplot` is a deprecated function and will be removed in seaborn v0.14.0.\n",
      "\n",
      "Please adapt your code to use either `displot` (a figure-level function with\n",
      "similar flexibility) or `histplot` (an axes-level function for histograms).\n",
      "\n",
      "For a guide to updating your code to use the new functions, please see\n",
      "https://gist.github.com/mwaskom/de44147ed2974457ad6372750bbe5751\n",
      "\n",
      "  sns.distplot(df[\"Price\"])\n"
     ]
    },
    {
     "data": {
      "text/plain": [
       "<Axes: xlabel='Price', ylabel='Density'>"
      ]
     },
     "execution_count": 723,
     "metadata": {},
     "output_type": "execute_result"
    },
    {
     "data": {
      "image/png": "[encoded data removed]",
      "text/plain": [
       "<Figure size 640x480 with 1 Axes>"
      ]
     },
     "metadata": {},
     "output_type": "display_data"
    }
   ],
   "source": [
    "#As the output column is right skewed, so we have take the log of output columns\n",
    "sns.distplot(df[\"Price\"])"
   ]
  },
  {
   "cell_type": "code",
   "execution_count": 724,
   "id": "3536f2aa",
   "metadata": {},
   "outputs": [
    {
     "name": "stderr",
     "output_type": "stream",
     "text": [
      "C:\\Users\\ABHISHEK RAWAL\\AppData\\Local\\Temp\\ipykernel_10636\\1558985802.py:1: SettingWithCopyWarning: \n",
      "A value is trying to be set on a copy of a slice from a DataFrame.\n",
      "Try using .loc[row_indexer,col_indexer] = value instead\n",
      "\n",
      "See the caveats in the documentation: https://pandas.pydata.org/pandas-docs/stable/user_guide/indexing.html#returning-a-view-versus-a-copy\n",
      "  df[\"Price\"]=np.log(df[\"Price\"])\n"
     ]
    }
   ],
   "source": [
    "df[\"Price\"]=np.log(df[\"Price\"])"
   ]
  },
  {
   "cell_type": "code",
   "execution_count": 725,
   "id": "d86ed6bb",
   "metadata": {},
   "outputs": [
    {
     "name": "stderr",
     "output_type": "stream",
     "text": [
      "C:\\Users\\ABHISHEK RAWAL\\AppData\\Local\\Temp\\ipykernel_10636\\1700597218.py:2: UserWarning: \n",
      "\n",
      "`distplot` is a deprecated function and will be removed in seaborn v0.14.0.\n",
      "\n",
      "Please adapt your code to use either `displot` (a figure-level function with\n",
      "similar flexibility) or `histplot` (an axes-level function for histograms).\n",
      "\n",
      "For a guide to updating your code to use the new functions, please see\n",
      "https://gist.github.com/mwaskom/de44147ed2974457ad6372750bbe5751\n",
      "\n",
      "  sns.distplot(df[\"Price\"])\n"
     ]
    },
    {
     "data": {
      "text/plain": [
       "<Axes: xlabel='Price', ylabel='Density'>"
      ]
     },
     "execution_count": 725,
     "metadata": {},
     "output_type": "execute_result"
    },
    {
     "data": {
      "image/png": "[encoded data removed]",
      "text/plain": [
       "<Figure size 640x480 with 1 Axes>"
      ]
     },
     "metadata": {},
     "output_type": "display_data"
    }
   ],
   "source": [
    "#now it an almost normal function\n",
    "sns.distplot(df[\"Price\"])"
   ]
  },
  {
   "cell_type": "markdown",
   "id": "db517453",
   "metadata": {},
   "source": [
    "# Model Building"
   ]
  },
  {
   "cell_type": "code",
   "execution_count": 947,
   "id": "3930a82a",
   "metadata": {},
   "outputs": [],
   "source": [
    "best_score=[]"
   ]
  },
  {
   "cell_type": "code",
   "execution_count": 974,
   "id": "af8af9d6",
   "metadata": {},
   "outputs": [
    {
     "data": {
      "text/plain": [
       "[0.8677064776237616,\n",
       " 0.8555700615398288,\n",
       " 0.7921671540198261,\n",
       " 0.8741745073333387,\n",
       " 0.8571157249870573,\n",
       " 0.8563801379067261,\n",
       " 0.8178649175805204]"
      ]
     },
     "execution_count": 974,
     "metadata": {},
     "output_type": "execute_result"
    }
   ],
   "source": [
    "best_score"
   ]
  },
  {
   "cell_type": "code",
   "execution_count": 726,
   "id": "387f64ea",
   "metadata": {},
   "outputs": [],
   "source": [
    "from sklearn.pipeline import Pipeline\n",
    "from sklearn.compose import ColumnTransformer\n",
    "from sklearn.linear_model import LinearRegression,Ridge,Lasso\n",
    "from sklearn.ensemble import RandomForestRegressor\n",
    "from sklearn.svm import SVR\n",
    "from sklearn.ensemble import VotingRegressor\n",
    "from sklearn.ensemble import StackingRegressor\n",
    "from sklearn.tree import DecisionTreeRegressor\n",
    "from sklearn.ensemble import AdaBoostRegressor\n",
    "from sklearn.ensemble import GradientBoostingRegressor\n",
    "from sklearn.neighbors import KNeighborsRegressor\n",
    "from xgboost import XGBRegressor"
   ]
  },
  {
   "cell_type": "code",
   "execution_count": 727,
   "id": "85627164",
   "metadata": {},
   "outputs": [],
   "source": [
    "from sklearn.metrics import r2_score,mean_absolute_error\n",
    "from sklearn.model_selection import train_test_split,cross_val_score,cross_validate,GridSearchCV,RandomizedSearchCV"
   ]
  },
  {
   "cell_type": "code",
   "execution_count": 728,
   "id": "d5f98893",
   "metadata": {},
   "outputs": [],
   "source": [
    "from sklearn.preprocessing import StandardScaler,MinMaxScaler\n",
    "from sklearn.preprocessing import OneHotEncoder"
   ]
  },
  {
   "cell_type": "code",
   "execution_count": 729,
   "id": "f1812bde",
   "metadata": {},
   "outputs": [
    {
     "data": {
      "text/html": [
       "<div>\n",
       "<style scoped>\n",
       "    .dataframe tbody tr th:only-of-type {\n",
       "        vertical-align: middle;\n",
       "    }\n",
       "\n",
       "    .dataframe tbody tr th {\n",
       "        vertical-align: top;\n",
       "    }\n",
       "\n",
       "    .dataframe thead th {\n",
       "        text-align: right;\n",
       "    }\n",
       "</style>\n",
       "<table border=\"1\" class=\"dataframe\">\n",
       "  <thead>\n",
       "    <tr style=\"text-align: right;\">\n",
       "      <th></th>\n",
       "      <th>Company</th>\n",
       "      <th>TypeName</th>\n",
       "      <th>Cpu</th>\n",
       "      <th>Ram</th>\n",
       "      <th>OpSys</th>\n",
       "      <th>Weight</th>\n",
       "      <th>Price</th>\n",
       "      <th>TouchScreen</th>\n",
       "      <th>IPS Panel</th>\n",
       "      <th>ppi</th>\n",
       "      <th>HDD</th>\n",
       "      <th>SDD</th>\n",
       "      <th>Hybrid</th>\n",
       "      <th>Flash_drive</th>\n",
       "      <th>Gpu_brand</th>\n",
       "    </tr>\n",
       "  </thead>\n",
       "  <tbody>\n",
       "    <tr>\n",
       "      <th>0</th>\n",
       "      <td>Apple</td>\n",
       "      <td>Ultrabook</td>\n",
       "      <td>Intel Core i5</td>\n",
       "      <td>8</td>\n",
       "      <td>Mac</td>\n",
       "      <td>1.37</td>\n",
       "      <td>11.175755</td>\n",
       "      <td>0</td>\n",
       "      <td>1</td>\n",
       "      <td>226.983005</td>\n",
       "      <td>0</td>\n",
       "      <td>128</td>\n",
       "      <td>0</td>\n",
       "      <td>0</td>\n",
       "      <td>Intel</td>\n",
       "    </tr>\n",
       "    <tr>\n",
       "      <th>1</th>\n",
       "      <td>Apple</td>\n",
       "      <td>Ultrabook</td>\n",
       "      <td>Intel Core i5</td>\n",
       "      <td>8</td>\n",
       "      <td>Mac</td>\n",
       "      <td>1.34</td>\n",
       "      <td>10.776777</td>\n",
       "      <td>0</td>\n",
       "      <td>0</td>\n",
       "      <td>127.677940</td>\n",
       "      <td>0</td>\n",
       "      <td>0</td>\n",
       "      <td>0</td>\n",
       "      <td>128</td>\n",
       "      <td>Intel</td>\n",
       "    </tr>\n",
       "    <tr>\n",
       "      <th>2</th>\n",
       "      <td>HP</td>\n",
       "      <td>Notebook</td>\n",
       "      <td>Intel Core i5</td>\n",
       "      <td>8</td>\n",
       "      <td>Others/noOS/Linux</td>\n",
       "      <td>1.86</td>\n",
       "      <td>10.329931</td>\n",
       "      <td>0</td>\n",
       "      <td>0</td>\n",
       "      <td>141.211998</td>\n",
       "      <td>0</td>\n",
       "      <td>256</td>\n",
       "      <td>0</td>\n",
       "      <td>0</td>\n",
       "      <td>Intel</td>\n",
       "    </tr>\n",
       "    <tr>\n",
       "      <th>3</th>\n",
       "      <td>Apple</td>\n",
       "      <td>Ultrabook</td>\n",
       "      <td>Intel Core i7</td>\n",
       "      <td>16</td>\n",
       "      <td>Mac</td>\n",
       "      <td>1.83</td>\n",
       "      <td>11.814476</td>\n",
       "      <td>0</td>\n",
       "      <td>1</td>\n",
       "      <td>220.534624</td>\n",
       "      <td>0</td>\n",
       "      <td>512</td>\n",
       "      <td>0</td>\n",
       "      <td>0</td>\n",
       "      <td>AMD</td>\n",
       "    </tr>\n",
       "    <tr>\n",
       "      <th>4</th>\n",
       "      <td>Apple</td>\n",
       "      <td>Ultrabook</td>\n",
       "      <td>Intel Core i5</td>\n",
       "      <td>8</td>\n",
       "      <td>Mac</td>\n",
       "      <td>1.37</td>\n",
       "      <td>11.473101</td>\n",
       "      <td>0</td>\n",
       "      <td>1</td>\n",
       "      <td>226.983005</td>\n",
       "      <td>0</td>\n",
       "      <td>256</td>\n",
       "      <td>0</td>\n",
       "      <td>0</td>\n",
       "      <td>Intel</td>\n",
       "    </tr>\n",
       "    <tr>\n",
       "      <th>...</th>\n",
       "      <td>...</td>\n",
       "      <td>...</td>\n",
       "      <td>...</td>\n",
       "      <td>...</td>\n",
       "      <td>...</td>\n",
       "      <td>...</td>\n",
       "      <td>...</td>\n",
       "      <td>...</td>\n",
       "      <td>...</td>\n",
       "      <td>...</td>\n",
       "      <td>...</td>\n",
       "      <td>...</td>\n",
       "      <td>...</td>\n",
       "      <td>...</td>\n",
       "      <td>...</td>\n",
       "    </tr>\n",
       "    <tr>\n",
       "      <th>1269</th>\n",
       "      <td>Asus</td>\n",
       "      <td>Notebook</td>\n",
       "      <td>Intel Core i7</td>\n",
       "      <td>4</td>\n",
       "      <td>Windows</td>\n",
       "      <td>2.20</td>\n",
       "      <td>10.555257</td>\n",
       "      <td>0</td>\n",
       "      <td>0</td>\n",
       "      <td>100.454670</td>\n",
       "      <td>500</td>\n",
       "      <td>0</td>\n",
       "      <td>0</td>\n",
       "      <td>0</td>\n",
       "      <td>Nvidia</td>\n",
       "    </tr>\n",
       "    <tr>\n",
       "      <th>1270</th>\n",
       "      <td>Lenovo</td>\n",
       "      <td>2 in 1 Convertible</td>\n",
       "      <td>Intel Core i7</td>\n",
       "      <td>4</td>\n",
       "      <td>Windows</td>\n",
       "      <td>1.80</td>\n",
       "      <td>10.433899</td>\n",
       "      <td>1</td>\n",
       "      <td>1</td>\n",
       "      <td>157.350512</td>\n",
       "      <td>0</td>\n",
       "      <td>128</td>\n",
       "      <td>0</td>\n",
       "      <td>0</td>\n",
       "      <td>Intel</td>\n",
       "    </tr>\n",
       "    <tr>\n",
       "      <th>1271</th>\n",
       "      <td>Lenovo</td>\n",
       "      <td>2 in 1 Convertible</td>\n",
       "      <td>Intel Core i7</td>\n",
       "      <td>16</td>\n",
       "      <td>Windows</td>\n",
       "      <td>1.30</td>\n",
       "      <td>11.288115</td>\n",
       "      <td>1</td>\n",
       "      <td>1</td>\n",
       "      <td>276.053530</td>\n",
       "      <td>0</td>\n",
       "      <td>512</td>\n",
       "      <td>0</td>\n",
       "      <td>0</td>\n",
       "      <td>Intel</td>\n",
       "    </tr>\n",
       "    <tr>\n",
       "      <th>1272</th>\n",
       "      <td>Lenovo</td>\n",
       "      <td>Notebook</td>\n",
       "      <td>Intel Other Processors</td>\n",
       "      <td>2</td>\n",
       "      <td>Windows</td>\n",
       "      <td>1.50</td>\n",
       "      <td>9.409283</td>\n",
       "      <td>0</td>\n",
       "      <td>0</td>\n",
       "      <td>111.935204</td>\n",
       "      <td>0</td>\n",
       "      <td>0</td>\n",
       "      <td>0</td>\n",
       "      <td>64</td>\n",
       "      <td>Intel</td>\n",
       "    </tr>\n",
       "    <tr>\n",
       "      <th>1273</th>\n",
       "      <td>HP</td>\n",
       "      <td>Notebook</td>\n",
       "      <td>Intel Core i7</td>\n",
       "      <td>6</td>\n",
       "      <td>Windows</td>\n",
       "      <td>2.19</td>\n",
       "      <td>10.614129</td>\n",
       "      <td>0</td>\n",
       "      <td>0</td>\n",
       "      <td>100.454670</td>\n",
       "      <td>1000</td>\n",
       "      <td>0</td>\n",
       "      <td>0</td>\n",
       "      <td>0</td>\n",
       "      <td>AMD</td>\n",
       "    </tr>\n",
       "  </tbody>\n",
       "</table>\n",
       "<p>1273 rows × 15 columns</p>\n",
       "</div>"
      ],
      "text/plain": [
       "     Company            TypeName                     Cpu  Ram  \\\n",
       "0      Apple           Ultrabook           Intel Core i5    8   \n",
       "1      Apple           Ultrabook           Intel Core i5    8   \n",
       "2         HP            Notebook           Intel Core i5    8   \n",
       "3      Apple           Ultrabook           Intel Core i7   16   \n",
       "4      Apple           Ultrabook           Intel Core i5    8   \n",
       "...      ...                 ...                     ...  ...   \n",
       "1269    Asus            Notebook           Intel Core i7    4   \n",
       "1270  Lenovo  2 in 1 Convertible           Intel Core i7    4   \n",
       "1271  Lenovo  2 in 1 Convertible           Intel Core i7   16   \n",
       "1272  Lenovo            Notebook  Intel Other Processors    2   \n",
       "1273      HP            Notebook           Intel Core i7    6   \n",
       "\n",
       "                  OpSys  Weight      Price  TouchScreen  IPS Panel  \\\n",
       "0                   Mac    1.37  11.175755            0          1   \n",
       "1                   Mac    1.34  10.776777            0          0   \n",
       "2     Others/noOS/Linux    1.86  10.329931            0          0   \n",
       "3                   Mac    1.83  11.814476            0          1   \n",
       "4                   Mac    1.37  11.473101            0          1   \n",
       "...                 ...     ...        ...          ...        ...   \n",
       "1269            Windows    2.20  10.555257            0          0   \n",
       "1270            Windows    1.80  10.433899            1          1   \n",
       "1271            Windows    1.30  11.288115            1          1   \n",
       "1272            Windows    1.50   9.409283            0          0   \n",
       "1273            Windows    2.19  10.614129            0          0   \n",
       "\n",
       "             ppi   HDD  SDD  Hybrid  Flash_drive Gpu_brand  \n",
       "0     226.983005     0  128       0            0     Intel  \n",
       "1     127.677940     0    0       0          128     Intel  \n",
       "2     141.211998     0  256       0            0     Intel  \n",
       "3     220.534624     0  512       0            0       AMD  \n",
       "4     226.983005     0  256       0            0     Intel  \n",
       "...          ...   ...  ...     ...          ...       ...  \n",
       "1269  100.454670   500    0       0            0    Nvidia  \n",
       "1270  157.350512     0  128       0            0     Intel  \n",
       "1271  276.053530     0  512       0            0     Intel  \n",
       "1272  111.935204     0    0       0           64     Intel  \n",
       "1273  100.454670  1000    0       0            0       AMD  \n",
       "\n",
       "[1273 rows x 15 columns]"
      ]
     },
     "execution_count": 729,
     "metadata": {},
     "output_type": "execute_result"
    }
   ],
   "source": [
    "df"
   ]
  },
  {
   "cell_type": "code",
   "execution_count": 730,
   "id": "93bf8281",
   "metadata": {},
   "outputs": [],
   "source": [
    "X=df.drop(columns=[\"Price\"])\n",
    "y=df[\"Price\"]"
   ]
  },
  {
   "cell_type": "code",
   "execution_count": 731,
   "id": "e381188a",
   "metadata": {},
   "outputs": [],
   "source": [
    "xtrain,xtest,ytrain,ytest=train_test_split(X,y,test_size=0.15,random_state=2)"
   ]
  },
  {
   "cell_type": "code",
   "execution_count": 732,
   "id": "99880d01",
   "metadata": {},
   "outputs": [
    {
     "data": {
      "text/plain": [
       "Dell         291\n",
       "Lenovo       289\n",
       "HP           268\n",
       "Asus         151\n",
       "Acer         101\n",
       "MSI           54\n",
       "Toshiba       48\n",
       "Apple         21\n",
       "Samsung        8\n",
       "Razer          7\n",
       "Mediacom       7\n",
       "Microsoft      6\n",
       "Xiaomi         4\n",
       "Vero           4\n",
       "Chuwi          3\n",
       "Google         3\n",
       "Fujitsu        3\n",
       "LG             3\n",
       "Huawei         2\n",
       "Name: Company, dtype: int64"
      ]
     },
     "execution_count": 732,
     "metadata": {},
     "output_type": "execute_result"
    }
   ],
   "source": [
    "X[\"Company\"].value_counts()"
   ]
  },
  {
   "cell_type": "markdown",
   "id": "e4bd2ebb",
   "metadata": {},
   "source": [
    "# Linear Regression"
   ]
  },
  {
   "cell_type": "code",
   "execution_count": 865,
   "id": "f356c3bf",
   "metadata": {},
   "outputs": [
    {
     "name": "stdout",
     "output_type": "stream",
     "text": [
      "r2_score 0.7868856907668542\n",
      "mae 0.21985990361496469\n"
     ]
    }
   ],
   "source": [
    "step1=ColumnTransformer(transformers=[\n",
    "          (\"ohe_lin\",OneHotEncoder(sparse_output=False,drop=\"first\",handle_unknown='ignore'),[0,1,2,4,13]),   \n",
    "          (\"stand\",StandardScaler(),[3,5,6,7,8,9,10,11,12])\n",
    "            \n",
    "],remainder='passthrough')\n",
    "step2=LinearRegression()\n",
    "\n",
    "pipe=Pipeline([\n",
    "    ('step1',step1),\n",
    "    ('step2',step2)\n",
    "])\n",
    "\n",
    "pipe.fit(xtrain,ytrain)\n",
    "ypred=pipe.predict(xtest)\n",
    "print(\"r2_score\",r2_score(ytest,ypred))\n",
    "print(\"mae\",mean_absolute_error(ytest,ypred))\n"
   ]
  },
  {
   "cell_type": "markdown",
   "id": "243afded",
   "metadata": {},
   "source": [
    "# Ridge "
   ]
  },
  {
   "cell_type": "code",
   "execution_count": 734,
   "id": "3bfcd929",
   "metadata": {},
   "outputs": [
    {
     "name": "stdout",
     "output_type": "stream",
     "text": [
      "r2_score 0.7885707724800691\n",
      "mae 0.21910592832739387\n"
     ]
    }
   ],
   "source": [
    "step1=step1=ColumnTransformer(transformers=[\n",
    "          (\"ohe_lin\",OneHotEncoder(sparse_output=False,drop=\"first\",handle_unknown='ignore'),[0,1,2,4,13]),   \n",
    "          (\"stand\",StandardScaler(),[3,5,6,7,8,9,10,11,12])\n",
    "            \n",
    "],remainder='passthrough')\n",
    "step2=Ridge(alpha=0.2)\n",
    "pipe=Pipeline([\n",
    "    ('step1',step1),\n",
    "    ('step2',step2)\n",
    "])\n",
    "\n",
    "pipe.fit(xtrain,ytrain)\n",
    "ypred=pipe.predict(xtest)\n",
    "print(\"r2_score\",r2_score(ytest,ypred))\n",
    "print(\"mae\",mean_absolute_error(ytest,ypred))"
   ]
  },
  {
   "cell_type": "markdown",
   "id": "06c370bf",
   "metadata": {},
   "source": [
    "# Lasso"
   ]
  },
  {
   "cell_type": "code",
   "execution_count": 735,
   "id": "cdb478d7",
   "metadata": {},
   "outputs": [
    {
     "name": "stdout",
     "output_type": "stream",
     "text": [
      "r2_score 0.7962058089875249\n",
      "mae 0.21738136172554207\n"
     ]
    }
   ],
   "source": [
    "step1=step1=ColumnTransformer(transformers=[\n",
    "          (\"ohe_lin\",OneHotEncoder(sparse_output=False,drop=\"first\",handle_unknown='ignore'),[0,1,2,4,13]),   \n",
    "          (\"stand\",StandardScaler(),[3,5,6,7,8,9,10,11,12])\n",
    "            \n",
    "],remainder='passthrough')\n",
    "step2=Lasso(alpha=0.001)\n",
    "pipe=Pipeline([\n",
    "    ('step1',step1),\n",
    "    ('step2',step2)\n",
    "])\n",
    "\n",
    "pipe.fit(xtrain,ytrain)\n",
    "ypred=pipe.predict(xtest)\n",
    "print(\"r2_score\",r2_score(ytest,ypred))\n",
    "print(\"mae\",mean_absolute_error(ytest,ypred))"
   ]
  },
  {
   "cell_type": "markdown",
   "id": "7ed74626",
   "metadata": {},
   "source": [
    "# knn"
   ]
  },
  {
   "cell_type": "code",
   "execution_count": 906,
   "id": "613deec6",
   "metadata": {},
   "outputs": [
    {
     "name": "stdout",
     "output_type": "stream",
     "text": [
      "r2_score 0.8135257068480182\n",
      "mae 0.18583556440979546\n"
     ]
    }
   ],
   "source": [
    "step1=step1=ColumnTransformer(transformers=[\n",
    "          (\"ohe_lin\",OneHotEncoder(sparse_output=False,drop=\"first\",handle_unknown='ignore'),[0,1,2,4,13]),   \n",
    "          (\"stand\",StandardScaler(),[3,5,6,7,8,9,10,11,12])\n",
    "            \n",
    "],remainder='passthrough')\n",
    "step2=KNeighborsRegressor(n_neighbors=5,weights='distance')\n",
    "pipe=Pipeline([\n",
    "    ('step1',step1),\n",
    "    ('step2',step2)\n",
    "])\n",
    "\n",
    "pipe.fit(xtrain,ytrain)\n",
    "ypred=pipe.predict(xtest)\n",
    "print(\"r2_score\",r2_score(ytest,ypred))\n",
    "print(\"mae\",mean_absolute_error(ytest,ypred))"
   ]
  },
  {
   "cell_type": "markdown",
   "id": "8b459c1a",
   "metadata": {},
   "source": [
    "# dt"
   ]
  },
  {
   "cell_type": "code",
   "execution_count": 737,
   "id": "9bd53c53",
   "metadata": {
    "scrolled": true
   },
   "outputs": [
    {
     "name": "stdout",
     "output_type": "stream",
     "text": [
      "r2_score 0.7745652669180345\n",
      "mae 0.22081478196780532\n"
     ]
    }
   ],
   "source": [
    "step1=step1=ColumnTransformer(transformers=[\n",
    "          (\"ohe_lin\",OneHotEncoder(sparse_output=False,drop=\"first\",handle_unknown='ignore'),[0,1,2,4,13]),   \n",
    "          (\"stand\",StandardScaler(),[3,5,6,7,8,9,10,11,12])\n",
    "            \n",
    "],remainder='passthrough')\n",
    "step2=DecisionTreeRegressor(max_depth=8,max_features=0.45)\n",
    "pipe=Pipeline([\n",
    "    ('step1',step1),\n",
    "    ('step2',step2)\n",
    "])\n",
    "\n",
    "pipe.fit(xtrain,ytrain)\n",
    "ypred=pipe.predict(xtest)\n",
    "print(\"r2_score\",r2_score(ytest,ypred))\n",
    "print(\"mae\",mean_absolute_error(ytest,ypred))\n",
    "\n"
   ]
  },
  {
   "cell_type": "markdown",
   "id": "4cc8801a",
   "metadata": {},
   "source": [
    "# svm"
   ]
  },
  {
   "cell_type": "code",
   "execution_count": 738,
   "id": "84503677",
   "metadata": {},
   "outputs": [
    {
     "name": "stdout",
     "output_type": "stream",
     "text": [
      "r2_score 0.8201815565228364\n",
      "mae 0.19954786593265586\n"
     ]
    }
   ],
   "source": [
    "step1=step1=ColumnTransformer(transformers=[\n",
    "          (\"ohe_lin\",OneHotEncoder(sparse_output=False,drop=\"first\",handle_unknown='ignore'),[0,1,2,4,13]),   \n",
    "          #(\"stand\",StandardScaler(),[3,5,6,7,8,9,10,11,12])\n",
    "            \n",
    "],remainder='passthrough')\n",
    "step2=SVR(kernel='rbf',C=10000,epsilon=0.01)\n",
    "pipe=Pipeline([\n",
    "    ('step1',step1),\n",
    "    ('step2',step2)\n",
    "])\n",
    "\n",
    "pipe.fit(xtrain,ytrain)\n",
    "ypred=pipe.predict(xtest)\n",
    "print(\"r2_score\",r2_score(ytest,ypred))\n",
    "print(\"mae\",mean_absolute_error(ytest,ypred))\n"
   ]
  },
  {
   "cell_type": "markdown",
   "id": "2221c8e7",
   "metadata": {},
   "source": [
    "# random forest"
   ]
  },
  {
   "cell_type": "code",
   "execution_count": 739,
   "id": "7f25a476",
   "metadata": {},
   "outputs": [
    {
     "name": "stdout",
     "output_type": "stream",
     "text": [
      "r2_score 0.8360985913822019\n",
      "mae 0.18006996261188943\n"
     ]
    }
   ],
   "source": [
    "step1=step1=ColumnTransformer(transformers=[\n",
    "          (\"ohe_lin\",OneHotEncoder(sparse_output=False,drop=\"first\",handle_unknown='ignore'),[0,1,2,4,13]),   \n",
    "         \n",
    "            \n",
    "],remainder='passthrough')\n",
    "step2=RandomForestRegressor()\n",
    "pipe=Pipeline([\n",
    "    ('step1',step1),\n",
    "    ('step2',step2)\n",
    "])\n",
    "\n",
    "pipe.fit(xtrain,ytrain)\n",
    "ypred=pipe.predict(xtest)\n",
    "print(\"r2_score\",r2_score(ytest,ypred))\n",
    "print(\"mae\",mean_absolute_error(ytest,ypred))"
   ]
  },
  {
   "cell_type": "markdown",
   "id": "a7f0935b",
   "metadata": {},
   "source": [
    "# Adaboost"
   ]
  },
  {
   "cell_type": "code",
   "execution_count": 741,
   "id": "bc0c347d",
   "metadata": {},
   "outputs": [
    {
     "name": "stdout",
     "output_type": "stream",
     "text": [
      "r2_score 0.8136785539546296\n",
      "mae 0.21681388370832722\n"
     ]
    }
   ],
   "source": [
    "step1=step1=ColumnTransformer(transformers=[\n",
    "          (\"ohe_lin\",OneHotEncoder(sparse_output=False,drop=\"first\",handle_unknown='ignore'),[0,1,2,4,13]),   \n",
    "         \n",
    "            \n",
    "],remainder='passthrough')\n",
    "step2=AdaBoostRegressor()\n",
    "pipe=Pipeline([\n",
    "    ('step1',step1),\n",
    "    ('step2',step2)\n",
    "])\n",
    "\n",
    "pipe.fit(xtrain,ytrain)\n",
    "ypred=pipe.predict(xtest)\n",
    "print(\"r2_score\",r2_score(ytest,ypred))\n",
    "print(\"mae\",mean_absolute_error(ytest,ypred))"
   ]
  },
  {
   "cell_type": "markdown",
   "id": "93a79330",
   "metadata": {},
   "source": [
    "# Gradient Boost"
   ]
  },
  {
   "cell_type": "code",
   "execution_count": 820,
   "id": "6e6a4e1f",
   "metadata": {},
   "outputs": [
    {
     "name": "stdout",
     "output_type": "stream",
     "text": [
      "r2_score 0.846215500910084\n",
      "mae 0.18053441515547292\n"
     ]
    }
   ],
   "source": [
    "step1=step1=ColumnTransformer(transformers=[\n",
    "          (\"ohe_lin\",OneHotEncoder(sparse_output=False,drop=\"first\",handle_unknown='ignore'),[0,1,2,4,13]),   \n",
    "         \n",
    "            \n",
    "],remainder='passthrough')\n",
    "step2=GradientBoostingRegressor(learning_rate=0.1,n_estimators=200)\n",
    "pipe=Pipeline([\n",
    "    ('step1',step1),\n",
    "    ('step2',step2)\n",
    "])\n",
    "\n",
    "pipe.fit(xtrain,ytrain)\n",
    "ypred=pipe.predict(xtest)\n",
    "print(\"r2_score\",r2_score(ytest,ypred))\n",
    "print(\"mae\",mean_absolute_error(ytest,ypred))"
   ]
  },
  {
   "cell_type": "markdown",
   "id": "0eef8d54",
   "metadata": {},
   "source": [
    "# Xg boost"
   ]
  },
  {
   "cell_type": "code",
   "execution_count": 937,
   "id": "0af1db09",
   "metadata": {},
   "outputs": [
    {
     "name": "stdout",
     "output_type": "stream",
     "text": [
      "r2_score 0.8583378014674559\n",
      "mae 0.16684850667021\n"
     ]
    }
   ],
   "source": [
    "step1=step1=ColumnTransformer(transformers=[\n",
    "          (\"ohe_lin\",OneHotEncoder(sparse_output=False,drop=\"first\",handle_unknown='ignore'),[0,1,2,4,13]),   \n",
    "         \n",
    "            \n",
    "],remainder='passthrough')\n",
    "xg=XGBRegressor()\n",
    "pipe=Pipeline([\n",
    "    ('step1',step1),\n",
    "    ('step2',step2)\n",
    "])\n",
    "\n",
    "pipe.fit(xtrain,ytrain)\n",
    "ypred=pipe.predict(xtest)\n",
    "print(\"r2_score\",r2_score(ytest,ypred))\n",
    "print(\"mae\",mean_absolute_error(ytest,ypred))\n"
   ]
  },
  {
   "cell_type": "code",
   "execution_count": 939,
   "id": "279bc938",
   "metadata": {},
   "outputs": [
    {
     "name": "stderr",
     "output_type": "stream",
     "text": [
      "[Parallel(n_jobs=-1)]: Using backend LokyBackend with 8 concurrent workers.\n",
      "[Parallel(n_jobs=-1)]: Done   7 out of  10 | elapsed:    0.1s remaining:    0.0s\n"
     ]
    },
    {
     "name": "stdout",
     "output_type": "stream",
     "text": [
      "cross_val_score 0.8677064776237616\n"
     ]
    },
    {
     "name": "stderr",
     "output_type": "stream",
     "text": [
      "[Parallel(n_jobs=-1)]: Done  10 out of  10 | elapsed:    0.2s finished\n"
     ]
    }
   ],
   "source": [
    "print(\"cross_val_score\",cross_val_score(xg,X,y,scoring='r2',cv=10,n_jobs=-1,verbose=2).mean())"
   ]
  },
  {
   "cell_type": "code",
   "execution_count": null,
   "id": "b797ba82",
   "metadata": {},
   "outputs": [],
   "source": []
  },
  {
   "cell_type": "code",
   "execution_count": 744,
   "id": "97a6df9d",
   "metadata": {},
   "outputs": [],
   "source": [
    "col_trans=ColumnTransformer(transformers=[\n",
    "          (\"ohe_lin\",OneHotEncoder(sparse_output=False,drop=\"first\",handle_unknown='ignore'),[0,1,2,4,13]),   \n",
    "          (\"stand\",StandardScaler(),[3,5,6,7,8,9,10,11,12])\n",
    "            \n",
    "],remainder='passthrough')\n",
    "X=col_trans.fit_transform(X)\n"
   ]
  },
  {
   "cell_type": "code",
   "execution_count": 750,
   "id": "f9877b7a",
   "metadata": {},
   "outputs": [],
   "source": [
    "xtrain,xtest,ytrain,ytest=train_test_split(X,y,test_size=0.15,random_state=2)"
   ]
  },
  {
   "cell_type": "code",
   "execution_count": 751,
   "id": "03ee3937",
   "metadata": {},
   "outputs": [
    {
     "data": {
      "text/plain": [
       "array([[ 1.        ,  0.        ,  0.        , ..., -0.3124181 ,\n",
       "        -0.08791985, -0.14716264],\n",
       "       [ 1.        ,  0.        ,  0.        , ..., -0.9988987 ,\n",
       "        -0.08791985,  4.05088865],\n",
       "       [ 0.        ,  0.        ,  0.        , ...,  0.3740625 ,\n",
       "        -0.08791985, -0.14716264],\n",
       "       ...,\n",
       "       [ 0.        ,  0.        ,  0.        , ...,  1.74702369,\n",
       "        -0.08791985, -0.14716264],\n",
       "       [ 0.        ,  0.        ,  0.        , ..., -0.9988987 ,\n",
       "        -0.08791985,  1.951863  ],\n",
       "       [ 0.        ,  0.        ,  0.        , ..., -0.9988987 ,\n",
       "        -0.08791985, -0.14716264]])"
      ]
     },
     "execution_count": 751,
     "metadata": {},
     "output_type": "execute_result"
    }
   ],
   "source": [
    "X"
   ]
  },
  {
   "cell_type": "markdown",
   "id": "3518f802",
   "metadata": {},
   "source": [
    "# for random forest"
   ]
  },
  {
   "cell_type": "code",
   "execution_count": 752,
   "id": "d795ccc6",
   "metadata": {},
   "outputs": [],
   "source": [
    "\n",
    "n_estimators=[100,200,150,300,350]\n",
    "max_depth=[None,8,10,15]\n",
    "max_features=[0.2,0.7,0.75,0.8,0.9]\n",
    "bootstrap=[True,False]\n",
    "max_samples=[0.2,0.45,0.5,0.6,0.75,0.8]\n",
    "random_state=[0,1,2,3]"
   ]
  },
  {
   "cell_type": "code",
   "execution_count": 753,
   "id": "bf52e3a5",
   "metadata": {},
   "outputs": [
    {
     "data": {
      "text/plain": [
       "array([[ 0.        ,  0.        ,  0.        , ...,  0.3740625 ,\n",
       "        -0.08791985, -0.14716264],\n",
       "       [ 0.        ,  0.        ,  0.        , ..., -0.3124181 ,\n",
       "        -0.08791985, -0.14716264],\n",
       "       [ 0.        ,  0.        ,  0.        , ...,  0.3740625 ,\n",
       "        -0.08791985, -0.14716264],\n",
       "       ...,\n",
       "       [ 0.        ,  0.        ,  0.        , ..., -0.9988987 ,\n",
       "        -0.08791985, -0.14716264],\n",
       "       [ 0.        ,  0.        ,  0.        , ..., -0.9988987 ,\n",
       "        -0.08791985, -0.14716264],\n",
       "       [ 1.        ,  0.        ,  0.        , ..., -0.9988987 ,\n",
       "        -0.08791985,  8.24893993]])"
      ]
     },
     "execution_count": 753,
     "metadata": {},
     "output_type": "execute_result"
    }
   ],
   "source": [
    "xtrain"
   ]
  },
  {
   "cell_type": "code",
   "execution_count": 755,
   "id": "986a4db7",
   "metadata": {},
   "outputs": [],
   "source": [
    "param_grid={\n",
    "    \"n_estimators\": n_estimators,\n",
    "    \"max_depth\":max_depth,\n",
    "    \"max_features\":max_features,\n",
    "    \"bootstrap\":bootstrap,\n",
    "    \"max_samples\":max_samples,\n",
    "    \"random_state\":random_state\n",
    "}\n"
   ]
  },
  {
   "cell_type": "code",
   "execution_count": 756,
   "id": "c76042f4",
   "metadata": {},
   "outputs": [],
   "source": [
    "rf_grid=RandomizedSearchCV(RandomForestRegressor(),param_distributions=param_grid,n_jobs=-1,verbose=2,scoring=\"r2\",cv=5)"
   ]
  },
  {
   "cell_type": "code",
   "execution_count": 757,
   "id": "c1a91dcd",
   "metadata": {},
   "outputs": [
    {
     "name": "stdout",
     "output_type": "stream",
     "text": [
      "Fitting 5 folds for each of 10 candidates, totalling 50 fits\n"
     ]
    },
    {
     "name": "stderr",
     "output_type": "stream",
     "text": [
      "C:\\Users\\ABHISHEK RAWAL\\anaconda3\\lib\\site-packages\\sklearn\\model_selection\\_validation.py:378: FitFailedWarning: \n",
      "15 fits failed out of a total of 50.\n",
      "The score on these train-test partitions for these parameters will be set to nan.\n",
      "If these failures are not expected, you can try to debug them by setting error_score='raise'.\n",
      "\n",
      "Below are more details about the failures:\n",
      "--------------------------------------------------------------------------------\n",
      "15 fits failed with the following error:\n",
      "Traceback (most recent call last):\n",
      "  File \"C:\\Users\\ABHISHEK RAWAL\\anaconda3\\lib\\site-packages\\sklearn\\model_selection\\_validation.py\", line 686, in _fit_and_score\n",
      "    estimator.fit(X_train, y_train, **fit_params)\n",
      "  File \"C:\\Users\\ABHISHEK RAWAL\\anaconda3\\lib\\site-packages\\sklearn\\ensemble\\_forest.py\", line 397, in fit\n",
      "    raise ValueError(\n",
      "ValueError: `max_sample` cannot be set if `bootstrap=False`. Either switch to `bootstrap=True` or set `max_sample=None`.\n",
      "\n",
      "  warnings.warn(some_fits_failed_message, FitFailedWarning)\n",
      "C:\\Users\\ABHISHEK RAWAL\\anaconda3\\lib\\site-packages\\sklearn\\model_selection\\_search.py:952: UserWarning: One or more of the test scores are non-finite: [0.85533181 0.84453194 0.85113344        nan        nan 0.85557006\n",
      " 0.84436919 0.85220181        nan 0.83681236]\n",
      "  warnings.warn(\n"
     ]
    },
    {
     "data": {
      "text/html": [
       "<style>#sk-container-id-19 {color: black;background-color: white;}#sk-container-id-19 pre{padding: 0;}#sk-container-id-19 div.sk-toggleable {background-color: white;}#sk-container-id-19 label.sk-toggleable__label {cursor: pointer;display: block;width: 100%;margin-bottom: 0;padding: 0.3em;box-sizing: border-box;text-align: center;}#sk-container-id-19 label.sk-toggleable__label-arrow:before {content: \"▸\";float: left;margin-right: 0.25em;color: #696969;}#sk-container-id-19 label.sk-toggleable__label-arrow:hover:before {color: black;}#sk-container-id-19 div.sk-estimator:hover label.sk-toggleable__label-arrow:before {color: black;}#sk-container-id-19 div.sk-toggleable__content {max-height: 0;max-width: 0;overflow: hidden;text-align: left;background-color: #f0f8ff;}#sk-container-id-19 div.sk-toggleable__content pre {margin: 0.2em;color: black;border-radius: 0.25em;background-color: #f0f8ff;}#sk-container-id-19 input.sk-toggleable__control:checked~div.sk-toggleable__content {max-height: 200px;max-width: 100%;overflow: auto;}#sk-container-id-19 input.sk-toggleable__control:checked~label.sk-toggleable__label-arrow:before {content: \"▾\";}#sk-container-id-19 div.sk-estimator input.sk-toggleable__control:checked~label.sk-toggleable__label {background-color: #d4ebff;}#sk-container-id-19 div.sk-label input.sk-toggleable__control:checked~label.sk-toggleable__label {background-color: #d4ebff;}#sk-container-id-19 input.sk-hidden--visually {border: 0;clip: rect(1px 1px 1px 1px);clip: rect(1px, 1px, 1px, 1px);height: 1px;margin: -1px;overflow: hidden;padding: 0;position: absolute;width: 1px;}#sk-container-id-19 div.sk-estimator {font-family: monospace;background-color: #f0f8ff;border: 1px dotted black;border-radius: 0.25em;box-sizing: border-box;margin-bottom: 0.5em;}#sk-container-id-19 div.sk-estimator:hover {background-color: #d4ebff;}#sk-container-id-19 div.sk-parallel-item::after {content: \"\";width: 100%;border-bottom: 1px solid gray;flex-grow: 1;}#sk-container-id-19 div.sk-label:hover label.sk-toggleable__label {background-color: #d4ebff;}#sk-container-id-19 div.sk-serial::before {content: \"\";position: absolute;border-left: 1px solid gray;box-sizing: border-box;top: 0;bottom: 0;left: 50%;z-index: 0;}#sk-container-id-19 div.sk-serial {display: flex;flex-direction: column;align-items: center;background-color: white;padding-right: 0.2em;padding-left: 0.2em;position: relative;}#sk-container-id-19 div.sk-item {position: relative;z-index: 1;}#sk-container-id-19 div.sk-parallel {display: flex;align-items: stretch;justify-content: center;background-color: white;position: relative;}#sk-container-id-19 div.sk-item::before, #sk-container-id-19 div.sk-parallel-item::before {content: \"\";position: absolute;border-left: 1px solid gray;box-sizing: border-box;top: 0;bottom: 0;left: 50%;z-index: -1;}#sk-container-id-19 div.sk-parallel-item {display: flex;flex-direction: column;z-index: 1;position: relative;background-color: white;}#sk-container-id-19 div.sk-parallel-item:first-child::after {align-self: flex-end;width: 50%;}#sk-container-id-19 div.sk-parallel-item:last-child::after {align-self: flex-start;width: 50%;}#sk-container-id-19 div.sk-parallel-item:only-child::after {width: 0;}#sk-container-id-19 div.sk-dashed-wrapped {border: 1px dashed gray;margin: 0 0.4em 0.5em 0.4em;box-sizing: border-box;padding-bottom: 0.4em;background-color: white;}#sk-container-id-19 div.sk-label label {font-family: monospace;font-weight: bold;display: inline-block;line-height: 1.2em;}#sk-container-id-19 div.sk-label-container {text-align: center;}#sk-container-id-19 div.sk-container {/* jupyter's `normalize.less` sets `[hidden] { display: none; }` but bootstrap.min.css set `[hidden] { display: none !important; }` so we also need the `!important` here to be able to override the default hidden behavior on the sphinx rendered scikit-learn.org. See: https://github.com/scikit-learn/scikit-learn/issues/21755 */display: inline-block !important;position: relative;}#sk-container-id-19 div.sk-text-repr-fallback {display: none;}</style><div id=\"sk-container-id-19\" class=\"sk-top-container\"><div class=\"sk-text-repr-fallback\"><pre>RandomizedSearchCV(cv=5, estimator=RandomForestRegressor(), n_jobs=-1,\n",
       "                   param_distributions={&#x27;bootstrap&#x27;: [True, False],\n",
       "                                        &#x27;max_depth&#x27;: [None, 8, 10, 15],\n",
       "                                        &#x27;max_features&#x27;: [0.2, 0.7, 0.75, 0.8,\n",
       "                                                         0.9],\n",
       "                                        &#x27;max_samples&#x27;: [0.2, 0.45, 0.5, 0.6,\n",
       "                                                        0.75, 0.8],\n",
       "                                        &#x27;n_estimators&#x27;: [100, 200, 150, 300,\n",
       "                                                         350],\n",
       "                                        &#x27;random_state&#x27;: [0, 1, 2, 3]},\n",
       "                   scoring=&#x27;r2&#x27;, verbose=2)</pre><b>In a Jupyter environment, please rerun this cell to show the HTML representation or trust the notebook. <br />On GitHub, the HTML representation is unable to render, please try loading this page with nbviewer.org.</b></div><div class=\"sk-container\" hidden><div class=\"sk-item sk-dashed-wrapped\"><div class=\"sk-label-container\"><div class=\"sk-label sk-toggleable\"><input class=\"sk-toggleable__control sk-hidden--visually\" id=\"sk-estimator-id-49\" type=\"checkbox\" ><label for=\"sk-estimator-id-49\" class=\"sk-toggleable__label sk-toggleable__label-arrow\">RandomizedSearchCV</label><div class=\"sk-toggleable__content\"><pre>RandomizedSearchCV(cv=5, estimator=RandomForestRegressor(), n_jobs=-1,\n",
       "                   param_distributions={&#x27;bootstrap&#x27;: [True, False],\n",
       "                                        &#x27;max_depth&#x27;: [None, 8, 10, 15],\n",
       "                                        &#x27;max_features&#x27;: [0.2, 0.7, 0.75, 0.8,\n",
       "                                                         0.9],\n",
       "                                        &#x27;max_samples&#x27;: [0.2, 0.45, 0.5, 0.6,\n",
       "                                                        0.75, 0.8],\n",
       "                                        &#x27;n_estimators&#x27;: [100, 200, 150, 300,\n",
       "                                                         350],\n",
       "                                        &#x27;random_state&#x27;: [0, 1, 2, 3]},\n",
       "                   scoring=&#x27;r2&#x27;, verbose=2)</pre></div></div></div><div class=\"sk-parallel\"><div class=\"sk-parallel-item\"><div class=\"sk-item\"><div class=\"sk-label-container\"><div class=\"sk-label sk-toggleable\"><input class=\"sk-toggleable__control sk-hidden--visually\" id=\"sk-estimator-id-50\" type=\"checkbox\" ><label for=\"sk-estimator-id-50\" class=\"sk-toggleable__label sk-toggleable__label-arrow\">estimator: RandomForestRegressor</label><div class=\"sk-toggleable__content\"><pre>RandomForestRegressor()</pre></div></div></div><div class=\"sk-serial\"><div class=\"sk-item\"><div class=\"sk-estimator sk-toggleable\"><input class=\"sk-toggleable__control sk-hidden--visually\" id=\"sk-estimator-id-51\" type=\"checkbox\" ><label for=\"sk-estimator-id-51\" class=\"sk-toggleable__label sk-toggleable__label-arrow\">RandomForestRegressor</label><div class=\"sk-toggleable__content\"><pre>RandomForestRegressor()</pre></div></div></div></div></div></div></div></div></div></div>"
      ],
      "text/plain": [
       "RandomizedSearchCV(cv=5, estimator=RandomForestRegressor(), n_jobs=-1,\n",
       "                   param_distributions={'bootstrap': [True, False],\n",
       "                                        'max_depth': [None, 8, 10, 15],\n",
       "                                        'max_features': [0.2, 0.7, 0.75, 0.8,\n",
       "                                                         0.9],\n",
       "                                        'max_samples': [0.2, 0.45, 0.5, 0.6,\n",
       "                                                        0.75, 0.8],\n",
       "                                        'n_estimators': [100, 200, 150, 300,\n",
       "                                                         350],\n",
       "                                        'random_state': [0, 1, 2, 3]},\n",
       "                   scoring='r2', verbose=2)"
      ]
     },
     "execution_count": 757,
     "metadata": {},
     "output_type": "execute_result"
    }
   ],
   "source": [
    "rf_grid.fit(X,y)"
   ]
  },
  {
   "cell_type": "code",
   "execution_count": 941,
   "id": "6fd75713",
   "metadata": {},
   "outputs": [
    {
     "data": {
      "text/plain": [
       "0.8555700615398288"
      ]
     },
     "execution_count": 941,
     "metadata": {},
     "output_type": "execute_result"
    }
   ],
   "source": [
    "rf_grid.best_score_"
   ]
  },
  {
   "cell_type": "code",
   "execution_count": 871,
   "id": "ac301253",
   "metadata": {},
   "outputs": [
    {
     "data": {
      "text/html": [
       "<style>#sk-container-id-40 {color: black;background-color: white;}#sk-container-id-40 pre{padding: 0;}#sk-container-id-40 div.sk-toggleable {background-color: white;}#sk-container-id-40 label.sk-toggleable__label {cursor: pointer;display: block;width: 100%;margin-bottom: 0;padding: 0.3em;box-sizing: border-box;text-align: center;}#sk-container-id-40 label.sk-toggleable__label-arrow:before {content: \"▸\";float: left;margin-right: 0.25em;color: #696969;}#sk-container-id-40 label.sk-toggleable__label-arrow:hover:before {color: black;}#sk-container-id-40 div.sk-estimator:hover label.sk-toggleable__label-arrow:before {color: black;}#sk-container-id-40 div.sk-toggleable__content {max-height: 0;max-width: 0;overflow: hidden;text-align: left;background-color: #f0f8ff;}#sk-container-id-40 div.sk-toggleable__content pre {margin: 0.2em;color: black;border-radius: 0.25em;background-color: #f0f8ff;}#sk-container-id-40 input.sk-toggleable__control:checked~div.sk-toggleable__content {max-height: 200px;max-width: 100%;overflow: auto;}#sk-container-id-40 input.sk-toggleable__control:checked~label.sk-toggleable__label-arrow:before {content: \"▾\";}#sk-container-id-40 div.sk-estimator input.sk-toggleable__control:checked~label.sk-toggleable__label {background-color: #d4ebff;}#sk-container-id-40 div.sk-label input.sk-toggleable__control:checked~label.sk-toggleable__label {background-color: #d4ebff;}#sk-container-id-40 input.sk-hidden--visually {border: 0;clip: rect(1px 1px 1px 1px);clip: rect(1px, 1px, 1px, 1px);height: 1px;margin: -1px;overflow: hidden;padding: 0;position: absolute;width: 1px;}#sk-container-id-40 div.sk-estimator {font-family: monospace;background-color: #f0f8ff;border: 1px dotted black;border-radius: 0.25em;box-sizing: border-box;margin-bottom: 0.5em;}#sk-container-id-40 div.sk-estimator:hover {background-color: #d4ebff;}#sk-container-id-40 div.sk-parallel-item::after {content: \"\";width: 100%;border-bottom: 1px solid gray;flex-grow: 1;}#sk-container-id-40 div.sk-label:hover label.sk-toggleable__label {background-color: #d4ebff;}#sk-container-id-40 div.sk-serial::before {content: \"\";position: absolute;border-left: 1px solid gray;box-sizing: border-box;top: 0;bottom: 0;left: 50%;z-index: 0;}#sk-container-id-40 div.sk-serial {display: flex;flex-direction: column;align-items: center;background-color: white;padding-right: 0.2em;padding-left: 0.2em;position: relative;}#sk-container-id-40 div.sk-item {position: relative;z-index: 1;}#sk-container-id-40 div.sk-parallel {display: flex;align-items: stretch;justify-content: center;background-color: white;position: relative;}#sk-container-id-40 div.sk-item::before, #sk-container-id-40 div.sk-parallel-item::before {content: \"\";position: absolute;border-left: 1px solid gray;box-sizing: border-box;top: 0;bottom: 0;left: 50%;z-index: -1;}#sk-container-id-40 div.sk-parallel-item {display: flex;flex-direction: column;z-index: 1;position: relative;background-color: white;}#sk-container-id-40 div.sk-parallel-item:first-child::after {align-self: flex-end;width: 50%;}#sk-container-id-40 div.sk-parallel-item:last-child::after {align-self: flex-start;width: 50%;}#sk-container-id-40 div.sk-parallel-item:only-child::after {width: 0;}#sk-container-id-40 div.sk-dashed-wrapped {border: 1px dashed gray;margin: 0 0.4em 0.5em 0.4em;box-sizing: border-box;padding-bottom: 0.4em;background-color: white;}#sk-container-id-40 div.sk-label label {font-family: monospace;font-weight: bold;display: inline-block;line-height: 1.2em;}#sk-container-id-40 div.sk-label-container {text-align: center;}#sk-container-id-40 div.sk-container {/* jupyter's `normalize.less` sets `[hidden] { display: none; }` but bootstrap.min.css set `[hidden] { display: none !important; }` so we also need the `!important` here to be able to override the default hidden behavior on the sphinx rendered scikit-learn.org. See: https://github.com/scikit-learn/scikit-learn/issues/21755 */display: inline-block !important;position: relative;}#sk-container-id-40 div.sk-text-repr-fallback {display: none;}</style><div id=\"sk-container-id-40\" class=\"sk-top-container\"><div class=\"sk-text-repr-fallback\"><pre>RandomForestRegressor(max_features=0.9, max_samples=0.5, random_state=2)</pre><b>In a Jupyter environment, please rerun this cell to show the HTML representation or trust the notebook. <br />On GitHub, the HTML representation is unable to render, please try loading this page with nbviewer.org.</b></div><div class=\"sk-container\" hidden><div class=\"sk-item\"><div class=\"sk-estimator sk-toggleable\"><input class=\"sk-toggleable__control sk-hidden--visually\" id=\"sk-estimator-id-88\" type=\"checkbox\" checked><label for=\"sk-estimator-id-88\" class=\"sk-toggleable__label sk-toggleable__label-arrow\">RandomForestRegressor</label><div class=\"sk-toggleable__content\"><pre>RandomForestRegressor(max_features=0.9, max_samples=0.5, random_state=2)</pre></div></div></div></div></div>"
      ],
      "text/plain": [
       "RandomForestRegressor(max_features=0.9, max_samples=0.5, random_state=2)"
      ]
     },
     "execution_count": 871,
     "metadata": {},
     "output_type": "execute_result"
    }
   ],
   "source": [
    "rf_grid.best_estimator_"
   ]
  },
  {
   "cell_type": "code",
   "execution_count": 872,
   "id": "e5dd3f2b",
   "metadata": {},
   "outputs": [
    {
     "data": {
      "text/plain": [
       "{'random_state': 2,\n",
       " 'n_estimators': 100,\n",
       " 'max_samples': 0.5,\n",
       " 'max_features': 0.9,\n",
       " 'max_depth': None,\n",
       " 'bootstrap': True}"
      ]
     },
     "execution_count": 872,
     "metadata": {},
     "output_type": "execute_result"
    }
   ],
   "source": [
    "rf_grid.best_params_"
   ]
  },
  {
   "cell_type": "markdown",
   "id": "57c2522d",
   "metadata": {},
   "source": [
    "# for Adaboost"
   ]
  },
  {
   "cell_type": "code",
   "execution_count": 783,
   "id": "33a62feb",
   "metadata": {},
   "outputs": [],
   "source": [
    "n_estimators=[10,20,15,50,100,150,200]\n",
    "learning_rate=[0.1,0.001,0.0001,1,0.5,0.2,0.3,0.4]\n",
    "loss=['linear', 'square', 'exponential']"
   ]
  },
  {
   "cell_type": "code",
   "execution_count": 784,
   "id": "ef75666b",
   "metadata": {},
   "outputs": [],
   "source": [
    "param_grid2={\n",
    "    \"n_estimators\":n_estimators,\n",
    "    \"learning_rate\":learning_rate,\n",
    "    \"loss\":loss\n",
    "}"
   ]
  },
  {
   "cell_type": "code",
   "execution_count": 785,
   "id": "8f489e7c",
   "metadata": {},
   "outputs": [],
   "source": [
    "ada_grid=GridSearchCV(AdaBoostRegressor(),scoring=\"r2\",cv=5,param_grid=param_grid2,n_jobs=-1,verbose=2)"
   ]
  },
  {
   "cell_type": "code",
   "execution_count": 786,
   "id": "420dc8a5",
   "metadata": {},
   "outputs": [
    {
     "name": "stdout",
     "output_type": "stream",
     "text": [
      "Fitting 5 folds for each of 168 candidates, totalling 840 fits\n"
     ]
    },
    {
     "data": {
      "text/html": [
       "<style>#sk-container-id-27 {color: black;background-color: white;}#sk-container-id-27 pre{padding: 0;}#sk-container-id-27 div.sk-toggleable {background-color: white;}#sk-container-id-27 label.sk-toggleable__label {cursor: pointer;display: block;width: 100%;margin-bottom: 0;padding: 0.3em;box-sizing: border-box;text-align: center;}#sk-container-id-27 label.sk-toggleable__label-arrow:before {content: \"▸\";float: left;margin-right: 0.25em;color: #696969;}#sk-container-id-27 label.sk-toggleable__label-arrow:hover:before {color: black;}#sk-container-id-27 div.sk-estimator:hover label.sk-toggleable__label-arrow:before {color: black;}#sk-container-id-27 div.sk-toggleable__content {max-height: 0;max-width: 0;overflow: hidden;text-align: left;background-color: #f0f8ff;}#sk-container-id-27 div.sk-toggleable__content pre {margin: 0.2em;color: black;border-radius: 0.25em;background-color: #f0f8ff;}#sk-container-id-27 input.sk-toggleable__control:checked~div.sk-toggleable__content {max-height: 200px;max-width: 100%;overflow: auto;}#sk-container-id-27 input.sk-toggleable__control:checked~label.sk-toggleable__label-arrow:before {content: \"▾\";}#sk-container-id-27 div.sk-estimator input.sk-toggleable__control:checked~label.sk-toggleable__label {background-color: #d4ebff;}#sk-container-id-27 div.sk-label input.sk-toggleable__control:checked~label.sk-toggleable__label {background-color: #d4ebff;}#sk-container-id-27 input.sk-hidden--visually {border: 0;clip: rect(1px 1px 1px 1px);clip: rect(1px, 1px, 1px, 1px);height: 1px;margin: -1px;overflow: hidden;padding: 0;position: absolute;width: 1px;}#sk-container-id-27 div.sk-estimator {font-family: monospace;background-color: #f0f8ff;border: 1px dotted black;border-radius: 0.25em;box-sizing: border-box;margin-bottom: 0.5em;}#sk-container-id-27 div.sk-estimator:hover {background-color: #d4ebff;}#sk-container-id-27 div.sk-parallel-item::after {content: \"\";width: 100%;border-bottom: 1px solid gray;flex-grow: 1;}#sk-container-id-27 div.sk-label:hover label.sk-toggleable__label {background-color: #d4ebff;}#sk-container-id-27 div.sk-serial::before {content: \"\";position: absolute;border-left: 1px solid gray;box-sizing: border-box;top: 0;bottom: 0;left: 50%;z-index: 0;}#sk-container-id-27 div.sk-serial {display: flex;flex-direction: column;align-items: center;background-color: white;padding-right: 0.2em;padding-left: 0.2em;position: relative;}#sk-container-id-27 div.sk-item {position: relative;z-index: 1;}#sk-container-id-27 div.sk-parallel {display: flex;align-items: stretch;justify-content: center;background-color: white;position: relative;}#sk-container-id-27 div.sk-item::before, #sk-container-id-27 div.sk-parallel-item::before {content: \"\";position: absolute;border-left: 1px solid gray;box-sizing: border-box;top: 0;bottom: 0;left: 50%;z-index: -1;}#sk-container-id-27 div.sk-parallel-item {display: flex;flex-direction: column;z-index: 1;position: relative;background-color: white;}#sk-container-id-27 div.sk-parallel-item:first-child::after {align-self: flex-end;width: 50%;}#sk-container-id-27 div.sk-parallel-item:last-child::after {align-self: flex-start;width: 50%;}#sk-container-id-27 div.sk-parallel-item:only-child::after {width: 0;}#sk-container-id-27 div.sk-dashed-wrapped {border: 1px dashed gray;margin: 0 0.4em 0.5em 0.4em;box-sizing: border-box;padding-bottom: 0.4em;background-color: white;}#sk-container-id-27 div.sk-label label {font-family: monospace;font-weight: bold;display: inline-block;line-height: 1.2em;}#sk-container-id-27 div.sk-label-container {text-align: center;}#sk-container-id-27 div.sk-container {/* jupyter's `normalize.less` sets `[hidden] { display: none; }` but bootstrap.min.css set `[hidden] { display: none !important; }` so we also need the `!important` here to be able to override the default hidden behavior on the sphinx rendered scikit-learn.org. See: https://github.com/scikit-learn/scikit-learn/issues/21755 */display: inline-block !important;position: relative;}#sk-container-id-27 div.sk-text-repr-fallback {display: none;}</style><div id=\"sk-container-id-27\" class=\"sk-top-container\"><div class=\"sk-text-repr-fallback\"><pre>GridSearchCV(cv=5, estimator=AdaBoostRegressor(), n_jobs=-1,\n",
       "             param_grid={&#x27;learning_rate&#x27;: [0.1, 0.001, 0.0001, 1, 0.5, 0.2, 0.3,\n",
       "                                           0.4],\n",
       "                         &#x27;loss&#x27;: [&#x27;linear&#x27;, &#x27;square&#x27;, &#x27;exponential&#x27;],\n",
       "                         &#x27;n_estimators&#x27;: [10, 20, 15, 50, 100, 150, 200]},\n",
       "             scoring=&#x27;r2&#x27;, verbose=2)</pre><b>In a Jupyter environment, please rerun this cell to show the HTML representation or trust the notebook. <br />On GitHub, the HTML representation is unable to render, please try loading this page with nbviewer.org.</b></div><div class=\"sk-container\" hidden><div class=\"sk-item sk-dashed-wrapped\"><div class=\"sk-label-container\"><div class=\"sk-label sk-toggleable\"><input class=\"sk-toggleable__control sk-hidden--visually\" id=\"sk-estimator-id-67\" type=\"checkbox\" ><label for=\"sk-estimator-id-67\" class=\"sk-toggleable__label sk-toggleable__label-arrow\">GridSearchCV</label><div class=\"sk-toggleable__content\"><pre>GridSearchCV(cv=5, estimator=AdaBoostRegressor(), n_jobs=-1,\n",
       "             param_grid={&#x27;learning_rate&#x27;: [0.1, 0.001, 0.0001, 1, 0.5, 0.2, 0.3,\n",
       "                                           0.4],\n",
       "                         &#x27;loss&#x27;: [&#x27;linear&#x27;, &#x27;square&#x27;, &#x27;exponential&#x27;],\n",
       "                         &#x27;n_estimators&#x27;: [10, 20, 15, 50, 100, 150, 200]},\n",
       "             scoring=&#x27;r2&#x27;, verbose=2)</pre></div></div></div><div class=\"sk-parallel\"><div class=\"sk-parallel-item\"><div class=\"sk-item\"><div class=\"sk-label-container\"><div class=\"sk-label sk-toggleable\"><input class=\"sk-toggleable__control sk-hidden--visually\" id=\"sk-estimator-id-68\" type=\"checkbox\" ><label for=\"sk-estimator-id-68\" class=\"sk-toggleable__label sk-toggleable__label-arrow\">estimator: AdaBoostRegressor</label><div class=\"sk-toggleable__content\"><pre>AdaBoostRegressor()</pre></div></div></div><div class=\"sk-serial\"><div class=\"sk-item\"><div class=\"sk-estimator sk-toggleable\"><input class=\"sk-toggleable__control sk-hidden--visually\" id=\"sk-estimator-id-69\" type=\"checkbox\" ><label for=\"sk-estimator-id-69\" class=\"sk-toggleable__label sk-toggleable__label-arrow\">AdaBoostRegressor</label><div class=\"sk-toggleable__content\"><pre>AdaBoostRegressor()</pre></div></div></div></div></div></div></div></div></div></div>"
      ],
      "text/plain": [
       "GridSearchCV(cv=5, estimator=AdaBoostRegressor(), n_jobs=-1,\n",
       "             param_grid={'learning_rate': [0.1, 0.001, 0.0001, 1, 0.5, 0.2, 0.3,\n",
       "                                           0.4],\n",
       "                         'loss': ['linear', 'square', 'exponential'],\n",
       "                         'n_estimators': [10, 20, 15, 50, 100, 150, 200]},\n",
       "             scoring='r2', verbose=2)"
      ]
     },
     "execution_count": 786,
     "metadata": {},
     "output_type": "execute_result"
    }
   ],
   "source": [
    "ada_grid.fit(X,y)"
   ]
  },
  {
   "cell_type": "code",
   "execution_count": 943,
   "id": "14b42841",
   "metadata": {},
   "outputs": [
    {
     "data": {
      "text/plain": [
       "0.7921671540198261"
      ]
     },
     "execution_count": 943,
     "metadata": {},
     "output_type": "execute_result"
    }
   ],
   "source": [
    "ada_grid.best_score_"
   ]
  },
  {
   "cell_type": "code",
   "execution_count": 873,
   "id": "29ce6442",
   "metadata": {},
   "outputs": [
    {
     "data": {
      "text/html": [
       "<style>#sk-container-id-41 {color: black;background-color: white;}#sk-container-id-41 pre{padding: 0;}#sk-container-id-41 div.sk-toggleable {background-color: white;}#sk-container-id-41 label.sk-toggleable__label {cursor: pointer;display: block;width: 100%;margin-bottom: 0;padding: 0.3em;box-sizing: border-box;text-align: center;}#sk-container-id-41 label.sk-toggleable__label-arrow:before {content: \"▸\";float: left;margin-right: 0.25em;color: #696969;}#sk-container-id-41 label.sk-toggleable__label-arrow:hover:before {color: black;}#sk-container-id-41 div.sk-estimator:hover label.sk-toggleable__label-arrow:before {color: black;}#sk-container-id-41 div.sk-toggleable__content {max-height: 0;max-width: 0;overflow: hidden;text-align: left;background-color: #f0f8ff;}#sk-container-id-41 div.sk-toggleable__content pre {margin: 0.2em;color: black;border-radius: 0.25em;background-color: #f0f8ff;}#sk-container-id-41 input.sk-toggleable__control:checked~div.sk-toggleable__content {max-height: 200px;max-width: 100%;overflow: auto;}#sk-container-id-41 input.sk-toggleable__control:checked~label.sk-toggleable__label-arrow:before {content: \"▾\";}#sk-container-id-41 div.sk-estimator input.sk-toggleable__control:checked~label.sk-toggleable__label {background-color: #d4ebff;}#sk-container-id-41 div.sk-label input.sk-toggleable__control:checked~label.sk-toggleable__label {background-color: #d4ebff;}#sk-container-id-41 input.sk-hidden--visually {border: 0;clip: rect(1px 1px 1px 1px);clip: rect(1px, 1px, 1px, 1px);height: 1px;margin: -1px;overflow: hidden;padding: 0;position: absolute;width: 1px;}#sk-container-id-41 div.sk-estimator {font-family: monospace;background-color: #f0f8ff;border: 1px dotted black;border-radius: 0.25em;box-sizing: border-box;margin-bottom: 0.5em;}#sk-container-id-41 div.sk-estimator:hover {background-color: #d4ebff;}#sk-container-id-41 div.sk-parallel-item::after {content: \"\";width: 100%;border-bottom: 1px solid gray;flex-grow: 1;}#sk-container-id-41 div.sk-label:hover label.sk-toggleable__label {background-color: #d4ebff;}#sk-container-id-41 div.sk-serial::before {content: \"\";position: absolute;border-left: 1px solid gray;box-sizing: border-box;top: 0;bottom: 0;left: 50%;z-index: 0;}#sk-container-id-41 div.sk-serial {display: flex;flex-direction: column;align-items: center;background-color: white;padding-right: 0.2em;padding-left: 0.2em;position: relative;}#sk-container-id-41 div.sk-item {position: relative;z-index: 1;}#sk-container-id-41 div.sk-parallel {display: flex;align-items: stretch;justify-content: center;background-color: white;position: relative;}#sk-container-id-41 div.sk-item::before, #sk-container-id-41 div.sk-parallel-item::before {content: \"\";position: absolute;border-left: 1px solid gray;box-sizing: border-box;top: 0;bottom: 0;left: 50%;z-index: -1;}#sk-container-id-41 div.sk-parallel-item {display: flex;flex-direction: column;z-index: 1;position: relative;background-color: white;}#sk-container-id-41 div.sk-parallel-item:first-child::after {align-self: flex-end;width: 50%;}#sk-container-id-41 div.sk-parallel-item:last-child::after {align-self: flex-start;width: 50%;}#sk-container-id-41 div.sk-parallel-item:only-child::after {width: 0;}#sk-container-id-41 div.sk-dashed-wrapped {border: 1px dashed gray;margin: 0 0.4em 0.5em 0.4em;box-sizing: border-box;padding-bottom: 0.4em;background-color: white;}#sk-container-id-41 div.sk-label label {font-family: monospace;font-weight: bold;display: inline-block;line-height: 1.2em;}#sk-container-id-41 div.sk-label-container {text-align: center;}#sk-container-id-41 div.sk-container {/* jupyter's `normalize.less` sets `[hidden] { display: none; }` but bootstrap.min.css set `[hidden] { display: none !important; }` so we also need the `!important` here to be able to override the default hidden behavior on the sphinx rendered scikit-learn.org. See: https://github.com/scikit-learn/scikit-learn/issues/21755 */display: inline-block !important;position: relative;}#sk-container-id-41 div.sk-text-repr-fallback {display: none;}</style><div id=\"sk-container-id-41\" class=\"sk-top-container\"><div class=\"sk-text-repr-fallback\"><pre>AdaBoostRegressor(learning_rate=0.5, loss=&#x27;square&#x27;, n_estimators=100)</pre><b>In a Jupyter environment, please rerun this cell to show the HTML representation or trust the notebook. <br />On GitHub, the HTML representation is unable to render, please try loading this page with nbviewer.org.</b></div><div class=\"sk-container\" hidden><div class=\"sk-item\"><div class=\"sk-estimator sk-toggleable\"><input class=\"sk-toggleable__control sk-hidden--visually\" id=\"sk-estimator-id-89\" type=\"checkbox\" checked><label for=\"sk-estimator-id-89\" class=\"sk-toggleable__label sk-toggleable__label-arrow\">AdaBoostRegressor</label><div class=\"sk-toggleable__content\"><pre>AdaBoostRegressor(learning_rate=0.5, loss=&#x27;square&#x27;, n_estimators=100)</pre></div></div></div></div></div>"
      ],
      "text/plain": [
       "AdaBoostRegressor(learning_rate=0.5, loss='square', n_estimators=100)"
      ]
     },
     "execution_count": 873,
     "metadata": {},
     "output_type": "execute_result"
    }
   ],
   "source": [
    "ada_grid.best_estimator_"
   ]
  },
  {
   "cell_type": "code",
   "execution_count": 874,
   "id": "801eea0f",
   "metadata": {},
   "outputs": [
    {
     "data": {
      "text/plain": [
       "{'learning_rate': 0.5, 'loss': 'square', 'n_estimators': 100}"
      ]
     },
     "execution_count": 874,
     "metadata": {},
     "output_type": "execute_result"
    }
   ],
   "source": [
    "ada_grid.best_params_\n"
   ]
  },
  {
   "cell_type": "markdown",
   "id": "87dd03da",
   "metadata": {},
   "source": [
    "# Gradient Boosting"
   ]
  },
  {
   "cell_type": "code",
   "execution_count": 879,
   "id": "116eb67f",
   "metadata": {},
   "outputs": [],
   "source": [
    "loss=['squared_error', 'absolute_error', 'huber', 'quantile']\n",
    "learning_rate=[0.1,0.01,0.2,0.3,1]\n",
    "max_depth=[3,4,5,6,1,2]\n",
    "max_features=[0.5,0.6,0.75]\n",
    "random_state=[1,2,4,5,10]"
   ]
  },
  {
   "cell_type": "code",
   "execution_count": 880,
   "id": "e221ac8e",
   "metadata": {},
   "outputs": [],
   "source": [
    "param_grid3={\n",
    "    'loss':loss,\n",
    "    \"max_depth\":max_depth,\n",
    "    \"max_features\":max_features,\n",
    "    \"learning_rate\":learning_rate,\n",
    "    \"random_state\":random_state\n",
    "}"
   ]
  },
  {
   "cell_type": "code",
   "execution_count": 881,
   "id": "97eda945",
   "metadata": {},
   "outputs": [],
   "source": [
    "gdb_grid=RandomizedSearchCV(GradientBoostingRegressor(),scoring='r2',param_distributions=param_grid3,cv=10,n_jobs=-1,verbose=2)"
   ]
  },
  {
   "cell_type": "code",
   "execution_count": 882,
   "id": "05177b02",
   "metadata": {},
   "outputs": [
    {
     "name": "stdout",
     "output_type": "stream",
     "text": [
      "Fitting 10 folds for each of 10 candidates, totalling 100 fits\n"
     ]
    },
    {
     "data": {
      "text/html": [
       "<style>#sk-container-id-42 {color: black;background-color: white;}#sk-container-id-42 pre{padding: 0;}#sk-container-id-42 div.sk-toggleable {background-color: white;}#sk-container-id-42 label.sk-toggleable__label {cursor: pointer;display: block;width: 100%;margin-bottom: 0;padding: 0.3em;box-sizing: border-box;text-align: center;}#sk-container-id-42 label.sk-toggleable__label-arrow:before {content: \"▸\";float: left;margin-right: 0.25em;color: #696969;}#sk-container-id-42 label.sk-toggleable__label-arrow:hover:before {color: black;}#sk-container-id-42 div.sk-estimator:hover label.sk-toggleable__label-arrow:before {color: black;}#sk-container-id-42 div.sk-toggleable__content {max-height: 0;max-width: 0;overflow: hidden;text-align: left;background-color: #f0f8ff;}#sk-container-id-42 div.sk-toggleable__content pre {margin: 0.2em;color: black;border-radius: 0.25em;background-color: #f0f8ff;}#sk-container-id-42 input.sk-toggleable__control:checked~div.sk-toggleable__content {max-height: 200px;max-width: 100%;overflow: auto;}#sk-container-id-42 input.sk-toggleable__control:checked~label.sk-toggleable__label-arrow:before {content: \"▾\";}#sk-container-id-42 div.sk-estimator input.sk-toggleable__control:checked~label.sk-toggleable__label {background-color: #d4ebff;}#sk-container-id-42 div.sk-label input.sk-toggleable__control:checked~label.sk-toggleable__label {background-color: #d4ebff;}#sk-container-id-42 input.sk-hidden--visually {border: 0;clip: rect(1px 1px 1px 1px);clip: rect(1px, 1px, 1px, 1px);height: 1px;margin: -1px;overflow: hidden;padding: 0;position: absolute;width: 1px;}#sk-container-id-42 div.sk-estimator {font-family: monospace;background-color: #f0f8ff;border: 1px dotted black;border-radius: 0.25em;box-sizing: border-box;margin-bottom: 0.5em;}#sk-container-id-42 div.sk-estimator:hover {background-color: #d4ebff;}#sk-container-id-42 div.sk-parallel-item::after {content: \"\";width: 100%;border-bottom: 1px solid gray;flex-grow: 1;}#sk-container-id-42 div.sk-label:hover label.sk-toggleable__label {background-color: #d4ebff;}#sk-container-id-42 div.sk-serial::before {content: \"\";position: absolute;border-left: 1px solid gray;box-sizing: border-box;top: 0;bottom: 0;left: 50%;z-index: 0;}#sk-container-id-42 div.sk-serial {display: flex;flex-direction: column;align-items: center;background-color: white;padding-right: 0.2em;padding-left: 0.2em;position: relative;}#sk-container-id-42 div.sk-item {position: relative;z-index: 1;}#sk-container-id-42 div.sk-parallel {display: flex;align-items: stretch;justify-content: center;background-color: white;position: relative;}#sk-container-id-42 div.sk-item::before, #sk-container-id-42 div.sk-parallel-item::before {content: \"\";position: absolute;border-left: 1px solid gray;box-sizing: border-box;top: 0;bottom: 0;left: 50%;z-index: -1;}#sk-container-id-42 div.sk-parallel-item {display: flex;flex-direction: column;z-index: 1;position: relative;background-color: white;}#sk-container-id-42 div.sk-parallel-item:first-child::after {align-self: flex-end;width: 50%;}#sk-container-id-42 div.sk-parallel-item:last-child::after {align-self: flex-start;width: 50%;}#sk-container-id-42 div.sk-parallel-item:only-child::after {width: 0;}#sk-container-id-42 div.sk-dashed-wrapped {border: 1px dashed gray;margin: 0 0.4em 0.5em 0.4em;box-sizing: border-box;padding-bottom: 0.4em;background-color: white;}#sk-container-id-42 div.sk-label label {font-family: monospace;font-weight: bold;display: inline-block;line-height: 1.2em;}#sk-container-id-42 div.sk-label-container {text-align: center;}#sk-container-id-42 div.sk-container {/* jupyter's `normalize.less` sets `[hidden] { display: none; }` but bootstrap.min.css set `[hidden] { display: none !important; }` so we also need the `!important` here to be able to override the default hidden behavior on the sphinx rendered scikit-learn.org. See: https://github.com/scikit-learn/scikit-learn/issues/21755 */display: inline-block !important;position: relative;}#sk-container-id-42 div.sk-text-repr-fallback {display: none;}</style><div id=\"sk-container-id-42\" class=\"sk-top-container\"><div class=\"sk-text-repr-fallback\"><pre>RandomizedSearchCV(cv=10, estimator=GradientBoostingRegressor(), n_jobs=-1,\n",
       "                   param_distributions={&#x27;learning_rate&#x27;: [0.1, 0.01, 0.2, 0.3,\n",
       "                                                          1],\n",
       "                                        &#x27;loss&#x27;: [&#x27;squared_error&#x27;,\n",
       "                                                 &#x27;absolute_error&#x27;, &#x27;huber&#x27;,\n",
       "                                                 &#x27;quantile&#x27;],\n",
       "                                        &#x27;max_depth&#x27;: [3, 4, 5, 6, 1, 2],\n",
       "                                        &#x27;max_features&#x27;: [0.5, 0.6, 0.75],\n",
       "                                        &#x27;random_state&#x27;: [1, 2, 4, 5, 10]},\n",
       "                   scoring=&#x27;r2&#x27;, verbose=2)</pre><b>In a Jupyter environment, please rerun this cell to show the HTML representation or trust the notebook. <br />On GitHub, the HTML representation is unable to render, please try loading this page with nbviewer.org.</b></div><div class=\"sk-container\" hidden><div class=\"sk-item sk-dashed-wrapped\"><div class=\"sk-label-container\"><div class=\"sk-label sk-toggleable\"><input class=\"sk-toggleable__control sk-hidden--visually\" id=\"sk-estimator-id-90\" type=\"checkbox\" ><label for=\"sk-estimator-id-90\" class=\"sk-toggleable__label sk-toggleable__label-arrow\">RandomizedSearchCV</label><div class=\"sk-toggleable__content\"><pre>RandomizedSearchCV(cv=10, estimator=GradientBoostingRegressor(), n_jobs=-1,\n",
       "                   param_distributions={&#x27;learning_rate&#x27;: [0.1, 0.01, 0.2, 0.3,\n",
       "                                                          1],\n",
       "                                        &#x27;loss&#x27;: [&#x27;squared_error&#x27;,\n",
       "                                                 &#x27;absolute_error&#x27;, &#x27;huber&#x27;,\n",
       "                                                 &#x27;quantile&#x27;],\n",
       "                                        &#x27;max_depth&#x27;: [3, 4, 5, 6, 1, 2],\n",
       "                                        &#x27;max_features&#x27;: [0.5, 0.6, 0.75],\n",
       "                                        &#x27;random_state&#x27;: [1, 2, 4, 5, 10]},\n",
       "                   scoring=&#x27;r2&#x27;, verbose=2)</pre></div></div></div><div class=\"sk-parallel\"><div class=\"sk-parallel-item\"><div class=\"sk-item\"><div class=\"sk-label-container\"><div class=\"sk-label sk-toggleable\"><input class=\"sk-toggleable__control sk-hidden--visually\" id=\"sk-estimator-id-91\" type=\"checkbox\" ><label for=\"sk-estimator-id-91\" class=\"sk-toggleable__label sk-toggleable__label-arrow\">estimator: GradientBoostingRegressor</label><div class=\"sk-toggleable__content\"><pre>GradientBoostingRegressor()</pre></div></div></div><div class=\"sk-serial\"><div class=\"sk-item\"><div class=\"sk-estimator sk-toggleable\"><input class=\"sk-toggleable__control sk-hidden--visually\" id=\"sk-estimator-id-92\" type=\"checkbox\" ><label for=\"sk-estimator-id-92\" class=\"sk-toggleable__label sk-toggleable__label-arrow\">GradientBoostingRegressor</label><div class=\"sk-toggleable__content\"><pre>GradientBoostingRegressor()</pre></div></div></div></div></div></div></div></div></div></div>"
      ],
      "text/plain": [
       "RandomizedSearchCV(cv=10, estimator=GradientBoostingRegressor(), n_jobs=-1,\n",
       "                   param_distributions={'learning_rate': [0.1, 0.01, 0.2, 0.3,\n",
       "                                                          1],\n",
       "                                        'loss': ['squared_error',\n",
       "                                                 'absolute_error', 'huber',\n",
       "                                                 'quantile'],\n",
       "                                        'max_depth': [3, 4, 5, 6, 1, 2],\n",
       "                                        'max_features': [0.5, 0.6, 0.75],\n",
       "                                        'random_state': [1, 2, 4, 5, 10]},\n",
       "                   scoring='r2', verbose=2)"
      ]
     },
     "execution_count": 882,
     "metadata": {},
     "output_type": "execute_result"
    }
   ],
   "source": [
    "gdb_grid.fit(X,y)"
   ]
  },
  {
   "cell_type": "code",
   "execution_count": 953,
   "id": "48ddffed",
   "metadata": {},
   "outputs": [
    {
     "data": {
      "text/plain": [
       "0.8741745073333387"
      ]
     },
     "execution_count": 953,
     "metadata": {},
     "output_type": "execute_result"
    }
   ],
   "source": [
    "gdb_grid.best_score_"
   ]
  },
  {
   "cell_type": "code",
   "execution_count": null,
   "id": "c79c51ec",
   "metadata": {},
   "outputs": [],
   "source": []
  },
  {
   "cell_type": "code",
   "execution_count": 884,
   "id": "3cee6b61",
   "metadata": {},
   "outputs": [
    {
     "data": {
      "text/html": [
       "<style>#sk-container-id-43 {color: black;background-color: white;}#sk-container-id-43 pre{padding: 0;}#sk-container-id-43 div.sk-toggleable {background-color: white;}#sk-container-id-43 label.sk-toggleable__label {cursor: pointer;display: block;width: 100%;margin-bottom: 0;padding: 0.3em;box-sizing: border-box;text-align: center;}#sk-container-id-43 label.sk-toggleable__label-arrow:before {content: \"▸\";float: left;margin-right: 0.25em;color: #696969;}#sk-container-id-43 label.sk-toggleable__label-arrow:hover:before {color: black;}#sk-container-id-43 div.sk-estimator:hover label.sk-toggleable__label-arrow:before {color: black;}#sk-container-id-43 div.sk-toggleable__content {max-height: 0;max-width: 0;overflow: hidden;text-align: left;background-color: #f0f8ff;}#sk-container-id-43 div.sk-toggleable__content pre {margin: 0.2em;color: black;border-radius: 0.25em;background-color: #f0f8ff;}#sk-container-id-43 input.sk-toggleable__control:checked~div.sk-toggleable__content {max-height: 200px;max-width: 100%;overflow: auto;}#sk-container-id-43 input.sk-toggleable__control:checked~label.sk-toggleable__label-arrow:before {content: \"▾\";}#sk-container-id-43 div.sk-estimator input.sk-toggleable__control:checked~label.sk-toggleable__label {background-color: #d4ebff;}#sk-container-id-43 div.sk-label input.sk-toggleable__control:checked~label.sk-toggleable__label {background-color: #d4ebff;}#sk-container-id-43 input.sk-hidden--visually {border: 0;clip: rect(1px 1px 1px 1px);clip: rect(1px, 1px, 1px, 1px);height: 1px;margin: -1px;overflow: hidden;padding: 0;position: absolute;width: 1px;}#sk-container-id-43 div.sk-estimator {font-family: monospace;background-color: #f0f8ff;border: 1px dotted black;border-radius: 0.25em;box-sizing: border-box;margin-bottom: 0.5em;}#sk-container-id-43 div.sk-estimator:hover {background-color: #d4ebff;}#sk-container-id-43 div.sk-parallel-item::after {content: \"\";width: 100%;border-bottom: 1px solid gray;flex-grow: 1;}#sk-container-id-43 div.sk-label:hover label.sk-toggleable__label {background-color: #d4ebff;}#sk-container-id-43 div.sk-serial::before {content: \"\";position: absolute;border-left: 1px solid gray;box-sizing: border-box;top: 0;bottom: 0;left: 50%;z-index: 0;}#sk-container-id-43 div.sk-serial {display: flex;flex-direction: column;align-items: center;background-color: white;padding-right: 0.2em;padding-left: 0.2em;position: relative;}#sk-container-id-43 div.sk-item {position: relative;z-index: 1;}#sk-container-id-43 div.sk-parallel {display: flex;align-items: stretch;justify-content: center;background-color: white;position: relative;}#sk-container-id-43 div.sk-item::before, #sk-container-id-43 div.sk-parallel-item::before {content: \"\";position: absolute;border-left: 1px solid gray;box-sizing: border-box;top: 0;bottom: 0;left: 50%;z-index: -1;}#sk-container-id-43 div.sk-parallel-item {display: flex;flex-direction: column;z-index: 1;position: relative;background-color: white;}#sk-container-id-43 div.sk-parallel-item:first-child::after {align-self: flex-end;width: 50%;}#sk-container-id-43 div.sk-parallel-item:last-child::after {align-self: flex-start;width: 50%;}#sk-container-id-43 div.sk-parallel-item:only-child::after {width: 0;}#sk-container-id-43 div.sk-dashed-wrapped {border: 1px dashed gray;margin: 0 0.4em 0.5em 0.4em;box-sizing: border-box;padding-bottom: 0.4em;background-color: white;}#sk-container-id-43 div.sk-label label {font-family: monospace;font-weight: bold;display: inline-block;line-height: 1.2em;}#sk-container-id-43 div.sk-label-container {text-align: center;}#sk-container-id-43 div.sk-container {/* jupyter's `normalize.less` sets `[hidden] { display: none; }` but bootstrap.min.css set `[hidden] { display: none !important; }` so we also need the `!important` here to be able to override the default hidden behavior on the sphinx rendered scikit-learn.org. See: https://github.com/scikit-learn/scikit-learn/issues/21755 */display: inline-block !important;position: relative;}#sk-container-id-43 div.sk-text-repr-fallback {display: none;}</style><div id=\"sk-container-id-43\" class=\"sk-top-container\"><div class=\"sk-text-repr-fallback\"><pre>GradientBoostingRegressor(learning_rate=0.3, loss=&#x27;huber&#x27;, max_depth=4,\n",
       "                          max_features=0.5, random_state=5)</pre><b>In a Jupyter environment, please rerun this cell to show the HTML representation or trust the notebook. <br />On GitHub, the HTML representation is unable to render, please try loading this page with nbviewer.org.</b></div><div class=\"sk-container\" hidden><div class=\"sk-item\"><div class=\"sk-estimator sk-toggleable\"><input class=\"sk-toggleable__control sk-hidden--visually\" id=\"sk-estimator-id-93\" type=\"checkbox\" checked><label for=\"sk-estimator-id-93\" class=\"sk-toggleable__label sk-toggleable__label-arrow\">GradientBoostingRegressor</label><div class=\"sk-toggleable__content\"><pre>GradientBoostingRegressor(learning_rate=0.3, loss=&#x27;huber&#x27;, max_depth=4,\n",
       "                          max_features=0.5, random_state=5)</pre></div></div></div></div></div>"
      ],
      "text/plain": [
       "GradientBoostingRegressor(learning_rate=0.3, loss='huber', max_depth=4,\n",
       "                          max_features=0.5, random_state=5)"
      ]
     },
     "execution_count": 884,
     "metadata": {},
     "output_type": "execute_result"
    }
   ],
   "source": [
    "gdb_grid.best_estimator_"
   ]
  },
  {
   "cell_type": "code",
   "execution_count": null,
   "id": "6c0a1360",
   "metadata": {},
   "outputs": [],
   "source": []
  },
  {
   "cell_type": "markdown",
   "id": "d97ab159",
   "metadata": {},
   "source": [
    "# extra trees"
   ]
  },
  {
   "cell_type": "code",
   "execution_count": null,
   "id": "f7f6900a",
   "metadata": {},
   "outputs": [],
   "source": []
  },
  {
   "cell_type": "code",
   "execution_count": 839,
   "id": "e96d964f",
   "metadata": {},
   "outputs": [],
   "source": [
    "n_estimators=[100,150,120,200,250,300]\n",
    "criterion=[\"squared_error\", \"absolute_error\", \"friedman_mse\", \"poisson\"]\n",
    "max_depth=[None,8,10,12,15,20]\n",
    "max_features=[0.5,0.6,0.75,0.8,0.9,1]\n",
    "bootstrap=[True,False]\n",
    "random_state=[1,2,3,4,5,6,7,8,9,10]"
   ]
  },
  {
   "cell_type": "code",
   "execution_count": 840,
   "id": "b651ec3b",
   "metadata": {},
   "outputs": [],
   "source": [
    "param_grid4={\n",
    "    'n_estimators':n_estimators,\n",
    "    'criterion':criterion,\n",
    "    'max_depth':max_depth,\n",
    "    'max_features':max_features,\n",
    "    'bootstrap':bootstrap,\n",
    "    'random_state':random_state\n",
    "}"
   ]
  },
  {
   "cell_type": "code",
   "execution_count": 848,
   "id": "c3ee2b24",
   "metadata": {},
   "outputs": [],
   "source": [
    "extra_grid=RandomizedSearchCV(ExtraTreesRegressor(),scoring='r2',param_distributions=param_grid4,cv=10,n_jobs=-1,verbose=2)"
   ]
  },
  {
   "cell_type": "code",
   "execution_count": 849,
   "id": "82a4e42b",
   "metadata": {},
   "outputs": [
    {
     "name": "stdout",
     "output_type": "stream",
     "text": [
      "Fitting 10 folds for each of 10 candidates, totalling 100 fits\n"
     ]
    },
    {
     "data": {
      "text/html": [
       "<style>#sk-container-id-34 {color: black;background-color: white;}#sk-container-id-34 pre{padding: 0;}#sk-container-id-34 div.sk-toggleable {background-color: white;}#sk-container-id-34 label.sk-toggleable__label {cursor: pointer;display: block;width: 100%;margin-bottom: 0;padding: 0.3em;box-sizing: border-box;text-align: center;}#sk-container-id-34 label.sk-toggleable__label-arrow:before {content: \"▸\";float: left;margin-right: 0.25em;color: #696969;}#sk-container-id-34 label.sk-toggleable__label-arrow:hover:before {color: black;}#sk-container-id-34 div.sk-estimator:hover label.sk-toggleable__label-arrow:before {color: black;}#sk-container-id-34 div.sk-toggleable__content {max-height: 0;max-width: 0;overflow: hidden;text-align: left;background-color: #f0f8ff;}#sk-container-id-34 div.sk-toggleable__content pre {margin: 0.2em;color: black;border-radius: 0.25em;background-color: #f0f8ff;}#sk-container-id-34 input.sk-toggleable__control:checked~div.sk-toggleable__content {max-height: 200px;max-width: 100%;overflow: auto;}#sk-container-id-34 input.sk-toggleable__control:checked~label.sk-toggleable__label-arrow:before {content: \"▾\";}#sk-container-id-34 div.sk-estimator input.sk-toggleable__control:checked~label.sk-toggleable__label {background-color: #d4ebff;}#sk-container-id-34 div.sk-label input.sk-toggleable__control:checked~label.sk-toggleable__label {background-color: #d4ebff;}#sk-container-id-34 input.sk-hidden--visually {border: 0;clip: rect(1px 1px 1px 1px);clip: rect(1px, 1px, 1px, 1px);height: 1px;margin: -1px;overflow: hidden;padding: 0;position: absolute;width: 1px;}#sk-container-id-34 div.sk-estimator {font-family: monospace;background-color: #f0f8ff;border: 1px dotted black;border-radius: 0.25em;box-sizing: border-box;margin-bottom: 0.5em;}#sk-container-id-34 div.sk-estimator:hover {background-color: #d4ebff;}#sk-container-id-34 div.sk-parallel-item::after {content: \"\";width: 100%;border-bottom: 1px solid gray;flex-grow: 1;}#sk-container-id-34 div.sk-label:hover label.sk-toggleable__label {background-color: #d4ebff;}#sk-container-id-34 div.sk-serial::before {content: \"\";position: absolute;border-left: 1px solid gray;box-sizing: border-box;top: 0;bottom: 0;left: 50%;z-index: 0;}#sk-container-id-34 div.sk-serial {display: flex;flex-direction: column;align-items: center;background-color: white;padding-right: 0.2em;padding-left: 0.2em;position: relative;}#sk-container-id-34 div.sk-item {position: relative;z-index: 1;}#sk-container-id-34 div.sk-parallel {display: flex;align-items: stretch;justify-content: center;background-color: white;position: relative;}#sk-container-id-34 div.sk-item::before, #sk-container-id-34 div.sk-parallel-item::before {content: \"\";position: absolute;border-left: 1px solid gray;box-sizing: border-box;top: 0;bottom: 0;left: 50%;z-index: -1;}#sk-container-id-34 div.sk-parallel-item {display: flex;flex-direction: column;z-index: 1;position: relative;background-color: white;}#sk-container-id-34 div.sk-parallel-item:first-child::after {align-self: flex-end;width: 50%;}#sk-container-id-34 div.sk-parallel-item:last-child::after {align-self: flex-start;width: 50%;}#sk-container-id-34 div.sk-parallel-item:only-child::after {width: 0;}#sk-container-id-34 div.sk-dashed-wrapped {border: 1px dashed gray;margin: 0 0.4em 0.5em 0.4em;box-sizing: border-box;padding-bottom: 0.4em;background-color: white;}#sk-container-id-34 div.sk-label label {font-family: monospace;font-weight: bold;display: inline-block;line-height: 1.2em;}#sk-container-id-34 div.sk-label-container {text-align: center;}#sk-container-id-34 div.sk-container {/* jupyter's `normalize.less` sets `[hidden] { display: none; }` but bootstrap.min.css set `[hidden] { display: none !important; }` so we also need the `!important` here to be able to override the default hidden behavior on the sphinx rendered scikit-learn.org. See: https://github.com/scikit-learn/scikit-learn/issues/21755 */display: inline-block !important;position: relative;}#sk-container-id-34 div.sk-text-repr-fallback {display: none;}</style><div id=\"sk-container-id-34\" class=\"sk-top-container\"><div class=\"sk-text-repr-fallback\"><pre>RandomizedSearchCV(cv=10, estimator=ExtraTreesRegressor(), n_jobs=-1,\n",
       "                   param_distributions={&#x27;bootstrap&#x27;: [True, False],\n",
       "                                        &#x27;criterion&#x27;: [&#x27;squared_error&#x27;,\n",
       "                                                      &#x27;absolute_error&#x27;,\n",
       "                                                      &#x27;friedman_mse&#x27;,\n",
       "                                                      &#x27;poisson&#x27;],\n",
       "                                        &#x27;max_depth&#x27;: [None, 8, 10, 12, 15, 20],\n",
       "                                        &#x27;max_features&#x27;: [0.5, 0.6, 0.75, 0.8,\n",
       "                                                         0.9, 1],\n",
       "                                        &#x27;n_estimators&#x27;: [100, 150, 120, 200,\n",
       "                                                         250, 300],\n",
       "                                        &#x27;random_state&#x27;: [1, 2, 3, 4, 5, 6, 7, 8,\n",
       "                                                         9, 10]},\n",
       "                   scoring=&#x27;r2&#x27;, verbose=2)</pre><b>In a Jupyter environment, please rerun this cell to show the HTML representation or trust the notebook. <br />On GitHub, the HTML representation is unable to render, please try loading this page with nbviewer.org.</b></div><div class=\"sk-container\" hidden><div class=\"sk-item sk-dashed-wrapped\"><div class=\"sk-label-container\"><div class=\"sk-label sk-toggleable\"><input class=\"sk-toggleable__control sk-hidden--visually\" id=\"sk-estimator-id-78\" type=\"checkbox\" ><label for=\"sk-estimator-id-78\" class=\"sk-toggleable__label sk-toggleable__label-arrow\">RandomizedSearchCV</label><div class=\"sk-toggleable__content\"><pre>RandomizedSearchCV(cv=10, estimator=ExtraTreesRegressor(), n_jobs=-1,\n",
       "                   param_distributions={&#x27;bootstrap&#x27;: [True, False],\n",
       "                                        &#x27;criterion&#x27;: [&#x27;squared_error&#x27;,\n",
       "                                                      &#x27;absolute_error&#x27;,\n",
       "                                                      &#x27;friedman_mse&#x27;,\n",
       "                                                      &#x27;poisson&#x27;],\n",
       "                                        &#x27;max_depth&#x27;: [None, 8, 10, 12, 15, 20],\n",
       "                                        &#x27;max_features&#x27;: [0.5, 0.6, 0.75, 0.8,\n",
       "                                                         0.9, 1],\n",
       "                                        &#x27;n_estimators&#x27;: [100, 150, 120, 200,\n",
       "                                                         250, 300],\n",
       "                                        &#x27;random_state&#x27;: [1, 2, 3, 4, 5, 6, 7, 8,\n",
       "                                                         9, 10]},\n",
       "                   scoring=&#x27;r2&#x27;, verbose=2)</pre></div></div></div><div class=\"sk-parallel\"><div class=\"sk-parallel-item\"><div class=\"sk-item\"><div class=\"sk-label-container\"><div class=\"sk-label sk-toggleable\"><input class=\"sk-toggleable__control sk-hidden--visually\" id=\"sk-estimator-id-79\" type=\"checkbox\" ><label for=\"sk-estimator-id-79\" class=\"sk-toggleable__label sk-toggleable__label-arrow\">estimator: ExtraTreesRegressor</label><div class=\"sk-toggleable__content\"><pre>ExtraTreesRegressor()</pre></div></div></div><div class=\"sk-serial\"><div class=\"sk-item\"><div class=\"sk-estimator sk-toggleable\"><input class=\"sk-toggleable__control sk-hidden--visually\" id=\"sk-estimator-id-80\" type=\"checkbox\" ><label for=\"sk-estimator-id-80\" class=\"sk-toggleable__label sk-toggleable__label-arrow\">ExtraTreesRegressor</label><div class=\"sk-toggleable__content\"><pre>ExtraTreesRegressor()</pre></div></div></div></div></div></div></div></div></div></div>"
      ],
      "text/plain": [
       "RandomizedSearchCV(cv=10, estimator=ExtraTreesRegressor(), n_jobs=-1,\n",
       "                   param_distributions={'bootstrap': [True, False],\n",
       "                                        'criterion': ['squared_error',\n",
       "                                                      'absolute_error',\n",
       "                                                      'friedman_mse',\n",
       "                                                      'poisson'],\n",
       "                                        'max_depth': [None, 8, 10, 12, 15, 20],\n",
       "                                        'max_features': [0.5, 0.6, 0.75, 0.8,\n",
       "                                                         0.9, 1],\n",
       "                                        'n_estimators': [100, 150, 120, 200,\n",
       "                                                         250, 300],\n",
       "                                        'random_state': [1, 2, 3, 4, 5, 6, 7, 8,\n",
       "                                                         9, 10]},\n",
       "                   scoring='r2', verbose=2)"
      ]
     },
     "execution_count": 849,
     "metadata": {},
     "output_type": "execute_result"
    }
   ],
   "source": [
    "extra_grid.fit(X,y)"
   ]
  },
  {
   "cell_type": "code",
   "execution_count": 956,
   "id": "bc5237fe",
   "metadata": {},
   "outputs": [
    {
     "data": {
      "text/plain": [
       "0.8571157249870573"
      ]
     },
     "execution_count": 956,
     "metadata": {},
     "output_type": "execute_result"
    }
   ],
   "source": [
    "extra_grid.best_score_"
   ]
  },
  {
   "cell_type": "code",
   "execution_count": null,
   "id": "af544f35",
   "metadata": {},
   "outputs": [],
   "source": []
  },
  {
   "cell_type": "code",
   "execution_count": null,
   "id": "62c767ad",
   "metadata": {},
   "outputs": [],
   "source": []
  },
  {
   "cell_type": "code",
   "execution_count": 886,
   "id": "84864bc7",
   "metadata": {},
   "outputs": [
    {
     "data": {
      "text/html": [
       "<style>#sk-container-id-44 {color: black;background-color: white;}#sk-container-id-44 pre{padding: 0;}#sk-container-id-44 div.sk-toggleable {background-color: white;}#sk-container-id-44 label.sk-toggleable__label {cursor: pointer;display: block;width: 100%;margin-bottom: 0;padding: 0.3em;box-sizing: border-box;text-align: center;}#sk-container-id-44 label.sk-toggleable__label-arrow:before {content: \"▸\";float: left;margin-right: 0.25em;color: #696969;}#sk-container-id-44 label.sk-toggleable__label-arrow:hover:before {color: black;}#sk-container-id-44 div.sk-estimator:hover label.sk-toggleable__label-arrow:before {color: black;}#sk-container-id-44 div.sk-toggleable__content {max-height: 0;max-width: 0;overflow: hidden;text-align: left;background-color: #f0f8ff;}#sk-container-id-44 div.sk-toggleable__content pre {margin: 0.2em;color: black;border-radius: 0.25em;background-color: #f0f8ff;}#sk-container-id-44 input.sk-toggleable__control:checked~div.sk-toggleable__content {max-height: 200px;max-width: 100%;overflow: auto;}#sk-container-id-44 input.sk-toggleable__control:checked~label.sk-toggleable__label-arrow:before {content: \"▾\";}#sk-container-id-44 div.sk-estimator input.sk-toggleable__control:checked~label.sk-toggleable__label {background-color: #d4ebff;}#sk-container-id-44 div.sk-label input.sk-toggleable__control:checked~label.sk-toggleable__label {background-color: #d4ebff;}#sk-container-id-44 input.sk-hidden--visually {border: 0;clip: rect(1px 1px 1px 1px);clip: rect(1px, 1px, 1px, 1px);height: 1px;margin: -1px;overflow: hidden;padding: 0;position: absolute;width: 1px;}#sk-container-id-44 div.sk-estimator {font-family: monospace;background-color: #f0f8ff;border: 1px dotted black;border-radius: 0.25em;box-sizing: border-box;margin-bottom: 0.5em;}#sk-container-id-44 div.sk-estimator:hover {background-color: #d4ebff;}#sk-container-id-44 div.sk-parallel-item::after {content: \"\";width: 100%;border-bottom: 1px solid gray;flex-grow: 1;}#sk-container-id-44 div.sk-label:hover label.sk-toggleable__label {background-color: #d4ebff;}#sk-container-id-44 div.sk-serial::before {content: \"\";position: absolute;border-left: 1px solid gray;box-sizing: border-box;top: 0;bottom: 0;left: 50%;z-index: 0;}#sk-container-id-44 div.sk-serial {display: flex;flex-direction: column;align-items: center;background-color: white;padding-right: 0.2em;padding-left: 0.2em;position: relative;}#sk-container-id-44 div.sk-item {position: relative;z-index: 1;}#sk-container-id-44 div.sk-parallel {display: flex;align-items: stretch;justify-content: center;background-color: white;position: relative;}#sk-container-id-44 div.sk-item::before, #sk-container-id-44 div.sk-parallel-item::before {content: \"\";position: absolute;border-left: 1px solid gray;box-sizing: border-box;top: 0;bottom: 0;left: 50%;z-index: -1;}#sk-container-id-44 div.sk-parallel-item {display: flex;flex-direction: column;z-index: 1;position: relative;background-color: white;}#sk-container-id-44 div.sk-parallel-item:first-child::after {align-self: flex-end;width: 50%;}#sk-container-id-44 div.sk-parallel-item:last-child::after {align-self: flex-start;width: 50%;}#sk-container-id-44 div.sk-parallel-item:only-child::after {width: 0;}#sk-container-id-44 div.sk-dashed-wrapped {border: 1px dashed gray;margin: 0 0.4em 0.5em 0.4em;box-sizing: border-box;padding-bottom: 0.4em;background-color: white;}#sk-container-id-44 div.sk-label label {font-family: monospace;font-weight: bold;display: inline-block;line-height: 1.2em;}#sk-container-id-44 div.sk-label-container {text-align: center;}#sk-container-id-44 div.sk-container {/* jupyter's `normalize.less` sets `[hidden] { display: none; }` but bootstrap.min.css set `[hidden] { display: none !important; }` so we also need the `!important` here to be able to override the default hidden behavior on the sphinx rendered scikit-learn.org. See: https://github.com/scikit-learn/scikit-learn/issues/21755 */display: inline-block !important;position: relative;}#sk-container-id-44 div.sk-text-repr-fallback {display: none;}</style><div id=\"sk-container-id-44\" class=\"sk-top-container\"><div class=\"sk-text-repr-fallback\"><pre>ExtraTreesRegressor(bootstrap=True, criterion=&#x27;absolute_error&#x27;, max_depth=15,\n",
       "                    max_features=0.9, n_estimators=150, random_state=8)</pre><b>In a Jupyter environment, please rerun this cell to show the HTML representation or trust the notebook. <br />On GitHub, the HTML representation is unable to render, please try loading this page with nbviewer.org.</b></div><div class=\"sk-container\" hidden><div class=\"sk-item\"><div class=\"sk-estimator sk-toggleable\"><input class=\"sk-toggleable__control sk-hidden--visually\" id=\"sk-estimator-id-94\" type=\"checkbox\" checked><label for=\"sk-estimator-id-94\" class=\"sk-toggleable__label sk-toggleable__label-arrow\">ExtraTreesRegressor</label><div class=\"sk-toggleable__content\"><pre>ExtraTreesRegressor(bootstrap=True, criterion=&#x27;absolute_error&#x27;, max_depth=15,\n",
       "                    max_features=0.9, n_estimators=150, random_state=8)</pre></div></div></div></div></div>"
      ],
      "text/plain": [
       "ExtraTreesRegressor(bootstrap=True, criterion='absolute_error', max_depth=15,\n",
       "                    max_features=0.9, n_estimators=150, random_state=8)"
      ]
     },
     "execution_count": 886,
     "metadata": {},
     "output_type": "execute_result"
    }
   ],
   "source": [
    "extra_grid.best_estimator_"
   ]
  },
  {
   "cell_type": "code",
   "execution_count": 887,
   "id": "70c40582",
   "metadata": {},
   "outputs": [
    {
     "data": {
      "text/plain": [
       "{'random_state': 8,\n",
       " 'n_estimators': 150,\n",
       " 'max_features': 0.9,\n",
       " 'max_depth': 15,\n",
       " 'criterion': 'absolute_error',\n",
       " 'bootstrap': True}"
      ]
     },
     "execution_count": 887,
     "metadata": {},
     "output_type": "execute_result"
    }
   ],
   "source": [
    "extra_grid.best_params_"
   ]
  },
  {
   "cell_type": "markdown",
   "id": "540687a3",
   "metadata": {},
   "source": [
    "# SVM"
   ]
  },
  {
   "cell_type": "code",
   "execution_count": 855,
   "id": "1974bb76",
   "metadata": {},
   "outputs": [],
   "source": [
    "C=[0.1,0.01,0.001,1,0.5]\n",
    "degree=[1,2,3,4,5,6,7,8,9]\n",
    "kernel=['rbf','poly']"
   ]
  },
  {
   "cell_type": "code",
   "execution_count": 856,
   "id": "7a2b3ed7",
   "metadata": {},
   "outputs": [],
   "source": [
    "param_grid5={\n",
    "    'C':C,\n",
    "    'degree':degree,\n",
    "    'kernel':kernel\n",
    "}"
   ]
  },
  {
   "cell_type": "code",
   "execution_count": 857,
   "id": "2076fed3",
   "metadata": {},
   "outputs": [],
   "source": [
    "svr_grid=GridSearchCV(SVR(),param_grid=param_grid5,scoring='r2',cv=10,n_jobs=-1,verbose=2)"
   ]
  },
  {
   "cell_type": "code",
   "execution_count": 858,
   "id": "bf2845c7",
   "metadata": {},
   "outputs": [
    {
     "name": "stdout",
     "output_type": "stream",
     "text": [
      "Fitting 10 folds for each of 90 candidates, totalling 900 fits\n"
     ]
    },
    {
     "data": {
      "text/html": [
       "<style>#sk-container-id-37 {color: black;background-color: white;}#sk-container-id-37 pre{padding: 0;}#sk-container-id-37 div.sk-toggleable {background-color: white;}#sk-container-id-37 label.sk-toggleable__label {cursor: pointer;display: block;width: 100%;margin-bottom: 0;padding: 0.3em;box-sizing: border-box;text-align: center;}#sk-container-id-37 label.sk-toggleable__label-arrow:before {content: \"▸\";float: left;margin-right: 0.25em;color: #696969;}#sk-container-id-37 label.sk-toggleable__label-arrow:hover:before {color: black;}#sk-container-id-37 div.sk-estimator:hover label.sk-toggleable__label-arrow:before {color: black;}#sk-container-id-37 div.sk-toggleable__content {max-height: 0;max-width: 0;overflow: hidden;text-align: left;background-color: #f0f8ff;}#sk-container-id-37 div.sk-toggleable__content pre {margin: 0.2em;color: black;border-radius: 0.25em;background-color: #f0f8ff;}#sk-container-id-37 input.sk-toggleable__control:checked~div.sk-toggleable__content {max-height: 200px;max-width: 100%;overflow: auto;}#sk-container-id-37 input.sk-toggleable__control:checked~label.sk-toggleable__label-arrow:before {content: \"▾\";}#sk-container-id-37 div.sk-estimator input.sk-toggleable__control:checked~label.sk-toggleable__label {background-color: #d4ebff;}#sk-container-id-37 div.sk-label input.sk-toggleable__control:checked~label.sk-toggleable__label {background-color: #d4ebff;}#sk-container-id-37 input.sk-hidden--visually {border: 0;clip: rect(1px 1px 1px 1px);clip: rect(1px, 1px, 1px, 1px);height: 1px;margin: -1px;overflow: hidden;padding: 0;position: absolute;width: 1px;}#sk-container-id-37 div.sk-estimator {font-family: monospace;background-color: #f0f8ff;border: 1px dotted black;border-radius: 0.25em;box-sizing: border-box;margin-bottom: 0.5em;}#sk-container-id-37 div.sk-estimator:hover {background-color: #d4ebff;}#sk-container-id-37 div.sk-parallel-item::after {content: \"\";width: 100%;border-bottom: 1px solid gray;flex-grow: 1;}#sk-container-id-37 div.sk-label:hover label.sk-toggleable__label {background-color: #d4ebff;}#sk-container-id-37 div.sk-serial::before {content: \"\";position: absolute;border-left: 1px solid gray;box-sizing: border-box;top: 0;bottom: 0;left: 50%;z-index: 0;}#sk-container-id-37 div.sk-serial {display: flex;flex-direction: column;align-items: center;background-color: white;padding-right: 0.2em;padding-left: 0.2em;position: relative;}#sk-container-id-37 div.sk-item {position: relative;z-index: 1;}#sk-container-id-37 div.sk-parallel {display: flex;align-items: stretch;justify-content: center;background-color: white;position: relative;}#sk-container-id-37 div.sk-item::before, #sk-container-id-37 div.sk-parallel-item::before {content: \"\";position: absolute;border-left: 1px solid gray;box-sizing: border-box;top: 0;bottom: 0;left: 50%;z-index: -1;}#sk-container-id-37 div.sk-parallel-item {display: flex;flex-direction: column;z-index: 1;position: relative;background-color: white;}#sk-container-id-37 div.sk-parallel-item:first-child::after {align-self: flex-end;width: 50%;}#sk-container-id-37 div.sk-parallel-item:last-child::after {align-self: flex-start;width: 50%;}#sk-container-id-37 div.sk-parallel-item:only-child::after {width: 0;}#sk-container-id-37 div.sk-dashed-wrapped {border: 1px dashed gray;margin: 0 0.4em 0.5em 0.4em;box-sizing: border-box;padding-bottom: 0.4em;background-color: white;}#sk-container-id-37 div.sk-label label {font-family: monospace;font-weight: bold;display: inline-block;line-height: 1.2em;}#sk-container-id-37 div.sk-label-container {text-align: center;}#sk-container-id-37 div.sk-container {/* jupyter's `normalize.less` sets `[hidden] { display: none; }` but bootstrap.min.css set `[hidden] { display: none !important; }` so we also need the `!important` here to be able to override the default hidden behavior on the sphinx rendered scikit-learn.org. See: https://github.com/scikit-learn/scikit-learn/issues/21755 */display: inline-block !important;position: relative;}#sk-container-id-37 div.sk-text-repr-fallback {display: none;}</style><div id=\"sk-container-id-37\" class=\"sk-top-container\"><div class=\"sk-text-repr-fallback\"><pre>GridSearchCV(cv=10, estimator=SVR(), n_jobs=-1,\n",
       "             param_grid={&#x27;C&#x27;: [0.1, 0.01, 0.001, 1, 0.5],\n",
       "                         &#x27;degree&#x27;: [1, 2, 3, 4, 5, 6, 7, 8, 9],\n",
       "                         &#x27;kernel&#x27;: [&#x27;rbf&#x27;, &#x27;poly&#x27;]},\n",
       "             scoring=&#x27;r2&#x27;, verbose=2)</pre><b>In a Jupyter environment, please rerun this cell to show the HTML representation or trust the notebook. <br />On GitHub, the HTML representation is unable to render, please try loading this page with nbviewer.org.</b></div><div class=\"sk-container\" hidden><div class=\"sk-item sk-dashed-wrapped\"><div class=\"sk-label-container\"><div class=\"sk-label sk-toggleable\"><input class=\"sk-toggleable__control sk-hidden--visually\" id=\"sk-estimator-id-83\" type=\"checkbox\" ><label for=\"sk-estimator-id-83\" class=\"sk-toggleable__label sk-toggleable__label-arrow\">GridSearchCV</label><div class=\"sk-toggleable__content\"><pre>GridSearchCV(cv=10, estimator=SVR(), n_jobs=-1,\n",
       "             param_grid={&#x27;C&#x27;: [0.1, 0.01, 0.001, 1, 0.5],\n",
       "                         &#x27;degree&#x27;: [1, 2, 3, 4, 5, 6, 7, 8, 9],\n",
       "                         &#x27;kernel&#x27;: [&#x27;rbf&#x27;, &#x27;poly&#x27;]},\n",
       "             scoring=&#x27;r2&#x27;, verbose=2)</pre></div></div></div><div class=\"sk-parallel\"><div class=\"sk-parallel-item\"><div class=\"sk-item\"><div class=\"sk-label-container\"><div class=\"sk-label sk-toggleable\"><input class=\"sk-toggleable__control sk-hidden--visually\" id=\"sk-estimator-id-84\" type=\"checkbox\" ><label for=\"sk-estimator-id-84\" class=\"sk-toggleable__label sk-toggleable__label-arrow\">estimator: SVR</label><div class=\"sk-toggleable__content\"><pre>SVR()</pre></div></div></div><div class=\"sk-serial\"><div class=\"sk-item\"><div class=\"sk-estimator sk-toggleable\"><input class=\"sk-toggleable__control sk-hidden--visually\" id=\"sk-estimator-id-85\" type=\"checkbox\" ><label for=\"sk-estimator-id-85\" class=\"sk-toggleable__label sk-toggleable__label-arrow\">SVR</label><div class=\"sk-toggleable__content\"><pre>SVR()</pre></div></div></div></div></div></div></div></div></div></div>"
      ],
      "text/plain": [
       "GridSearchCV(cv=10, estimator=SVR(), n_jobs=-1,\n",
       "             param_grid={'C': [0.1, 0.01, 0.001, 1, 0.5],\n",
       "                         'degree': [1, 2, 3, 4, 5, 6, 7, 8, 9],\n",
       "                         'kernel': ['rbf', 'poly']},\n",
       "             scoring='r2', verbose=2)"
      ]
     },
     "execution_count": 858,
     "metadata": {},
     "output_type": "execute_result"
    }
   ],
   "source": [
    "svr_grid.fit(X,y)"
   ]
  },
  {
   "cell_type": "code",
   "execution_count": 862,
   "id": "e0b9b496",
   "metadata": {},
   "outputs": [
    {
     "data": {
      "text/plain": [
       "{'C': 1, 'degree': 1, 'kernel': 'rbf'}"
      ]
     },
     "execution_count": 862,
     "metadata": {},
     "output_type": "execute_result"
    }
   ],
   "source": [
    "svr_grid.best_params_"
   ]
  },
  {
   "cell_type": "code",
   "execution_count": 959,
   "id": "d7dc768a",
   "metadata": {},
   "outputs": [
    {
     "data": {
      "text/plain": [
       "0.8563801379067261"
      ]
     },
     "execution_count": 959,
     "metadata": {},
     "output_type": "execute_result"
    }
   ],
   "source": [
    "svr_grid.best_score_"
   ]
  },
  {
   "cell_type": "code",
   "execution_count": null,
   "id": "3a9a1e09",
   "metadata": {},
   "outputs": [],
   "source": []
  },
  {
   "cell_type": "code",
   "execution_count": null,
   "id": "abec46d6",
   "metadata": {},
   "outputs": [],
   "source": []
  },
  {
   "cell_type": "markdown",
   "id": "db315060",
   "metadata": {},
   "source": [
    "# for knn"
   ]
  },
  {
   "cell_type": "code",
   "execution_count": 910,
   "id": "2019fb73",
   "metadata": {},
   "outputs": [],
   "source": [
    "n_neighbors=[2,4,5,6,7,8,10]\n",
    "weights=['uniform', 'distance']\n",
    "algorithm=['auto', 'ball_tree', 'kd_tree', 'brute']"
   ]
  },
  {
   "cell_type": "code",
   "execution_count": 912,
   "id": "1490a515",
   "metadata": {},
   "outputs": [],
   "source": [
    "param_grid6={\n",
    "    'n_neighbors':n_neighbors,\n",
    "    'weights':weights,\n",
    "    'algorithm':algorithm\n",
    "}"
   ]
  },
  {
   "cell_type": "code",
   "execution_count": 913,
   "id": "ce420944",
   "metadata": {},
   "outputs": [],
   "source": [
    "knn_grid=GridSearchCV(KNeighborsRegressor(),param_grid=param_grid6,cv=10,scoring='r2',n_jobs=-1,verbose=2)"
   ]
  },
  {
   "cell_type": "code",
   "execution_count": 914,
   "id": "1b16010b",
   "metadata": {},
   "outputs": [
    {
     "name": "stdout",
     "output_type": "stream",
     "text": [
      "Fitting 10 folds for each of 56 candidates, totalling 560 fits\n"
     ]
    },
    {
     "data": {
      "text/html": [
       "<style>#sk-container-id-45 {color: black;background-color: white;}#sk-container-id-45 pre{padding: 0;}#sk-container-id-45 div.sk-toggleable {background-color: white;}#sk-container-id-45 label.sk-toggleable__label {cursor: pointer;display: block;width: 100%;margin-bottom: 0;padding: 0.3em;box-sizing: border-box;text-align: center;}#sk-container-id-45 label.sk-toggleable__label-arrow:before {content: \"▸\";float: left;margin-right: 0.25em;color: #696969;}#sk-container-id-45 label.sk-toggleable__label-arrow:hover:before {color: black;}#sk-container-id-45 div.sk-estimator:hover label.sk-toggleable__label-arrow:before {color: black;}#sk-container-id-45 div.sk-toggleable__content {max-height: 0;max-width: 0;overflow: hidden;text-align: left;background-color: #f0f8ff;}#sk-container-id-45 div.sk-toggleable__content pre {margin: 0.2em;color: black;border-radius: 0.25em;background-color: #f0f8ff;}#sk-container-id-45 input.sk-toggleable__control:checked~div.sk-toggleable__content {max-height: 200px;max-width: 100%;overflow: auto;}#sk-container-id-45 input.sk-toggleable__control:checked~label.sk-toggleable__label-arrow:before {content: \"▾\";}#sk-container-id-45 div.sk-estimator input.sk-toggleable__control:checked~label.sk-toggleable__label {background-color: #d4ebff;}#sk-container-id-45 div.sk-label input.sk-toggleable__control:checked~label.sk-toggleable__label {background-color: #d4ebff;}#sk-container-id-45 input.sk-hidden--visually {border: 0;clip: rect(1px 1px 1px 1px);clip: rect(1px, 1px, 1px, 1px);height: 1px;margin: -1px;overflow: hidden;padding: 0;position: absolute;width: 1px;}#sk-container-id-45 div.sk-estimator {font-family: monospace;background-color: #f0f8ff;border: 1px dotted black;border-radius: 0.25em;box-sizing: border-box;margin-bottom: 0.5em;}#sk-container-id-45 div.sk-estimator:hover {background-color: #d4ebff;}#sk-container-id-45 div.sk-parallel-item::after {content: \"\";width: 100%;border-bottom: 1px solid gray;flex-grow: 1;}#sk-container-id-45 div.sk-label:hover label.sk-toggleable__label {background-color: #d4ebff;}#sk-container-id-45 div.sk-serial::before {content: \"\";position: absolute;border-left: 1px solid gray;box-sizing: border-box;top: 0;bottom: 0;left: 50%;z-index: 0;}#sk-container-id-45 div.sk-serial {display: flex;flex-direction: column;align-items: center;background-color: white;padding-right: 0.2em;padding-left: 0.2em;position: relative;}#sk-container-id-45 div.sk-item {position: relative;z-index: 1;}#sk-container-id-45 div.sk-parallel {display: flex;align-items: stretch;justify-content: center;background-color: white;position: relative;}#sk-container-id-45 div.sk-item::before, #sk-container-id-45 div.sk-parallel-item::before {content: \"\";position: absolute;border-left: 1px solid gray;box-sizing: border-box;top: 0;bottom: 0;left: 50%;z-index: -1;}#sk-container-id-45 div.sk-parallel-item {display: flex;flex-direction: column;z-index: 1;position: relative;background-color: white;}#sk-container-id-45 div.sk-parallel-item:first-child::after {align-self: flex-end;width: 50%;}#sk-container-id-45 div.sk-parallel-item:last-child::after {align-self: flex-start;width: 50%;}#sk-container-id-45 div.sk-parallel-item:only-child::after {width: 0;}#sk-container-id-45 div.sk-dashed-wrapped {border: 1px dashed gray;margin: 0 0.4em 0.5em 0.4em;box-sizing: border-box;padding-bottom: 0.4em;background-color: white;}#sk-container-id-45 div.sk-label label {font-family: monospace;font-weight: bold;display: inline-block;line-height: 1.2em;}#sk-container-id-45 div.sk-label-container {text-align: center;}#sk-container-id-45 div.sk-container {/* jupyter's `normalize.less` sets `[hidden] { display: none; }` but bootstrap.min.css set `[hidden] { display: none !important; }` so we also need the `!important` here to be able to override the default hidden behavior on the sphinx rendered scikit-learn.org. See: https://github.com/scikit-learn/scikit-learn/issues/21755 */display: inline-block !important;position: relative;}#sk-container-id-45 div.sk-text-repr-fallback {display: none;}</style><div id=\"sk-container-id-45\" class=\"sk-top-container\"><div class=\"sk-text-repr-fallback\"><pre>GridSearchCV(cv=10, estimator=KNeighborsRegressor(), n_jobs=-1,\n",
       "             param_grid={&#x27;algorithm&#x27;: [&#x27;auto&#x27;, &#x27;ball_tree&#x27;, &#x27;kd_tree&#x27;, &#x27;brute&#x27;],\n",
       "                         &#x27;n_neighbors&#x27;: [2, 4, 5, 6, 7, 8, 10],\n",
       "                         &#x27;weights&#x27;: [&#x27;uniform&#x27;, &#x27;distance&#x27;]},\n",
       "             scoring=&#x27;r2&#x27;, verbose=2)</pre><b>In a Jupyter environment, please rerun this cell to show the HTML representation or trust the notebook. <br />On GitHub, the HTML representation is unable to render, please try loading this page with nbviewer.org.</b></div><div class=\"sk-container\" hidden><div class=\"sk-item sk-dashed-wrapped\"><div class=\"sk-label-container\"><div class=\"sk-label sk-toggleable\"><input class=\"sk-toggleable__control sk-hidden--visually\" id=\"sk-estimator-id-95\" type=\"checkbox\" ><label for=\"sk-estimator-id-95\" class=\"sk-toggleable__label sk-toggleable__label-arrow\">GridSearchCV</label><div class=\"sk-toggleable__content\"><pre>GridSearchCV(cv=10, estimator=KNeighborsRegressor(), n_jobs=-1,\n",
       "             param_grid={&#x27;algorithm&#x27;: [&#x27;auto&#x27;, &#x27;ball_tree&#x27;, &#x27;kd_tree&#x27;, &#x27;brute&#x27;],\n",
       "                         &#x27;n_neighbors&#x27;: [2, 4, 5, 6, 7, 8, 10],\n",
       "                         &#x27;weights&#x27;: [&#x27;uniform&#x27;, &#x27;distance&#x27;]},\n",
       "             scoring=&#x27;r2&#x27;, verbose=2)</pre></div></div></div><div class=\"sk-parallel\"><div class=\"sk-parallel-item\"><div class=\"sk-item\"><div class=\"sk-label-container\"><div class=\"sk-label sk-toggleable\"><input class=\"sk-toggleable__control sk-hidden--visually\" id=\"sk-estimator-id-96\" type=\"checkbox\" ><label for=\"sk-estimator-id-96\" class=\"sk-toggleable__label sk-toggleable__label-arrow\">estimator: KNeighborsRegressor</label><div class=\"sk-toggleable__content\"><pre>KNeighborsRegressor()</pre></div></div></div><div class=\"sk-serial\"><div class=\"sk-item\"><div class=\"sk-estimator sk-toggleable\"><input class=\"sk-toggleable__control sk-hidden--visually\" id=\"sk-estimator-id-97\" type=\"checkbox\" ><label for=\"sk-estimator-id-97\" class=\"sk-toggleable__label sk-toggleable__label-arrow\">KNeighborsRegressor</label><div class=\"sk-toggleable__content\"><pre>KNeighborsRegressor()</pre></div></div></div></div></div></div></div></div></div></div>"
      ],
      "text/plain": [
       "GridSearchCV(cv=10, estimator=KNeighborsRegressor(), n_jobs=-1,\n",
       "             param_grid={'algorithm': ['auto', 'ball_tree', 'kd_tree', 'brute'],\n",
       "                         'n_neighbors': [2, 4, 5, 6, 7, 8, 10],\n",
       "                         'weights': ['uniform', 'distance']},\n",
       "             scoring='r2', verbose=2)"
      ]
     },
     "execution_count": 914,
     "metadata": {},
     "output_type": "execute_result"
    }
   ],
   "source": [
    "knn_grid.fit(X,y)"
   ]
  },
  {
   "cell_type": "code",
   "execution_count": 918,
   "id": "c9c7e81b",
   "metadata": {},
   "outputs": [
    {
     "data": {
      "text/html": [
       "<style>#sk-container-id-48 {color: black;background-color: white;}#sk-container-id-48 pre{padding: 0;}#sk-container-id-48 div.sk-toggleable {background-color: white;}#sk-container-id-48 label.sk-toggleable__label {cursor: pointer;display: block;width: 100%;margin-bottom: 0;padding: 0.3em;box-sizing: border-box;text-align: center;}#sk-container-id-48 label.sk-toggleable__label-arrow:before {content: \"▸\";float: left;margin-right: 0.25em;color: #696969;}#sk-container-id-48 label.sk-toggleable__label-arrow:hover:before {color: black;}#sk-container-id-48 div.sk-estimator:hover label.sk-toggleable__label-arrow:before {color: black;}#sk-container-id-48 div.sk-toggleable__content {max-height: 0;max-width: 0;overflow: hidden;text-align: left;background-color: #f0f8ff;}#sk-container-id-48 div.sk-toggleable__content pre {margin: 0.2em;color: black;border-radius: 0.25em;background-color: #f0f8ff;}#sk-container-id-48 input.sk-toggleable__control:checked~div.sk-toggleable__content {max-height: 200px;max-width: 100%;overflow: auto;}#sk-container-id-48 input.sk-toggleable__control:checked~label.sk-toggleable__label-arrow:before {content: \"▾\";}#sk-container-id-48 div.sk-estimator input.sk-toggleable__control:checked~label.sk-toggleable__label {background-color: #d4ebff;}#sk-container-id-48 div.sk-label input.sk-toggleable__control:checked~label.sk-toggleable__label {background-color: #d4ebff;}#sk-container-id-48 input.sk-hidden--visually {border: 0;clip: rect(1px 1px 1px 1px);clip: rect(1px, 1px, 1px, 1px);height: 1px;margin: -1px;overflow: hidden;padding: 0;position: absolute;width: 1px;}#sk-container-id-48 div.sk-estimator {font-family: monospace;background-color: #f0f8ff;border: 1px dotted black;border-radius: 0.25em;box-sizing: border-box;margin-bottom: 0.5em;}#sk-container-id-48 div.sk-estimator:hover {background-color: #d4ebff;}#sk-container-id-48 div.sk-parallel-item::after {content: \"\";width: 100%;border-bottom: 1px solid gray;flex-grow: 1;}#sk-container-id-48 div.sk-label:hover label.sk-toggleable__label {background-color: #d4ebff;}#sk-container-id-48 div.sk-serial::before {content: \"\";position: absolute;border-left: 1px solid gray;box-sizing: border-box;top: 0;bottom: 0;left: 50%;z-index: 0;}#sk-container-id-48 div.sk-serial {display: flex;flex-direction: column;align-items: center;background-color: white;padding-right: 0.2em;padding-left: 0.2em;position: relative;}#sk-container-id-48 div.sk-item {position: relative;z-index: 1;}#sk-container-id-48 div.sk-parallel {display: flex;align-items: stretch;justify-content: center;background-color: white;position: relative;}#sk-container-id-48 div.sk-item::before, #sk-container-id-48 div.sk-parallel-item::before {content: \"\";position: absolute;border-left: 1px solid gray;box-sizing: border-box;top: 0;bottom: 0;left: 50%;z-index: -1;}#sk-container-id-48 div.sk-parallel-item {display: flex;flex-direction: column;z-index: 1;position: relative;background-color: white;}#sk-container-id-48 div.sk-parallel-item:first-child::after {align-self: flex-end;width: 50%;}#sk-container-id-48 div.sk-parallel-item:last-child::after {align-self: flex-start;width: 50%;}#sk-container-id-48 div.sk-parallel-item:only-child::after {width: 0;}#sk-container-id-48 div.sk-dashed-wrapped {border: 1px dashed gray;margin: 0 0.4em 0.5em 0.4em;box-sizing: border-box;padding-bottom: 0.4em;background-color: white;}#sk-container-id-48 div.sk-label label {font-family: monospace;font-weight: bold;display: inline-block;line-height: 1.2em;}#sk-container-id-48 div.sk-label-container {text-align: center;}#sk-container-id-48 div.sk-container {/* jupyter's `normalize.less` sets `[hidden] { display: none; }` but bootstrap.min.css set `[hidden] { display: none !important; }` so we also need the `!important` here to be able to override the default hidden behavior on the sphinx rendered scikit-learn.org. See: https://github.com/scikit-learn/scikit-learn/issues/21755 */display: inline-block !important;position: relative;}#sk-container-id-48 div.sk-text-repr-fallback {display: none;}</style><div id=\"sk-container-id-48\" class=\"sk-top-container\"><div class=\"sk-text-repr-fallback\"><pre>KNeighborsRegressor(algorithm=&#x27;kd_tree&#x27;, weights=&#x27;distance&#x27;)</pre><b>In a Jupyter environment, please rerun this cell to show the HTML representation or trust the notebook. <br />On GitHub, the HTML representation is unable to render, please try loading this page with nbviewer.org.</b></div><div class=\"sk-container\" hidden><div class=\"sk-item\"><div class=\"sk-estimator sk-toggleable\"><input class=\"sk-toggleable__control sk-hidden--visually\" id=\"sk-estimator-id-100\" type=\"checkbox\" checked><label for=\"sk-estimator-id-100\" class=\"sk-toggleable__label sk-toggleable__label-arrow\">KNeighborsRegressor</label><div class=\"sk-toggleable__content\"><pre>KNeighborsRegressor(algorithm=&#x27;kd_tree&#x27;, weights=&#x27;distance&#x27;)</pre></div></div></div></div></div>"
      ],
      "text/plain": [
       "KNeighborsRegressor(algorithm='kd_tree', weights='distance')"
      ]
     },
     "execution_count": 918,
     "metadata": {},
     "output_type": "execute_result"
    }
   ],
   "source": [
    "knn_grid.best_estimator_"
   ]
  },
  {
   "cell_type": "code",
   "execution_count": 919,
   "id": "7bd97f37",
   "metadata": {},
   "outputs": [
    {
     "data": {
      "text/plain": [
       "{'algorithm': 'kd_tree', 'n_neighbors': 5, 'weights': 'distance'}"
      ]
     },
     "execution_count": 919,
     "metadata": {},
     "output_type": "execute_result"
    }
   ],
   "source": [
    "knn_grid.best_params_"
   ]
  },
  {
   "cell_type": "code",
   "execution_count": 976,
   "id": "08bfe062",
   "metadata": {},
   "outputs": [
    {
     "data": {
      "text/plain": [
       "0.8178649175805204"
      ]
     },
     "execution_count": 976,
     "metadata": {},
     "output_type": "execute_result"
    }
   ],
   "source": [
    "knn_grid.best_score_"
   ]
  },
  {
   "cell_type": "code",
   "execution_count": 977,
   "id": "b86d929e",
   "metadata": {},
   "outputs": [
    {
     "data": {
      "text/plain": [
       "[0.8677064776237616,\n",
       " 0.8555700615398288,\n",
       " 0.7921671540198261,\n",
       " 0.8741745073333387,\n",
       " 0.8571157249870573,\n",
       " 0.8563801379067261,\n",
       " 0.8178649175805204]"
      ]
     },
     "execution_count": 977,
     "metadata": {},
     "output_type": "execute_result"
    }
   ],
   "source": [
    "best_score"
   ]
  },
  {
   "cell_type": "markdown",
   "id": "1b351293",
   "metadata": {},
   "source": [
    "# SO,we have the best parameters of all the best performing algorithims"
   ]
  },
  {
   "cell_type": "code",
   "execution_count": 996,
   "id": "fa4348b9",
   "metadata": {},
   "outputs": [],
   "source": [
    "Rf=RandomForestRegressor(random_state= 2,n_estimators= 100,max_samples= 0.5,max_features= 0.9,max_depth= None,bootstrap= True)\n",
    "ADA=AdaBoostRegressor(learning_rate=0.5, loss='square', n_estimators=100)\n",
    "Gdb=GradientBoostingRegressor(learning_rate=0.3, loss='huber', max_depth=4,max_features=0.5, random_state=5)\n",
    "Extra=ExtraTreesRegressor(bootstrap=True, criterion='absolute_error', max_depth=15,max_features=0.9, n_estimators=150, random_state=8)\n",
    "Svr=SVR(C= 1, degree= 1, kernel= 'rbf')\n",
    "Xg=XGBRegressor()\n",
    "KNN=KNeighborsRegressor(algorithm='kd_tree', weights='distance')"
   ]
  },
  {
   "cell_type": "code",
   "execution_count": 990,
   "id": "f9f706ec",
   "metadata": {},
   "outputs": [],
   "source": [
    "esti=[\n",
    "    ('Xg',Xg),\n",
    "    ('Rf',Rf),\n",
    "   # ('ADA',ADA),\n",
    "    ('Gdb',Gdb),\n",
    "    ('Extra',Extra),\n",
    "    ('Svr',Svr),\n",
    "   # ('KNN',KNN)\n",
    "]"
   ]
  },
  {
   "cell_type": "code",
   "execution_count": 991,
   "id": "34c62466",
   "metadata": {},
   "outputs": [],
   "source": [
    "# with uniform weights\n",
    "vr=VotingRegressor(estimators=esti)"
   ]
  },
  {
   "cell_type": "code",
   "execution_count": 993,
   "id": "ed115bbf",
   "metadata": {},
   "outputs": [
    {
     "name": "stderr",
     "output_type": "stream",
     "text": [
      "[Parallel(n_jobs=-1)]: Using backend LokyBackend with 8 concurrent workers.\n",
      "[Parallel(n_jobs=-1)]: Done   7 out of  10 | elapsed:   16.7s remaining:    7.1s\n"
     ]
    },
    {
     "name": "stdout",
     "output_type": "stream",
     "text": [
      "R2_score in Voting Using top 5 models 0.8805309544085127\n"
     ]
    },
    {
     "name": "stderr",
     "output_type": "stream",
     "text": [
      "[Parallel(n_jobs=-1)]: Done  10 out of  10 | elapsed:   28.1s finished\n"
     ]
    }
   ],
   "source": [
    "print(\"R2_score in Voting Using top 5 models\",cross_val_score(vr,X,y,scoring='r2',cv=10,n_jobs=-1,verbose=2).mean())"
   ]
  },
  {
   "cell_type": "markdown",
   "id": "14f5c1ee",
   "metadata": {},
   "source": [
    "# Stacking"
   ]
  },
  {
   "cell_type": "code",
   "execution_count": 995,
   "id": "41897a1d",
   "metadata": {},
   "outputs": [],
   "source": [
    "from sklearn.ensemble import StackingRegressor"
   ]
  },
  {
   "cell_type": "code",
   "execution_count": 1016,
   "id": "17226045",
   "metadata": {},
   "outputs": [],
   "source": [
    "esti2=[\n",
    "    ('Xg',Xg),\n",
    "    ('Rf',Rf),\n",
    "   #('ADA',ADA),\n",
    "    ('Gdb',Gdb),\n",
    "    ('Extra',Extra),\n",
    "    ('Svr',Svr),\n",
    "    #('KNN',KNN)\n",
    "]"
   ]
  },
  {
   "cell_type": "code",
   "execution_count": 1017,
   "id": "f6f8e4ba",
   "metadata": {},
   "outputs": [],
   "source": [
    "St=StackingRegressor(estimators=esti2,final_estimator=RandomForestRegressor(),cv=None)"
   ]
  },
  {
   "cell_type": "code",
   "execution_count": 1018,
   "id": "9384d95c",
   "metadata": {},
   "outputs": [
    {
     "name": "stderr",
     "output_type": "stream",
     "text": [
      "[Parallel(n_jobs=-1)]: Using backend LokyBackend with 8 concurrent workers.\n",
      "[Parallel(n_jobs=-1)]: Done   7 out of  10 | elapsed:  3.5min remaining:  1.5min\n"
     ]
    },
    {
     "name": "stdout",
     "output_type": "stream",
     "text": [
      "R2_score in Stacking Using top models as base estimators & RandomForest as meta model\n",
      " 0.8666218197343436\n"
     ]
    },
    {
     "name": "stderr",
     "output_type": "stream",
     "text": [
      "[Parallel(n_jobs=-1)]: Done  10 out of  10 | elapsed:  6.1min finished\n"
     ]
    }
   ],
   "source": [
    "print(\"R2_score in Stacking Using top models as base estimators & RandomForest as meta model\\n\"\n",
    "      ,cross_val_score(St,X,y,scoring='r2',cv=10,n_jobs=-1,verbose=2).mean())"
   ]
  },
  {
   "cell_type": "code",
   "execution_count": 1014,
   "id": "d1c21520",
   "metadata": {},
   "outputs": [],
   "source": [
    "St2=StackingRegressor(estimators=esti2,final_estimator=LinearRegression(),cv=None)"
   ]
  },
  {
   "cell_type": "code",
   "execution_count": 1015,
   "id": "9468c48a",
   "metadata": {},
   "outputs": [
    {
     "name": "stderr",
     "output_type": "stream",
     "text": [
      "[Parallel(n_jobs=-1)]: Using backend LokyBackend with 8 concurrent workers.\n",
      "[Parallel(n_jobs=-1)]: Done   7 out of  10 | elapsed:   45.8s remaining:   19.6s\n"
     ]
    },
    {
     "name": "stdout",
     "output_type": "stream",
     "text": [
      "R2_score in Stacking Using top models as base estimators & RandomForest as meta model\n",
      " 0.8805309544085127\n"
     ]
    },
    {
     "name": "stderr",
     "output_type": "stream",
     "text": [
      "[Parallel(n_jobs=-1)]: Done  10 out of  10 | elapsed:  1.3min finished\n"
     ]
    }
   ],
   "source": [
    "print(\"R2_score in Stacking Using top models as base estimators & LinearRegression as meta model\\n\"\n",
    "      ,cross_val_score(vr,X,y,scoring='r2',cv=10,n_jobs=-1,verbose=2).mean())"
   ]
  },
  {
   "cell_type": "markdown",
   "id": "91c919a2",
   "metadata": {},
   "source": [
    "# So,now we selecting voting regressor with uniform weight as our final model"
   ]
  },
  {
   "cell_type": "code",
   "execution_count": null,
   "id": "2514ba13",
   "metadata": {},
   "outputs": [],
   "source": []
  }
 ],
 "metadata": {
  "kernelspec": {
   "display_name": "Python 3 (ipykernel)",
   "language": "python",
   "name": "python3"
  },
  "language_info": {
   "codemirror_mode": {
    "name": "ipython",
    "version": 3
   },
   "file_extension": ".py",
   "mimetype": "text/x-python",
   "name": "python",
   "nbconvert_exporter": "python",
   "pygments_lexer": "ipython3",
   "version": "3.10.9"
  }
 },
 "nbformat": 4,
 "nbformat_minor": 5
}
